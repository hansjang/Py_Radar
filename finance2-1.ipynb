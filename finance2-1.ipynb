{
  "nbformat": 4,
  "nbformat_minor": 0,
  "metadata": {
    "colab": {
      "provenance": [],
      "authorship_tag": "ABX9TyO9rfubFX5LZBmA2Mqizc0G",
      "include_colab_link": true
    },
    "kernelspec": {
      "name": "python3",
      "display_name": "Python 3"
    },
    "language_info": {
      "name": "python"
    }
  },
  "cells": [
    {
      "cell_type": "markdown",
      "metadata": {
        "id": "view-in-github",
        "colab_type": "text"
      },
      "source": [
        "<a href=\"https://colab.research.google.com/github/hansjang/Py_Radar/blob/main/finance2-1.ipynb\" target=\"_parent\"><img src=\"https://colab.research.google.com/assets/colab-badge.svg\" alt=\"Open In Colab\"/></a>"
      ]
    },
    {
      "cell_type": "code",
      "execution_count": 1,
      "metadata": {
        "id": "99AmlGf5AAhW"
      },
      "outputs": [],
      "source": [
        "import pandas as pd\n",
        "import numpy as np"
      ]
    },
    {
      "cell_type": "code",
      "source": [
        "df = pd.read_excel('종목데이터_20220405.xlsx')\n",
        "\n",
        "# 소수점 둘째자리\n",
        "pd.options.display.float_format = '{:.2f}'.format\n",
        "\n",
        "# 오른 종목들만 고르기 = change_rate 가 양수인 것\n",
        "cond = df['change_rate'] > 0\n",
        "df = df[cond]\n",
        "\n",
        "# per가 0인 종목들을 제거하기\n",
        "cond = df['per'] > 0\n",
        "df = df[cond]\n",
        "\n",
        "# 순이익 추가하기\n",
        "df['earning'] = df['marketcap']/df['per']\n",
        "\n",
        "# 종가 추가하기\n",
        "df['close'] = df['per'] * df['eps']\n",
        "\n",
        "# date 컬럼 없애기\n",
        "del df['date']\n",
        "\n",
        "# pbr < 1 & marketcap > 1000000000000 & per < 20 추려보기\n",
        "cond = (df['pbr'] < 1) & (df['marketcap'] > 1000000000000) & (df['per'] < 20)\n",
        "df = df[cond]\n",
        "df"
      ],
      "metadata": {
        "id": "WsI9Jm0zDsjO"
      },
      "execution_count": null,
      "outputs": []
    }
  ]
}