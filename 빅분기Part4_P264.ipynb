{
  "nbformat": 4,
  "nbformat_minor": 0,
  "metadata": {
    "colab": {
      "provenance": [],
      "authorship_tag": "ABX9TyP2PicbxnndnnZAtTOdlnBB",
      "include_colab_link": true
    },
    "kernelspec": {
      "name": "python3",
      "display_name": "Python 3"
    },
    "language_info": {
      "name": "python"
    }
  },
  "cells": [
    {
      "cell_type": "markdown",
      "metadata": {
        "id": "view-in-github",
        "colab_type": "text"
      },
      "source": [
        "<a href=\"https://colab.research.google.com/github/hansjang/Py_Radar/blob/main/%EB%B9%85%EB%B6%84%EA%B8%B0Part4_P264.ipynb\" target=\"_parent\"><img src=\"https://colab.research.google.com/assets/colab-badge.svg\" alt=\"Open In Colab\"/></a>"
      ]
    },
    {
      "cell_type": "code",
      "source": [
        "!git clone https://github.com/AnalyticsKnight/yemoonsaBigdata"
      ],
      "metadata": {
        "colab": {
          "base_uri": "https://localhost:8080/"
        },
        "id": "oJLpBJbPpYqv",
        "outputId": "c797517e-2b4c-4094-d7c3-f58133c7edb8"
      },
      "execution_count": 1,
      "outputs": [
        {
          "output_type": "stream",
          "name": "stdout",
          "text": [
            "Cloning into 'yemoonsaBigdata'...\n",
            "remote: Enumerating objects: 709, done.\u001b[K\n",
            "remote: Counting objects: 100% (346/346), done.\u001b[K\n",
            "remote: Compressing objects: 100% (231/231), done.\u001b[K\n",
            "remote: Total 709 (delta 156), reused 237 (delta 115), pack-reused 363 (from 1)\u001b[K\n",
            "Receiving objects: 100% (709/709), 11.46 MiB | 9.07 MiB/s, done.\n",
            "Resolving deltas: 100% (341/341), done.\n"
          ]
        }
      ]
    },
    {
      "cell_type": "markdown",
      "source": [
        "**1.단일표본 T-검정** : Trees 의 Height <BR>\n",
        "- H0 : 평균 75와 같다\n",
        "- H1 : 평균 75와 다르다"
      ],
      "metadata": {
        "id": "8Bm1keZXpPuO"
      }
    },
    {
      "cell_type": "code",
      "execution_count": null,
      "metadata": {
        "id": "yv8fq7gdlXf_",
        "colab": {
          "base_uri": "https://localhost:8080/"
        },
        "outputId": "9b5d9fe7-0483-4d11-eacc-08788447ff73"
      },
      "outputs": [
        {
          "output_type": "stream",
          "name": "stdout",
          "text": [
            "<class 'pandas.core.frame.DataFrame'>\n",
            "RangeIndex: 31 entries, 0 to 30\n",
            "Data columns (total 3 columns):\n",
            " #   Column  Non-Null Count  Dtype  \n",
            "---  ------  --------------  -----  \n",
            " 0   Girth   31 non-null     float64\n",
            " 1   Height  31 non-null     int64  \n",
            " 2   Volume  31 non-null     float64\n",
            "dtypes: float64(2), int64(1)\n",
            "memory usage: 872.0 bytes\n",
            "None\n",
            "           Girth     Height     Volume\n",
            "count  31.000000  31.000000  31.000000\n",
            "mean   13.248387  76.000000  30.170968\n",
            "std     3.138139   6.371813  16.437846\n",
            "min     8.300000  63.000000  10.200000\n",
            "25%    11.050000  72.000000  19.400000\n",
            "50%    12.900000  76.000000  24.200000\n",
            "75%    15.250000  80.000000  37.300000\n",
            "max    20.600000  87.000000  77.000000\n"
          ]
        }
      ],
      "source": [
        "import pandas as pd\n",
        "import numpy as np\n",
        "\n",
        "X_test = pd.read_csv('/content/yemoonsaBigdata/datasets/supplement/trees.csv')\n",
        "print(X_test.info())\n",
        "print(X_test.describe())"
      ]
    },
    {
      "cell_type": "code",
      "source": [
        "# 정규성 검정(shapiro-wilk)\n",
        "# 데이터가 정규 분포를 따르는 지 확인하기 위해서 수행한다.\n",
        "# 많은 통계 기법(t-검정, ANOVA, 회귀 분석 등)들이 데이터가 정규 분포를 따른다는 가정을 전제로 하기 때문이다.\n",
        "\n",
        "from scipy.stats import shapiro\n",
        "\n",
        "stat, p_value = shapiro(X_test['Height'])\n",
        "print('w_stat : ', stat, 'p_value : ', p_value)\n",
        "\n",
        "# Height(높이)의 p-value 가 유의수준 0.05 보다 크므로 정규성을 따를 가능성이 높다."
      ],
      "metadata": {
        "colab": {
          "base_uri": "https://localhost:8080/"
        },
        "id": "PTJQcB-cD4MF",
        "outputId": "d87c2a99-5b0e-4659-b07f-ecdcf8bdb791"
      },
      "execution_count": null,
      "outputs": [
        {
          "output_type": "stream",
          "name": "stdout",
          "text": [
            "w_stat :  0.9654542507200756 p_value :  0.4034181746323222\n"
          ]
        }
      ]
    },
    {
      "cell_type": "code",
      "source": [
        "import scipy.stats as stats\n",
        "from math import sqrt\n",
        "\n",
        "# Height\n",
        "H_mean = X_test['Height'].mean()\n",
        "print(H_mean)"
      ],
      "metadata": {
        "colab": {
          "base_uri": "https://localhost:8080/"
        },
        "id": "-3wzqleTGa5a",
        "outputId": "b6f3055f-d147-4e08-cdb4-a5abdfe1a379"
      },
      "execution_count": null,
      "outputs": [
        {
          "output_type": "stream",
          "name": "stdout",
          "text": [
            "76.0\n"
          ]
        }
      ]
    },
    {
      "cell_type": "code",
      "source": [
        "t_score, p_value = stats.ttest_1samp(X_test['Height'], 75)\n",
        "print('t_score : ', t_score, 'p_value : ', p_value)\n",
        "\n",
        "# p-value 가 유의수준 0.05 보다 크므로 귀무가설(영가설)을 채택한다.\n",
        "# 즉 평균 75와 같다고 볼 수 있다."
      ],
      "metadata": {
        "colab": {
          "base_uri": "https://localhost:8080/"
        },
        "id": "3QOtvl1GLvlK",
        "outputId": "f3128b0f-58df-4196-8a32-951f5e4abb75"
      },
      "execution_count": null,
      "outputs": [
        {
          "output_type": "stream",
          "name": "stdout",
          "text": [
            "t_score :  0.8738116490580545 p_value :  0.38916223357338076\n"
          ]
        }
      ]
    },
    {
      "cell_type": "markdown",
      "source": [
        "**2.독립표본 T-검정** : Toothgrowth"
      ],
      "metadata": {
        "id": "V2mLCJI0Mwbz"
      }
    },
    {
      "cell_type": "code",
      "source": [
        "data = pd.read_csv('/content/yemoonsaBigdata/datasets/supplement/toothgrowth.csv')\n",
        "\n",
        "print(data.info())\n",
        "print(data.describe())\n",
        "print(data['supp'].unique())"
      ],
      "metadata": {
        "colab": {
          "base_uri": "https://localhost:8080/"
        },
        "id": "A0JY4XARNaBH",
        "outputId": "2a1422af-b9b3-465c-d654-2b2706dc6c7c"
      },
      "execution_count": null,
      "outputs": [
        {
          "output_type": "stream",
          "name": "stdout",
          "text": [
            "<class 'pandas.core.frame.DataFrame'>\n",
            "RangeIndex: 60 entries, 0 to 59\n",
            "Data columns (total 3 columns):\n",
            " #   Column  Non-Null Count  Dtype  \n",
            "---  ------  --------------  -----  \n",
            " 0   len     60 non-null     float64\n",
            " 1   supp    60 non-null     object \n",
            " 2   dose    60 non-null     float64\n",
            "dtypes: float64(2), object(1)\n",
            "memory usage: 1.5+ KB\n",
            "None\n",
            "             len       dose\n",
            "count  60.000000  60.000000\n",
            "mean   18.813333   1.166667\n",
            "std     7.649315   0.628872\n",
            "min     4.200000   0.500000\n",
            "25%    13.075000   0.500000\n",
            "50%    19.250000   1.000000\n",
            "75%    25.275000   2.000000\n",
            "max    33.900000   2.000000\n",
            "['VC' 'OJ']\n"
          ]
        }
      ]
    },
    {
      "cell_type": "code",
      "source": [
        "import scipy.stats as stats\n",
        "from math import sqrt\n",
        "\n",
        "# 독립표본 T-검정은 등분산성을 만족해야 하므로,\n",
        "# Levene 검정을 사용한 등분산성 검정을 선행해야 한다.\n",
        "\n",
        "stats.levene(data.loc[data.supp == 'VC', 'len'], data.loc[data.supp == 'OJ', 'len'])\n",
        "\n",
        "# p-value가 유의수준 0.05보다 크므로 귀무가설을 채택한다.\n",
        "# 즉 VC와 OJ 그룹간 len변수 분포는 등분산일 가능성이 높다."
      ],
      "metadata": {
        "colab": {
          "base_uri": "https://localhost:8080/"
        },
        "id": "LB5tX1b8PMkp",
        "outputId": "49aa2c53-81ad-4211-bf41-2d99b883b968"
      },
      "execution_count": null,
      "outputs": [
        {
          "output_type": "execute_result",
          "data": {
            "text/plain": [
              "LeveneResult(statistic=1.2135720656945064, pvalue=0.2751764616144053)"
            ]
          },
          "metadata": {},
          "execution_count": 23
        }
      ]
    },
    {
      "cell_type": "code",
      "source": [
        "data_VC = data.loc[data.supp == 'VC']\n",
        "data_OJ = data.loc[data.supp == 'OJ']\n",
        "\n",
        "VC_X = data_VC['len'].mean()\n",
        "OJ_X = data_OJ['len'].mean()\n",
        "\n",
        "print(round(VC_X, 2), round(OJ_X, 2))"
      ],
      "metadata": {
        "colab": {
          "base_uri": "https://localhost:8080/"
        },
        "id": "UfQlBhFhQS_b",
        "outputId": "00fa52e0-1f13-4657-8d53-60207ccadfae"
      },
      "execution_count": null,
      "outputs": [
        {
          "output_type": "stream",
          "name": "stdout",
          "text": [
            "16.96 20.66\n"
          ]
        }
      ]
    },
    {
      "cell_type": "code",
      "source": [
        "stats.ttest_ind(data_VC['len'], data_OJ['len'], equal_var=True)"
      ],
      "metadata": {
        "colab": {
          "base_uri": "https://localhost:8080/"
        },
        "id": "1NY3fYawQ3q2",
        "outputId": "262a6f6e-d81c-4b6c-a854-da242f7d5b62"
      },
      "execution_count": null,
      "outputs": [
        {
          "output_type": "execute_result",
          "data": {
            "text/plain": [
              "TtestResult(statistic=-1.91526826869527, pvalue=0.06039337122412849, df=58.0)"
            ]
          },
          "metadata": {},
          "execution_count": 25
        }
      ]
    },
    {
      "cell_type": "code",
      "source": [
        "t_score, p_value = stats.ttest_ind(data_VC['len'], data_OJ['len'], equal_var=True)\n",
        "print('t_score : ', round(t_score, 2), 'p_value : ', round(p_value, 2))\n",
        "\n",
        "# p-value 가 유의수준 0.05 보다 크므로 귀무가설(영가설)을 채택한다.\n",
        "# 오렌지 주스를 투여한 기니피그와 아스코르브산을 투여한 기니피그의 치아 길이 평균은 같다고 볼 수 있다."
      ],
      "metadata": {
        "colab": {
          "base_uri": "https://localhost:8080/"
        },
        "id": "PYzpwowbRH_e",
        "outputId": "80b5e709-cda6-469b-a352-d126397c83a4"
      },
      "execution_count": null,
      "outputs": [
        {
          "output_type": "stream",
          "name": "stdout",
          "text": [
            "t_score :  -1.92 p_value :  0.06\n"
          ]
        }
      ]
    },
    {
      "cell_type": "markdown",
      "source": [
        "**3. 쌍체표본 T-검정** : Insectsprays <br>\n",
        "- before_spr : 살충제 뿌리기 전 곤충의 수\n",
        "- after_spr : 살충제 뿌린 뒤 곤충의 수"
      ],
      "metadata": {
        "id": "rIQNOoRXR4gZ"
      }
    },
    {
      "cell_type": "code",
      "source": [
        "data = pd.read_csv('/content/yemoonsaBigdata/datasets/supplement/insectsprays.csv')\n",
        "\n",
        "print(data.info())\n",
        "print(data.describe())"
      ],
      "metadata": {
        "colab": {
          "base_uri": "https://localhost:8080/"
        },
        "id": "vH6HtYy7SBfu",
        "outputId": "45a61acc-ad57-439d-8e3a-5936c283be53"
      },
      "execution_count": null,
      "outputs": [
        {
          "output_type": "stream",
          "name": "stdout",
          "text": [
            "<class 'pandas.core.frame.DataFrame'>\n",
            "RangeIndex: 36 entries, 0 to 35\n",
            "Data columns (total 2 columns):\n",
            " #   Column      Non-Null Count  Dtype\n",
            "---  ------      --------------  -----\n",
            " 0   before_spr  36 non-null     int64\n",
            " 1   after_spr   36 non-null     int64\n",
            "dtypes: int64(2)\n",
            "memory usage: 704.0 bytes\n",
            "None\n",
            "       before_spr  after_spr\n",
            "count   36.000000  36.000000\n",
            "mean    15.500000   3.500000\n",
            "std      5.068108   2.348252\n",
            "min      7.000000   0.000000\n",
            "25%     11.750000   2.000000\n",
            "50%     14.500000   3.000000\n",
            "75%     19.250000   5.000000\n",
            "max     26.000000  12.000000\n"
          ]
        }
      ]
    },
    {
      "cell_type": "code",
      "source": [
        "# [after_spr] - [before_spr] 의 표본 평균\n",
        "diff = data['after_spr'] - data['before_spr']\n",
        "diff_mean = diff.mean()\n",
        "print(round(diff_mean, 2))"
      ],
      "metadata": {
        "colab": {
          "base_uri": "https://localhost:8080/"
        },
        "id": "OF9iIBIVT2tU",
        "outputId": "ad46258d-f0a6-4aa4-db6d-5fc072445a59"
      },
      "execution_count": null,
      "outputs": [
        {
          "output_type": "stream",
          "name": "stdout",
          "text": [
            "-12.0\n"
          ]
        }
      ]
    },
    {
      "cell_type": "code",
      "source": [
        "t_score, p_value = stats.ttest_rel(data['before_spr'], data['after_spr'], alternative='greater')\n",
        "print('t_score : ', round(t_score, 2), 'p_value : ', round(p_value, 2))\n",
        "\n",
        "# p-value가 유의수준 0.05보다 작으므로 귀무가설을 기각하고 대립가설을 채택한다.\n",
        "# 즉 살충제의 효과가 있다"
      ],
      "metadata": {
        "colab": {
          "base_uri": "https://localhost:8080/"
        },
        "id": "Y4blRGuzUQiO",
        "outputId": "301f0448-1783-4e7d-b9ef-315126527081"
      },
      "execution_count": null,
      "outputs": [
        {
          "output_type": "stream",
          "name": "stdout",
          "text": [
            "t_score :  14.89 p_value :  0.0\n"
          ]
        }
      ]
    },
    {
      "cell_type": "markdown",
      "source": [
        "**4.일원분산분석(One-way ANOVA)** : iris"
      ],
      "metadata": {
        "id": "bikNfkBlOKIZ"
      }
    },
    {
      "cell_type": "code",
      "source": [
        "import pandas as pd\n",
        "import numpy as np\n",
        "import scipy.stats as stats\n",
        "\n",
        "data = pd.read_csv('/content/yemoonsaBigdata/datasets/supplement/iris.csv')\n",
        "\n",
        "print(data.info())\n",
        "print(data.describe())"
      ],
      "metadata": {
        "colab": {
          "base_uri": "https://localhost:8080/"
        },
        "id": "E24pp6GyOUBD",
        "outputId": "6b9cc6a8-37c2-42d8-8e99-ad1237032ed9"
      },
      "execution_count": 13,
      "outputs": [
        {
          "output_type": "stream",
          "name": "stdout",
          "text": [
            "<class 'pandas.core.frame.DataFrame'>\n",
            "RangeIndex: 150 entries, 0 to 149\n",
            "Data columns (total 5 columns):\n",
            " #   Column        Non-Null Count  Dtype  \n",
            "---  ------        --------------  -----  \n",
            " 0   sepal_length  150 non-null    float64\n",
            " 1   sepal_width   150 non-null    float64\n",
            " 2   petal_length  150 non-null    float64\n",
            " 3   petal_width   150 non-null    float64\n",
            " 4   species       150 non-null    object \n",
            "dtypes: float64(4), object(1)\n",
            "memory usage: 6.0+ KB\n",
            "None\n",
            "       sepal_length  sepal_width  petal_length  petal_width\n",
            "count    150.000000   150.000000    150.000000   150.000000\n",
            "mean       5.843333     3.057333      3.758000     1.199333\n",
            "std        0.828066     0.435866      1.765298     0.762238\n",
            "min        4.300000     2.000000      1.000000     0.100000\n",
            "25%        5.100000     2.800000      1.600000     0.300000\n",
            "50%        5.800000     3.000000      4.350000     1.300000\n",
            "75%        6.400000     3.300000      5.100000     1.800000\n",
            "max        7.900000     4.400000      6.900000     2.500000\n"
          ]
        }
      ]
    },
    {
      "cell_type": "code",
      "source": [
        "print(data['species'].unique())"
      ],
      "metadata": {
        "colab": {
          "base_uri": "https://localhost:8080/"
        },
        "id": "3mISpOq-A-5j",
        "outputId": "b3b64c00-43c6-46b7-decb-78aff86fcae1"
      },
      "execution_count": 8,
      "outputs": [
        {
          "output_type": "stream",
          "name": "stdout",
          "text": [
            "['setosa' 'versicolor' 'virginica']\n"
          ]
        }
      ]
    },
    {
      "cell_type": "code",
      "source": [
        "result = data.loc[data['species'] == 'versicolor', 'sepal_width'].mean()\n",
        "print(round(result, 2))"
      ],
      "metadata": {
        "colab": {
          "base_uri": "https://localhost:8080/"
        },
        "id": "SB_mqGD1_0g8",
        "outputId": "78c18e77-6230-424d-c1c9-31929674863d"
      },
      "execution_count": 7,
      "outputs": [
        {
          "output_type": "stream",
          "name": "stdout",
          "text": [
            "2.77\n"
          ]
        }
      ]
    },
    {
      "cell_type": "code",
      "source": [
        "X1 = data.loc[data['species'] == 'setosa', 'sepal_width']\n",
        "X2 = data.loc[data['species'] == 'versicolor', 'sepal_width']\n",
        "X3 = data.loc[data['species'] == 'virginica', 'sepal_width']\n",
        "\n",
        "print(round(X1.mean(), 2), round(X2.mean(), 2), round(X3.mean(),2))"
      ],
      "metadata": {
        "colab": {
          "base_uri": "https://localhost:8080/"
        },
        "id": "QpeFG2w3BGZc",
        "outputId": "2e43fc6a-b59b-43ed-dbd5-ade0345ead49"
      },
      "execution_count": 10,
      "outputs": [
        {
          "output_type": "stream",
          "name": "stdout",
          "text": [
            "3.43 2.77 2.97\n"
          ]
        }
      ]
    },
    {
      "cell_type": "code",
      "source": [
        "test_result = stats.f_oneway(X1, X2, X3)\n",
        "print(round(test_result.statistic,2))\n",
        "print(round(test_result.pvalue,2))"
      ],
      "metadata": {
        "colab": {
          "base_uri": "https://localhost:8080/"
        },
        "id": "kUYCrhCiBXB_",
        "outputId": "00a084d0-16c3-482f-b646-bbd566ed9e5b"
      },
      "execution_count": 15,
      "outputs": [
        {
          "output_type": "stream",
          "name": "stdout",
          "text": [
            "49.16\n",
            "0.0\n"
          ]
        }
      ]
    },
    {
      "cell_type": "code",
      "source": [
        "p_value = test_result.pvalue\n",
        "print('p_value : ', round(p_value, 2))\n",
        "\n",
        "if p_value >= 0.05:\n",
        "  print('귀무가설 채택')\n",
        "else:\n",
        "  print('귀무가설 기각')"
      ],
      "metadata": {
        "colab": {
          "base_uri": "https://localhost:8080/"
        },
        "id": "s10hZoJWB3iO",
        "outputId": "c2999e5d-9624-499f-ee67-98b7b6eb6ef0"
      },
      "execution_count": 16,
      "outputs": [
        {
          "output_type": "stream",
          "name": "stdout",
          "text": [
            "p_value :  0.0\n",
            "귀무가설 기각\n"
          ]
        }
      ]
    },
    {
      "cell_type": "markdown",
      "source": [
        "**5.카이제곱검정(적합도 검정)** : cellphone"
      ],
      "metadata": {
        "id": "gJnKLwuICI3G"
      }
    },
    {
      "cell_type": "code",
      "source": [
        "import pandas as pd\n",
        "import scipy.stats as stats\n",
        "\n",
        "data = pd.read_csv('/content/yemoonsaBigdata/datasets/supplement/cellphone.csv')\n",
        "\n",
        "print(data.info())\n",
        "print(data.describe())"
      ],
      "metadata": {
        "colab": {
          "base_uri": "https://localhost:8080/"
        },
        "id": "kr6_XYcSCPiz",
        "outputId": "16f7b9a5-4cce-4c72-edf8-7fc3916fbb59"
      },
      "execution_count": 18,
      "outputs": [
        {
          "output_type": "stream",
          "name": "stdout",
          "text": [
            "<class 'pandas.core.frame.DataFrame'>\n",
            "RangeIndex: 200 entries, 0 to 199\n",
            "Data columns (total 2 columns):\n",
            " #   Column  Non-Null Count  Dtype \n",
            "---  ------  --------------  ----- \n",
            " 0   id      200 non-null    int64 \n",
            " 1   제조사     200 non-null    object\n",
            "dtypes: int64(1), object(1)\n",
            "memory usage: 3.2+ KB\n",
            "None\n",
            "               id\n",
            "count  200.000000\n",
            "mean   100.500000\n",
            "std     57.879185\n",
            "min      1.000000\n",
            "25%     50.750000\n",
            "50%    100.500000\n",
            "75%    150.250000\n",
            "max    200.000000\n"
          ]
        }
      ]
    },
    {
      "cell_type": "code",
      "source": [
        "count_df = data.groupby('제조사').count()\n",
        "print(count_df)"
      ],
      "metadata": {
        "colab": {
          "base_uri": "https://localhost:8080/"
        },
        "id": "nfTc6uwACqxq",
        "outputId": "825db700-5373-4e7f-a9dc-57f63eda2287"
      },
      "execution_count": 19,
      "outputs": [
        {
          "output_type": "stream",
          "name": "stdout",
          "text": [
            "      id\n",
            "제조사     \n",
            "기타     5\n",
            "삼성   117\n",
            "애플    78\n"
          ]
        }
      ]
    },
    {
      "cell_type": "code",
      "source": [
        "result = count_df.loc['삼성'] - count_df.loc['애플']\n",
        "print(result)"
      ],
      "metadata": {
        "colab": {
          "base_uri": "https://localhost:8080/"
        },
        "id": "yE7ricyXDV7R",
        "outputId": "687b62c6-4eef-42c2-c02d-da1bc41f14b4"
      },
      "execution_count": 20,
      "outputs": [
        {
          "output_type": "stream",
          "name": "stdout",
          "text": [
            "id    39\n",
            "dtype: int64\n"
          ]
        }
      ]
    },
    {
      "cell_type": "code",
      "source": [
        "total_sum = len(data)\n",
        "expected = [int(total_sum *0.1),\n",
        "            int(total_sum*0.6),\n",
        "            int(total_sum*0.3)]\n",
        "print(expected)"
      ],
      "metadata": {
        "colab": {
          "base_uri": "https://localhost:8080/"
        },
        "id": "61lUU00wDjr6",
        "outputId": "0ae7bd2a-2ee1-4b20-a8c1-950c50d78759"
      },
      "execution_count": 23,
      "outputs": [
        {
          "output_type": "stream",
          "name": "stdout",
          "text": [
            "[20, 120, 60]\n"
          ]
        }
      ]
    },
    {
      "cell_type": "code",
      "source": [
        "observed = count_df['id'].values\n",
        "test_result = stats.chisquare(observed, f_exp = expected)\n",
        "\n",
        "result = round(test_result.statistic, 2)\n",
        "\n",
        "print(result)"
      ],
      "metadata": {
        "colab": {
          "base_uri": "https://localhost:8080/"
        },
        "id": "1-uonMsWD-8w",
        "outputId": "ed4c0150-9a03-467b-b962-8114c2cf3f70"
      },
      "execution_count": 25,
      "outputs": [
        {
          "output_type": "stream",
          "name": "stdout",
          "text": [
            "16.73\n"
          ]
        }
      ]
    },
    {
      "cell_type": "code",
      "source": [
        "p_value = test_result.pvalue\n",
        "\n",
        "print(round(p_value, 4))\n",
        "\n",
        "if p_value >= 0.05:\n",
        "  print('귀무가설 채택')\n",
        "else :\n",
        "  print('귀무가설 기각')"
      ],
      "metadata": {
        "colab": {
          "base_uri": "https://localhost:8080/"
        },
        "id": "gEa37tuwEXdG",
        "outputId": "dfc51a5e-33f2-4113-de50-9e6834055665"
      },
      "execution_count": 26,
      "outputs": [
        {
          "output_type": "stream",
          "name": "stdout",
          "text": [
            "0.0002\n",
            "귀무가설 기각\n"
          ]
        }
      ]
    },
    {
      "cell_type": "markdown",
      "source": [
        "**6.카이제곱검정(독립성 검정)** : student"
      ],
      "metadata": {
        "id": "GtoHdcFsEr4F"
      }
    },
    {
      "cell_type": "code",
      "source": [
        "import pandas as pd\n",
        "import scipy.stats as stats\n",
        "\n",
        "data = pd.read_csv('/content/yemoonsaBigdata/datasets/supplement/student.csv')\n",
        "\n",
        "data.head()"
      ],
      "metadata": {
        "colab": {
          "base_uri": "https://localhost:8080/",
          "height": 206
        },
        "id": "ExrREmr9EzCX",
        "outputId": "43fd6372-b283-4618-889c-d4f71ab68655"
      },
      "execution_count": 28,
      "outputs": [
        {
          "output_type": "execute_result",
          "data": {
            "text/plain": [
              "   ID  단과대학 수강 과목 수\n",
              "0   1  경영대학   4개 이하\n",
              "1   2  경영대학   4개 이하\n",
              "2   3  경영대학   4개 이하\n",
              "3   4  경영대학   4개 이하\n",
              "4   5  경영대학   4개 이하"
            ],
            "text/html": [
              "\n",
              "  <div id=\"df-d29f6249-8980-4536-adc5-5df176939242\" class=\"colab-df-container\">\n",
              "    <div>\n",
              "<style scoped>\n",
              "    .dataframe tbody tr th:only-of-type {\n",
              "        vertical-align: middle;\n",
              "    }\n",
              "\n",
              "    .dataframe tbody tr th {\n",
              "        vertical-align: top;\n",
              "    }\n",
              "\n",
              "    .dataframe thead th {\n",
              "        text-align: right;\n",
              "    }\n",
              "</style>\n",
              "<table border=\"1\" class=\"dataframe\">\n",
              "  <thead>\n",
              "    <tr style=\"text-align: right;\">\n",
              "      <th></th>\n",
              "      <th>ID</th>\n",
              "      <th>단과대학</th>\n",
              "      <th>수강 과목 수</th>\n",
              "    </tr>\n",
              "  </thead>\n",
              "  <tbody>\n",
              "    <tr>\n",
              "      <th>0</th>\n",
              "      <td>1</td>\n",
              "      <td>경영대학</td>\n",
              "      <td>4개 이하</td>\n",
              "    </tr>\n",
              "    <tr>\n",
              "      <th>1</th>\n",
              "      <td>2</td>\n",
              "      <td>경영대학</td>\n",
              "      <td>4개 이하</td>\n",
              "    </tr>\n",
              "    <tr>\n",
              "      <th>2</th>\n",
              "      <td>3</td>\n",
              "      <td>경영대학</td>\n",
              "      <td>4개 이하</td>\n",
              "    </tr>\n",
              "    <tr>\n",
              "      <th>3</th>\n",
              "      <td>4</td>\n",
              "      <td>경영대학</td>\n",
              "      <td>4개 이하</td>\n",
              "    </tr>\n",
              "    <tr>\n",
              "      <th>4</th>\n",
              "      <td>5</td>\n",
              "      <td>경영대학</td>\n",
              "      <td>4개 이하</td>\n",
              "    </tr>\n",
              "  </tbody>\n",
              "</table>\n",
              "</div>\n",
              "    <div class=\"colab-df-buttons\">\n",
              "\n",
              "  <div class=\"colab-df-container\">\n",
              "    <button class=\"colab-df-convert\" onclick=\"convertToInteractive('df-d29f6249-8980-4536-adc5-5df176939242')\"\n",
              "            title=\"Convert this dataframe to an interactive table.\"\n",
              "            style=\"display:none;\">\n",
              "\n",
              "  <svg xmlns=\"http://www.w3.org/2000/svg\" height=\"24px\" viewBox=\"0 -960 960 960\">\n",
              "    <path d=\"M120-120v-720h720v720H120Zm60-500h600v-160H180v160Zm220 220h160v-160H400v160Zm0 220h160v-160H400v160ZM180-400h160v-160H180v160Zm440 0h160v-160H620v160ZM180-180h160v-160H180v160Zm440 0h160v-160H620v160Z\"/>\n",
              "  </svg>\n",
              "    </button>\n",
              "\n",
              "  <style>\n",
              "    .colab-df-container {\n",
              "      display:flex;\n",
              "      gap: 12px;\n",
              "    }\n",
              "\n",
              "    .colab-df-convert {\n",
              "      background-color: #E8F0FE;\n",
              "      border: none;\n",
              "      border-radius: 50%;\n",
              "      cursor: pointer;\n",
              "      display: none;\n",
              "      fill: #1967D2;\n",
              "      height: 32px;\n",
              "      padding: 0 0 0 0;\n",
              "      width: 32px;\n",
              "    }\n",
              "\n",
              "    .colab-df-convert:hover {\n",
              "      background-color: #E2EBFA;\n",
              "      box-shadow: 0px 1px 2px rgba(60, 64, 67, 0.3), 0px 1px 3px 1px rgba(60, 64, 67, 0.15);\n",
              "      fill: #174EA6;\n",
              "    }\n",
              "\n",
              "    .colab-df-buttons div {\n",
              "      margin-bottom: 4px;\n",
              "    }\n",
              "\n",
              "    [theme=dark] .colab-df-convert {\n",
              "      background-color: #3B4455;\n",
              "      fill: #D2E3FC;\n",
              "    }\n",
              "\n",
              "    [theme=dark] .colab-df-convert:hover {\n",
              "      background-color: #434B5C;\n",
              "      box-shadow: 0px 1px 3px 1px rgba(0, 0, 0, 0.15);\n",
              "      filter: drop-shadow(0px 1px 2px rgba(0, 0, 0, 0.3));\n",
              "      fill: #FFFFFF;\n",
              "    }\n",
              "  </style>\n",
              "\n",
              "    <script>\n",
              "      const buttonEl =\n",
              "        document.querySelector('#df-d29f6249-8980-4536-adc5-5df176939242 button.colab-df-convert');\n",
              "      buttonEl.style.display =\n",
              "        google.colab.kernel.accessAllowed ? 'block' : 'none';\n",
              "\n",
              "      async function convertToInteractive(key) {\n",
              "        const element = document.querySelector('#df-d29f6249-8980-4536-adc5-5df176939242');\n",
              "        const dataTable =\n",
              "          await google.colab.kernel.invokeFunction('convertToInteractive',\n",
              "                                                    [key], {});\n",
              "        if (!dataTable) return;\n",
              "\n",
              "        const docLinkHtml = 'Like what you see? Visit the ' +\n",
              "          '<a target=\"_blank\" href=https://colab.research.google.com/notebooks/data_table.ipynb>data table notebook</a>'\n",
              "          + ' to learn more about interactive tables.';\n",
              "        element.innerHTML = '';\n",
              "        dataTable['output_type'] = 'display_data';\n",
              "        await google.colab.output.renderOutput(dataTable, element);\n",
              "        const docLink = document.createElement('div');\n",
              "        docLink.innerHTML = docLinkHtml;\n",
              "        element.appendChild(docLink);\n",
              "      }\n",
              "    </script>\n",
              "  </div>\n",
              "\n",
              "\n",
              "<div id=\"df-4e41cd36-635e-42cc-9a3e-16f746a39081\">\n",
              "  <button class=\"colab-df-quickchart\" onclick=\"quickchart('df-4e41cd36-635e-42cc-9a3e-16f746a39081')\"\n",
              "            title=\"Suggest charts\"\n",
              "            style=\"display:none;\">\n",
              "\n",
              "<svg xmlns=\"http://www.w3.org/2000/svg\" height=\"24px\"viewBox=\"0 0 24 24\"\n",
              "     width=\"24px\">\n",
              "    <g>\n",
              "        <path d=\"M19 3H5c-1.1 0-2 .9-2 2v14c0 1.1.9 2 2 2h14c1.1 0 2-.9 2-2V5c0-1.1-.9-2-2-2zM9 17H7v-7h2v7zm4 0h-2V7h2v10zm4 0h-2v-4h2v4z\"/>\n",
              "    </g>\n",
              "</svg>\n",
              "  </button>\n",
              "\n",
              "<style>\n",
              "  .colab-df-quickchart {\n",
              "      --bg-color: #E8F0FE;\n",
              "      --fill-color: #1967D2;\n",
              "      --hover-bg-color: #E2EBFA;\n",
              "      --hover-fill-color: #174EA6;\n",
              "      --disabled-fill-color: #AAA;\n",
              "      --disabled-bg-color: #DDD;\n",
              "  }\n",
              "\n",
              "  [theme=dark] .colab-df-quickchart {\n",
              "      --bg-color: #3B4455;\n",
              "      --fill-color: #D2E3FC;\n",
              "      --hover-bg-color: #434B5C;\n",
              "      --hover-fill-color: #FFFFFF;\n",
              "      --disabled-bg-color: #3B4455;\n",
              "      --disabled-fill-color: #666;\n",
              "  }\n",
              "\n",
              "  .colab-df-quickchart {\n",
              "    background-color: var(--bg-color);\n",
              "    border: none;\n",
              "    border-radius: 50%;\n",
              "    cursor: pointer;\n",
              "    display: none;\n",
              "    fill: var(--fill-color);\n",
              "    height: 32px;\n",
              "    padding: 0;\n",
              "    width: 32px;\n",
              "  }\n",
              "\n",
              "  .colab-df-quickchart:hover {\n",
              "    background-color: var(--hover-bg-color);\n",
              "    box-shadow: 0 1px 2px rgba(60, 64, 67, 0.3), 0 1px 3px 1px rgba(60, 64, 67, 0.15);\n",
              "    fill: var(--button-hover-fill-color);\n",
              "  }\n",
              "\n",
              "  .colab-df-quickchart-complete:disabled,\n",
              "  .colab-df-quickchart-complete:disabled:hover {\n",
              "    background-color: var(--disabled-bg-color);\n",
              "    fill: var(--disabled-fill-color);\n",
              "    box-shadow: none;\n",
              "  }\n",
              "\n",
              "  .colab-df-spinner {\n",
              "    border: 2px solid var(--fill-color);\n",
              "    border-color: transparent;\n",
              "    border-bottom-color: var(--fill-color);\n",
              "    animation:\n",
              "      spin 1s steps(1) infinite;\n",
              "  }\n",
              "\n",
              "  @keyframes spin {\n",
              "    0% {\n",
              "      border-color: transparent;\n",
              "      border-bottom-color: var(--fill-color);\n",
              "      border-left-color: var(--fill-color);\n",
              "    }\n",
              "    20% {\n",
              "      border-color: transparent;\n",
              "      border-left-color: var(--fill-color);\n",
              "      border-top-color: var(--fill-color);\n",
              "    }\n",
              "    30% {\n",
              "      border-color: transparent;\n",
              "      border-left-color: var(--fill-color);\n",
              "      border-top-color: var(--fill-color);\n",
              "      border-right-color: var(--fill-color);\n",
              "    }\n",
              "    40% {\n",
              "      border-color: transparent;\n",
              "      border-right-color: var(--fill-color);\n",
              "      border-top-color: var(--fill-color);\n",
              "    }\n",
              "    60% {\n",
              "      border-color: transparent;\n",
              "      border-right-color: var(--fill-color);\n",
              "    }\n",
              "    80% {\n",
              "      border-color: transparent;\n",
              "      border-right-color: var(--fill-color);\n",
              "      border-bottom-color: var(--fill-color);\n",
              "    }\n",
              "    90% {\n",
              "      border-color: transparent;\n",
              "      border-bottom-color: var(--fill-color);\n",
              "    }\n",
              "  }\n",
              "</style>\n",
              "\n",
              "  <script>\n",
              "    async function quickchart(key) {\n",
              "      const quickchartButtonEl =\n",
              "        document.querySelector('#' + key + ' button');\n",
              "      quickchartButtonEl.disabled = true;  // To prevent multiple clicks.\n",
              "      quickchartButtonEl.classList.add('colab-df-spinner');\n",
              "      try {\n",
              "        const charts = await google.colab.kernel.invokeFunction(\n",
              "            'suggestCharts', [key], {});\n",
              "      } catch (error) {\n",
              "        console.error('Error during call to suggestCharts:', error);\n",
              "      }\n",
              "      quickchartButtonEl.classList.remove('colab-df-spinner');\n",
              "      quickchartButtonEl.classList.add('colab-df-quickchart-complete');\n",
              "    }\n",
              "    (() => {\n",
              "      let quickchartButtonEl =\n",
              "        document.querySelector('#df-4e41cd36-635e-42cc-9a3e-16f746a39081 button');\n",
              "      quickchartButtonEl.style.display =\n",
              "        google.colab.kernel.accessAllowed ? 'block' : 'none';\n",
              "    })();\n",
              "  </script>\n",
              "</div>\n",
              "\n",
              "    </div>\n",
              "  </div>\n"
            ],
            "application/vnd.google.colaboratory.intrinsic+json": {
              "type": "dataframe",
              "variable_name": "data",
              "summary": "{\n  \"name\": \"data\",\n  \"rows\": 300,\n  \"fields\": [\n    {\n      \"column\": \"ID\",\n      \"properties\": {\n        \"dtype\": \"number\",\n        \"std\": 86,\n        \"min\": 1,\n        \"max\": 300,\n        \"num_unique_values\": 300,\n        \"samples\": [\n          204,\n          267,\n          153\n        ],\n        \"semantic_type\": \"\",\n        \"description\": \"\"\n      }\n    },\n    {\n      \"column\": \"\\ub2e8\\uacfc\\ub300\\ud559\",\n      \"properties\": {\n        \"dtype\": \"category\",\n        \"num_unique_values\": 3,\n        \"samples\": [\n          \"\\uacbd\\uc601\\ub300\\ud559\",\n          \"\\uc790\\uc5f0\\ub300\\ud559\",\n          \"\\uacf5\\uacfc\\ub300\\ud559\"\n        ],\n        \"semantic_type\": \"\",\n        \"description\": \"\"\n      }\n    },\n    {\n      \"column\": \"\\uc218\\uac15 \\uacfc\\ubaa9 \\uc218\",\n      \"properties\": {\n        \"dtype\": \"category\",\n        \"num_unique_values\": 3,\n        \"samples\": [\n          \"4\\uac1c \\uc774\\ud558\",\n          \"5\\uac1c\",\n          \"6\\uac1c \\uc774\\uc0c1\"\n        ],\n        \"semantic_type\": \"\",\n        \"description\": \"\"\n      }\n    }\n  ]\n}"
            }
          },
          "metadata": {},
          "execution_count": 28
        }
      ]
    },
    {
      "cell_type": "code",
      "source": [
        "table = pd.crosstab(data['단과대학'], data['수강 과목 수'])\n",
        "print(table)"
      ],
      "metadata": {
        "colab": {
          "base_uri": "https://localhost:8080/"
        },
        "id": "EzmUWj7tFIfM",
        "outputId": "2b6d4994-d132-4ddb-bcb2-76434753d223"
      },
      "execution_count": 29,
      "outputs": [
        {
          "output_type": "stream",
          "name": "stdout",
          "text": [
            "수강 과목 수  4개 이하  5개  6개 이상\n",
            "단과대학                     \n",
            "경영대학        12  78     30\n",
            "공과대학        30  42     28\n",
            "자연대학        30  42      8\n"
          ]
        }
      ]
    },
    {
      "cell_type": "code",
      "source": [
        "result = table[table['6개 이상']==table['6개 이상'].max()].index[0]\n",
        "print(result)"
      ],
      "metadata": {
        "colab": {
          "base_uri": "https://localhost:8080/"
        },
        "id": "HNNE6y1rFT-4",
        "outputId": "2fd74c7f-6952-441d-f756-677f2ed0d09a"
      },
      "execution_count": 30,
      "outputs": [
        {
          "output_type": "stream",
          "name": "stdout",
          "text": [
            "경영대학\n"
          ]
        }
      ]
    },
    {
      "cell_type": "code",
      "source": [
        "X1 = table.loc['경영대학', :]\n",
        "X2 = table.loc['공과대학', :]\n",
        "X3 = table.loc['자연대학', :]\n",
        "\n",
        "test_result = stats.chi2_contingency([X1, X2, X3])\n",
        "result = test_result.statistic\n",
        "\n",
        "print(round(result, 2))"
      ],
      "metadata": {
        "colab": {
          "base_uri": "https://localhost:8080/"
        },
        "id": "k_9Me2_EFnOO",
        "outputId": "345ccf2e-5a4f-49f2-e353-376bac2758e3"
      },
      "execution_count": 31,
      "outputs": [
        {
          "output_type": "stream",
          "name": "stdout",
          "text": [
            "30.13\n"
          ]
        }
      ]
    },
    {
      "cell_type": "code",
      "source": [
        "p_value = test_result.pvalue\n",
        "\n",
        "print(round(p_value, 4))\n",
        "\n",
        "if p_value >= 0.05:\n",
        "  print('귀무가설 채택')\n",
        "else:\n",
        "  print('귀무가설 기각')"
      ],
      "metadata": {
        "colab": {
          "base_uri": "https://localhost:8080/"
        },
        "id": "58vuZ23IGBgH",
        "outputId": "f1490a2f-adf4-4493-c950-e02678e14dcd"
      },
      "execution_count": 32,
      "outputs": [
        {
          "output_type": "stream",
          "name": "stdout",
          "text": [
            "0.0\n",
            "귀무가설 기각\n"
          ]
        }
      ]
    }
  ]
}