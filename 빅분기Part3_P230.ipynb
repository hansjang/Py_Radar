{
  "nbformat": 4,
  "nbformat_minor": 0,
  "metadata": {
    "colab": {
      "provenance": [],
      "authorship_tag": "ABX9TyMcfPXY53rN2uzZonRVgrGA",
      "include_colab_link": true
    },
    "kernelspec": {
      "name": "python3",
      "display_name": "Python 3"
    },
    "language_info": {
      "name": "python"
    }
  },
  "cells": [
    {
      "cell_type": "markdown",
      "metadata": {
        "id": "view-in-github",
        "colab_type": "text"
      },
      "source": [
        "<a href=\"https://colab.research.google.com/github/hansjang/Py_Radar/blob/main/%EB%B9%85%EB%B6%84%EA%B8%B0Part3_P230.ipynb\" target=\"_parent\"><img src=\"https://colab.research.google.com/assets/colab-badge.svg\" alt=\"Open In Colab\"/></a>"
      ]
    },
    {
      "cell_type": "markdown",
      "source": [
        "(P.230) PART 3 : 마무리 문제\n",
        "\n",
        "---"
      ],
      "metadata": {
        "id": "PUulNBpgcFl8"
      }
    },
    {
      "cell_type": "code",
      "execution_count": 1,
      "metadata": {
        "id": "iNUs4qnMbzey",
        "colab": {
          "base_uri": "https://localhost:8080/"
        },
        "outputId": "7fb72d5d-ed43-46a2-993c-181733b41fd1"
      },
      "outputs": [
        {
          "output_type": "stream",
          "name": "stdout",
          "text": [
            "Cloning into 'yemoonsaBigdata'...\n",
            "remote: Enumerating objects: 709, done.\u001b[K\n",
            "remote: Counting objects: 100% (346/346), done.\u001b[K\n",
            "remote: Compressing objects: 100% (231/231), done.\u001b[K\n",
            "remote: Total 709 (delta 156), reused 237 (delta 115), pack-reused 363\u001b[K\n",
            "Receiving objects: 100% (709/709), 11.46 MiB | 7.52 MiB/s, done.\n",
            "Resolving deltas: 100% (341/341), done.\n",
            "Updating files: 100% (173/173), done.\n"
          ]
        }
      ],
      "source": [
        "!git clone https://github.com/AnalyticsKnight/yemoonsaBigdata"
      ]
    },
    {
      "cell_type": "markdown",
      "source": [
        "**1. 작업형 제1유형**"
      ],
      "metadata": {
        "id": "x9XVJ1nuceY6"
      }
    },
    {
      "cell_type": "markdown",
      "source": [
        "(1) Iris 데이터 세트"
      ],
      "metadata": {
        "id": "qI8gzK08HHB5"
      }
    },
    {
      "cell_type": "code",
      "source": [
        "import pandas as pd\n",
        "import numpy as np\n",
        "\n",
        "iris = pd.read_csv('/content/yemoonsaBigdata/datasets/Part2/iris.csv')\n",
        "iris.head()"
      ],
      "metadata": {
        "colab": {
          "base_uri": "https://localhost:8080/",
          "height": 206
        },
        "id": "kigxbfqscdKh",
        "outputId": "9c20a90a-54f4-481a-aa9e-56415c7065c7"
      },
      "execution_count": 2,
      "outputs": [
        {
          "output_type": "execute_result",
          "data": {
            "text/plain": [
              "   sepal_length  sepal_width  petal_length  petal_width species\n",
              "0           5.1          3.5           1.4          0.2  setosa\n",
              "1           4.9          3.0           1.4          0.2  setosa\n",
              "2           4.7          3.2           1.3          0.2  setosa\n",
              "3           4.6          3.1           1.5          0.2  setosa\n",
              "4           5.0          3.6           1.4          0.2  setosa"
            ],
            "text/html": [
              "\n",
              "  <div id=\"df-e4dc5fd8-bea1-4cc9-b394-7152cda9aa71\" class=\"colab-df-container\">\n",
              "    <div>\n",
              "<style scoped>\n",
              "    .dataframe tbody tr th:only-of-type {\n",
              "        vertical-align: middle;\n",
              "    }\n",
              "\n",
              "    .dataframe tbody tr th {\n",
              "        vertical-align: top;\n",
              "    }\n",
              "\n",
              "    .dataframe thead th {\n",
              "        text-align: right;\n",
              "    }\n",
              "</style>\n",
              "<table border=\"1\" class=\"dataframe\">\n",
              "  <thead>\n",
              "    <tr style=\"text-align: right;\">\n",
              "      <th></th>\n",
              "      <th>sepal_length</th>\n",
              "      <th>sepal_width</th>\n",
              "      <th>petal_length</th>\n",
              "      <th>petal_width</th>\n",
              "      <th>species</th>\n",
              "    </tr>\n",
              "  </thead>\n",
              "  <tbody>\n",
              "    <tr>\n",
              "      <th>0</th>\n",
              "      <td>5.1</td>\n",
              "      <td>3.5</td>\n",
              "      <td>1.4</td>\n",
              "      <td>0.2</td>\n",
              "      <td>setosa</td>\n",
              "    </tr>\n",
              "    <tr>\n",
              "      <th>1</th>\n",
              "      <td>4.9</td>\n",
              "      <td>3.0</td>\n",
              "      <td>1.4</td>\n",
              "      <td>0.2</td>\n",
              "      <td>setosa</td>\n",
              "    </tr>\n",
              "    <tr>\n",
              "      <th>2</th>\n",
              "      <td>4.7</td>\n",
              "      <td>3.2</td>\n",
              "      <td>1.3</td>\n",
              "      <td>0.2</td>\n",
              "      <td>setosa</td>\n",
              "    </tr>\n",
              "    <tr>\n",
              "      <th>3</th>\n",
              "      <td>4.6</td>\n",
              "      <td>3.1</td>\n",
              "      <td>1.5</td>\n",
              "      <td>0.2</td>\n",
              "      <td>setosa</td>\n",
              "    </tr>\n",
              "    <tr>\n",
              "      <th>4</th>\n",
              "      <td>5.0</td>\n",
              "      <td>3.6</td>\n",
              "      <td>1.4</td>\n",
              "      <td>0.2</td>\n",
              "      <td>setosa</td>\n",
              "    </tr>\n",
              "  </tbody>\n",
              "</table>\n",
              "</div>\n",
              "    <div class=\"colab-df-buttons\">\n",
              "\n",
              "  <div class=\"colab-df-container\">\n",
              "    <button class=\"colab-df-convert\" onclick=\"convertToInteractive('df-e4dc5fd8-bea1-4cc9-b394-7152cda9aa71')\"\n",
              "            title=\"Convert this dataframe to an interactive table.\"\n",
              "            style=\"display:none;\">\n",
              "\n",
              "  <svg xmlns=\"http://www.w3.org/2000/svg\" height=\"24px\" viewBox=\"0 -960 960 960\">\n",
              "    <path d=\"M120-120v-720h720v720H120Zm60-500h600v-160H180v160Zm220 220h160v-160H400v160Zm0 220h160v-160H400v160ZM180-400h160v-160H180v160Zm440 0h160v-160H620v160ZM180-180h160v-160H180v160Zm440 0h160v-160H620v160Z\"/>\n",
              "  </svg>\n",
              "    </button>\n",
              "\n",
              "  <style>\n",
              "    .colab-df-container {\n",
              "      display:flex;\n",
              "      gap: 12px;\n",
              "    }\n",
              "\n",
              "    .colab-df-convert {\n",
              "      background-color: #E8F0FE;\n",
              "      border: none;\n",
              "      border-radius: 50%;\n",
              "      cursor: pointer;\n",
              "      display: none;\n",
              "      fill: #1967D2;\n",
              "      height: 32px;\n",
              "      padding: 0 0 0 0;\n",
              "      width: 32px;\n",
              "    }\n",
              "\n",
              "    .colab-df-convert:hover {\n",
              "      background-color: #E2EBFA;\n",
              "      box-shadow: 0px 1px 2px rgba(60, 64, 67, 0.3), 0px 1px 3px 1px rgba(60, 64, 67, 0.15);\n",
              "      fill: #174EA6;\n",
              "    }\n",
              "\n",
              "    .colab-df-buttons div {\n",
              "      margin-bottom: 4px;\n",
              "    }\n",
              "\n",
              "    [theme=dark] .colab-df-convert {\n",
              "      background-color: #3B4455;\n",
              "      fill: #D2E3FC;\n",
              "    }\n",
              "\n",
              "    [theme=dark] .colab-df-convert:hover {\n",
              "      background-color: #434B5C;\n",
              "      box-shadow: 0px 1px 3px 1px rgba(0, 0, 0, 0.15);\n",
              "      filter: drop-shadow(0px 1px 2px rgba(0, 0, 0, 0.3));\n",
              "      fill: #FFFFFF;\n",
              "    }\n",
              "  </style>\n",
              "\n",
              "    <script>\n",
              "      const buttonEl =\n",
              "        document.querySelector('#df-e4dc5fd8-bea1-4cc9-b394-7152cda9aa71 button.colab-df-convert');\n",
              "      buttonEl.style.display =\n",
              "        google.colab.kernel.accessAllowed ? 'block' : 'none';\n",
              "\n",
              "      async function convertToInteractive(key) {\n",
              "        const element = document.querySelector('#df-e4dc5fd8-bea1-4cc9-b394-7152cda9aa71');\n",
              "        const dataTable =\n",
              "          await google.colab.kernel.invokeFunction('convertToInteractive',\n",
              "                                                    [key], {});\n",
              "        if (!dataTable) return;\n",
              "\n",
              "        const docLinkHtml = 'Like what you see? Visit the ' +\n",
              "          '<a target=\"_blank\" href=https://colab.research.google.com/notebooks/data_table.ipynb>data table notebook</a>'\n",
              "          + ' to learn more about interactive tables.';\n",
              "        element.innerHTML = '';\n",
              "        dataTable['output_type'] = 'display_data';\n",
              "        await google.colab.output.renderOutput(dataTable, element);\n",
              "        const docLink = document.createElement('div');\n",
              "        docLink.innerHTML = docLinkHtml;\n",
              "        element.appendChild(docLink);\n",
              "      }\n",
              "    </script>\n",
              "  </div>\n",
              "\n",
              "\n",
              "<div id=\"df-598613bc-c347-4dc2-b222-0e5e6d2c830c\">\n",
              "  <button class=\"colab-df-quickchart\" onclick=\"quickchart('df-598613bc-c347-4dc2-b222-0e5e6d2c830c')\"\n",
              "            title=\"Suggest charts\"\n",
              "            style=\"display:none;\">\n",
              "\n",
              "<svg xmlns=\"http://www.w3.org/2000/svg\" height=\"24px\"viewBox=\"0 0 24 24\"\n",
              "     width=\"24px\">\n",
              "    <g>\n",
              "        <path d=\"M19 3H5c-1.1 0-2 .9-2 2v14c0 1.1.9 2 2 2h14c1.1 0 2-.9 2-2V5c0-1.1-.9-2-2-2zM9 17H7v-7h2v7zm4 0h-2V7h2v10zm4 0h-2v-4h2v4z\"/>\n",
              "    </g>\n",
              "</svg>\n",
              "  </button>\n",
              "\n",
              "<style>\n",
              "  .colab-df-quickchart {\n",
              "      --bg-color: #E8F0FE;\n",
              "      --fill-color: #1967D2;\n",
              "      --hover-bg-color: #E2EBFA;\n",
              "      --hover-fill-color: #174EA6;\n",
              "      --disabled-fill-color: #AAA;\n",
              "      --disabled-bg-color: #DDD;\n",
              "  }\n",
              "\n",
              "  [theme=dark] .colab-df-quickchart {\n",
              "      --bg-color: #3B4455;\n",
              "      --fill-color: #D2E3FC;\n",
              "      --hover-bg-color: #434B5C;\n",
              "      --hover-fill-color: #FFFFFF;\n",
              "      --disabled-bg-color: #3B4455;\n",
              "      --disabled-fill-color: #666;\n",
              "  }\n",
              "\n",
              "  .colab-df-quickchart {\n",
              "    background-color: var(--bg-color);\n",
              "    border: none;\n",
              "    border-radius: 50%;\n",
              "    cursor: pointer;\n",
              "    display: none;\n",
              "    fill: var(--fill-color);\n",
              "    height: 32px;\n",
              "    padding: 0;\n",
              "    width: 32px;\n",
              "  }\n",
              "\n",
              "  .colab-df-quickchart:hover {\n",
              "    background-color: var(--hover-bg-color);\n",
              "    box-shadow: 0 1px 2px rgba(60, 64, 67, 0.3), 0 1px 3px 1px rgba(60, 64, 67, 0.15);\n",
              "    fill: var(--button-hover-fill-color);\n",
              "  }\n",
              "\n",
              "  .colab-df-quickchart-complete:disabled,\n",
              "  .colab-df-quickchart-complete:disabled:hover {\n",
              "    background-color: var(--disabled-bg-color);\n",
              "    fill: var(--disabled-fill-color);\n",
              "    box-shadow: none;\n",
              "  }\n",
              "\n",
              "  .colab-df-spinner {\n",
              "    border: 2px solid var(--fill-color);\n",
              "    border-color: transparent;\n",
              "    border-bottom-color: var(--fill-color);\n",
              "    animation:\n",
              "      spin 1s steps(1) infinite;\n",
              "  }\n",
              "\n",
              "  @keyframes spin {\n",
              "    0% {\n",
              "      border-color: transparent;\n",
              "      border-bottom-color: var(--fill-color);\n",
              "      border-left-color: var(--fill-color);\n",
              "    }\n",
              "    20% {\n",
              "      border-color: transparent;\n",
              "      border-left-color: var(--fill-color);\n",
              "      border-top-color: var(--fill-color);\n",
              "    }\n",
              "    30% {\n",
              "      border-color: transparent;\n",
              "      border-left-color: var(--fill-color);\n",
              "      border-top-color: var(--fill-color);\n",
              "      border-right-color: var(--fill-color);\n",
              "    }\n",
              "    40% {\n",
              "      border-color: transparent;\n",
              "      border-right-color: var(--fill-color);\n",
              "      border-top-color: var(--fill-color);\n",
              "    }\n",
              "    60% {\n",
              "      border-color: transparent;\n",
              "      border-right-color: var(--fill-color);\n",
              "    }\n",
              "    80% {\n",
              "      border-color: transparent;\n",
              "      border-right-color: var(--fill-color);\n",
              "      border-bottom-color: var(--fill-color);\n",
              "    }\n",
              "    90% {\n",
              "      border-color: transparent;\n",
              "      border-bottom-color: var(--fill-color);\n",
              "    }\n",
              "  }\n",
              "</style>\n",
              "\n",
              "  <script>\n",
              "    async function quickchart(key) {\n",
              "      const quickchartButtonEl =\n",
              "        document.querySelector('#' + key + ' button');\n",
              "      quickchartButtonEl.disabled = true;  // To prevent multiple clicks.\n",
              "      quickchartButtonEl.classList.add('colab-df-spinner');\n",
              "      try {\n",
              "        const charts = await google.colab.kernel.invokeFunction(\n",
              "            'suggestCharts', [key], {});\n",
              "      } catch (error) {\n",
              "        console.error('Error during call to suggestCharts:', error);\n",
              "      }\n",
              "      quickchartButtonEl.classList.remove('colab-df-spinner');\n",
              "      quickchartButtonEl.classList.add('colab-df-quickchart-complete');\n",
              "    }\n",
              "    (() => {\n",
              "      let quickchartButtonEl =\n",
              "        document.querySelector('#df-598613bc-c347-4dc2-b222-0e5e6d2c830c button');\n",
              "      quickchartButtonEl.style.display =\n",
              "        google.colab.kernel.accessAllowed ? 'block' : 'none';\n",
              "    })();\n",
              "  </script>\n",
              "</div>\n",
              "\n",
              "    </div>\n",
              "  </div>\n"
            ],
            "application/vnd.google.colaboratory.intrinsic+json": {
              "type": "dataframe",
              "variable_name": "iris",
              "summary": "{\n  \"name\": \"iris\",\n  \"rows\": 150,\n  \"fields\": [\n    {\n      \"column\": \"sepal_length\",\n      \"properties\": {\n        \"dtype\": \"number\",\n        \"std\": 0.828066127977863,\n        \"min\": 4.3,\n        \"max\": 7.9,\n        \"num_unique_values\": 35,\n        \"samples\": [\n          6.2,\n          4.5,\n          5.6\n        ],\n        \"semantic_type\": \"\",\n        \"description\": \"\"\n      }\n    },\n    {\n      \"column\": \"sepal_width\",\n      \"properties\": {\n        \"dtype\": \"number\",\n        \"std\": 0.4358662849366982,\n        \"min\": 2.0,\n        \"max\": 4.4,\n        \"num_unique_values\": 23,\n        \"samples\": [\n          2.3,\n          4.0,\n          3.5\n        ],\n        \"semantic_type\": \"\",\n        \"description\": \"\"\n      }\n    },\n    {\n      \"column\": \"petal_length\",\n      \"properties\": {\n        \"dtype\": \"number\",\n        \"std\": 1.7652982332594662,\n        \"min\": 1.0,\n        \"max\": 6.9,\n        \"num_unique_values\": 43,\n        \"samples\": [\n          6.7,\n          3.8,\n          3.7\n        ],\n        \"semantic_type\": \"\",\n        \"description\": \"\"\n      }\n    },\n    {\n      \"column\": \"petal_width\",\n      \"properties\": {\n        \"dtype\": \"number\",\n        \"std\": 0.7622376689603465,\n        \"min\": 0.1,\n        \"max\": 2.5,\n        \"num_unique_values\": 22,\n        \"samples\": [\n          0.2,\n          1.2,\n          1.3\n        ],\n        \"semantic_type\": \"\",\n        \"description\": \"\"\n      }\n    },\n    {\n      \"column\": \"species\",\n      \"properties\": {\n        \"dtype\": \"category\",\n        \"num_unique_values\": 3,\n        \"samples\": [\n          \"setosa\",\n          \"versicolor\",\n          \"virginica\"\n        ],\n        \"semantic_type\": \"\",\n        \"description\": \"\"\n      }\n    }\n  ]\n}"
            }
          },
          "metadata": {},
          "execution_count": 2
        }
      ]
    },
    {
      "cell_type": "markdown",
      "source": [
        "01. species 변수값별로 petal_width 상위 25% 값을 구한 후, 최대값- 최소값?"
      ],
      "metadata": {
        "id": "ex25Ep4Cc9SI"
      }
    },
    {
      "cell_type": "code",
      "source": [
        "print(iris.groupby('species')['petal_width'].quantile(0.75))\n",
        "print(round(2.3-0.3, 0))"
      ],
      "metadata": {
        "id": "UoHqN8hsc8WB",
        "colab": {
          "base_uri": "https://localhost:8080/"
        },
        "outputId": "4e58b9e3-25d5-414b-9979-d98154ee8d96"
      },
      "execution_count": null,
      "outputs": [
        {
          "output_type": "stream",
          "name": "stdout",
          "text": [
            "species\n",
            "setosa        0.3\n",
            "versicolor    1.5\n",
            "virginica     2.3\n",
            "Name: petal_width, dtype: float64\n",
            "2.0\n"
          ]
        }
      ]
    },
    {
      "cell_type": "markdown",
      "source": [
        "02. sepal_length 변수의 전체 값들을 중복없이 리스트로 만든 후, 오름차 순으로 정렬했을 때 리스트의 10번째 숫자?"
      ],
      "metadata": {
        "id": "CQuBR2PYF5U8"
      }
    },
    {
      "cell_type": "code",
      "source": [
        "lst = iris['sepal_length'].unique().tolist()\n",
        "lst.sort() #오름차순 정렬\n",
        "#lst.sort(reverse=True) -> 내림차순 정렬\n",
        "lst[9]"
      ],
      "metadata": {
        "id": "wVnZgr-tF6u9",
        "colab": {
          "base_uri": "https://localhost:8080/"
        },
        "outputId": "21fb1142-d377-4fa1-8c79-83f04f005dde"
      },
      "execution_count": null,
      "outputs": [
        {
          "output_type": "execute_result",
          "data": {
            "text/plain": [
              "6.8"
            ]
          },
          "metadata": {},
          "execution_count": 11
        }
      ]
    },
    {
      "cell_type": "markdown",
      "source": [
        "03. sepal_width 변수값으로 내림차 순 한 후, 위에서부터 100개 행을 학습데이터로 분리하고, 학습데이터에서 sepal_width의 표준편차 값을 구한 후 50을 곱한 값?"
      ],
      "metadata": {
        "id": "dWrW1rrIF7A3"
      }
    },
    {
      "cell_type": "code",
      "source": [
        "sorted_iris = iris.sort_values(by='sepal_width', ascending = False).reset_index(drop=True)\n",
        "sorted_iris_split = sorted_iris.loc[0 :99] # 혹은 sorted_iris.head(100)\n",
        "print(int(sorted_iris_split['sepal_width'].std() * 50))\n"
      ],
      "metadata": {
        "id": "vHIm5zBJF9Q1",
        "colab": {
          "base_uri": "https://localhost:8080/"
        },
        "outputId": "bda8e129-a001-42ab-b49d-d304594da8f8"
      },
      "execution_count": null,
      "outputs": [
        {
          "output_type": "stream",
          "name": "stdout",
          "text": [
            "16\n"
          ]
        }
      ]
    },
    {
      "cell_type": "markdown",
      "source": [
        "04. species 변수 값 별로 petal_length 상위 10개 행(큰 값)의 평균값을 구한 후, 평균값의 합 계산"
      ],
      "metadata": {
        "id": "nC1qE1yGF9h4"
      }
    },
    {
      "cell_type": "code",
      "source": [
        "iris = iris.sort_values(by=['species', 'petal_length'], ascending = [True, False])\n",
        "iris_top10 = iris.groupby('species').head(10)\n",
        "print(round(iris_top10.groupby('species')['petal_length'].mean().sum()))"
      ],
      "metadata": {
        "id": "1et_LYa0F-V6",
        "colab": {
          "base_uri": "https://localhost:8080/"
        },
        "outputId": "ef6abeae-6d64-488b-9e30-506ef5885ba4"
      },
      "execution_count": null,
      "outputs": [
        {
          "output_type": "stream",
          "name": "stdout",
          "text": [
            "13\n"
          ]
        }
      ]
    },
    {
      "cell_type": "markdown",
      "source": [
        "05. sepal_length 변수의 이상치 개수 [(평균+2x표준편차) < 이상치 or (평균-2x표준편차) > 이상치]"
      ],
      "metadata": {
        "id": "IGjuAVBGF-rt"
      }
    },
    {
      "cell_type": "code",
      "source": [
        "mean = iris['sepal_length'].mean()\n",
        "std = iris['sepal_length'].std()\n",
        "crit_up = mean + 2 * std\n",
        "crit_down = mean - 2 * std\n",
        "iris_outliers = iris[(iris['sepal_length'] >= crit_up) | (iris['sepal_length'] <= crit_down)]\n",
        "print(len(iris_outliers))"
      ],
      "metadata": {
        "id": "8CPKIfFkF_VB",
        "colab": {
          "base_uri": "https://localhost:8080/"
        },
        "outputId": "fdb9e74c-3e67-4d40-96e8-9f205ef9b176"
      },
      "execution_count": null,
      "outputs": [
        {
          "output_type": "stream",
          "name": "stdout",
          "text": [
            "6\n"
          ]
        }
      ]
    },
    {
      "cell_type": "markdown",
      "source": [
        "\n",
        "(2) Wine 데이터 세트\n",
        "\n",
        "\n",
        "\n"
      ],
      "metadata": {
        "id": "HTOVhSAOGhPd"
      }
    },
    {
      "cell_type": "code",
      "source": [
        "data = pd.read_csv(\"/content/yemoonsaBigdata/datasets/Part2/wine.csv\")"
      ],
      "metadata": {
        "id": "u3walkdOiDVC"
      },
      "execution_count": 17,
      "outputs": []
    },
    {
      "cell_type": "markdown",
      "source": [
        "01. total_phenols 결측치를 제거하고, <br>\n",
        "    alcalinity_of_ash 결측치는 중앙값으로 대체하여, <br>\n",
        "    alcalinity_of_ash 평균값 계산 <br>\n",
        "    (단, 최종 계산 값의 소수점 이하는 버림)"
      ],
      "metadata": {
        "id": "DuwQHnwxGmja"
      }
    },
    {
      "cell_type": "code",
      "source": [
        "# print(data.info())\n",
        "\n",
        "# 각 컬럼의 결측치 개수 확인\n",
        "# print(data.isnull().sum())\n",
        "\n",
        "# total_phenols 결측치 제거\n",
        "# copy()를 쓰면 원본 데이터프레임에 영향을 안미친다는 경고를 없앨 수 잇다.\n",
        "data_drop = data.dropna(subset=['total_phenols']).copy()\n",
        "\n",
        "# print(data_drop.info())\n",
        "# print(data_drop.isnull().sum())\n",
        "\n",
        "# alcalinity_of_ash 결측치 중앙값으로 대체\n",
        "med = data_drop['alcalinity_of_ash'].median()\n",
        "data_drop['alcalinity_of_ash'] = data_drop['alcalinity_of_ash'].fillna(med)\n",
        "\n",
        "# alcalinity_of_ash 평균값 계산\n",
        "print(np.floor(data_drop['alcalinity_of_ash'].mean()))\n"
      ],
      "metadata": {
        "id": "U49ZOxWaGsWy",
        "colab": {
          "base_uri": "https://localhost:8080/"
        },
        "outputId": "2183db4b-7707-4b98-bdf7-1c7a952ccc45"
      },
      "execution_count": 16,
      "outputs": [
        {
          "output_type": "stream",
          "name": "stdout",
          "text": [
            "19.0\n"
          ]
        }
      ]
    },
    {
      "cell_type": "markdown",
      "source": [
        "2. alcohol 값이 평균값 이상이고, <br>\n",
        "   color_intensity 값이 평균값 이상인 데이터만 남겨졌을 때 <br>\n",
        "   가장 많은 Class 값"
      ],
      "metadata": {
        "id": "MIWFLgAQGsyS"
      }
    },
    {
      "cell_type": "code",
      "source": [
        "# 각 변수 평균값 계산\n",
        "mean_alcohol = data['alcohol'].mean()\n",
        "mean_color = data['color_intensity'].mean()\n",
        "\n",
        "# 평균값 이상 데이터\n",
        "data_filtered = data[(data['alcohol'] >= mean_alcohol)&(data['color_intensity']>= mean_color)]\n",
        "\n",
        "# 가장 많은 클래스값 출력\n",
        "print(data_filtered['class'].value_counts())\n",
        "\n"
      ],
      "metadata": {
        "id": "vap-dZn1Gxsx",
        "colab": {
          "base_uri": "https://localhost:8080/"
        },
        "outputId": "62542562-465b-44a2-ddc8-feae07ea8e4e"
      },
      "execution_count": 18,
      "outputs": [
        {
          "output_type": "stream",
          "name": "stdout",
          "text": [
            "class\n",
            "0    37\n",
            "2    23\n",
            "1     1\n",
            "Name: count, dtype: int64\n"
          ]
        }
      ]
    },
    {
      "cell_type": "markdown",
      "source": [
        "3. class 1에 해당하는 데이터의 ash 평균값 <br>\n",
        "   모든 결측치를 제거한 후의 ash 평균값의 차이의 절대값 <br>\n",
        "   (소수점 아래 4번째 자리에서 반올림)"
      ],
      "metadata": {
        "id": "uqJrrPA6Gx9z"
      }
    },
    {
      "cell_type": "code",
      "source": [
        "# class1에 해당하는 데이터의 ash 평균값\n",
        "ash_mean_class1 = data[data['class'] == 1]['ash'].mean()\n",
        "ash_mean_notnull = data.dropna()['ash'].mean()\n",
        "\n",
        "# 평균값 차이 절대값 (소수점 4번째 자리에서 반올림)\n",
        "print(round(abs(ash_mean_class1-ash_mean_notnull), 3))"
      ],
      "metadata": {
        "id": "prvruBuHG4FH",
        "colab": {
          "base_uri": "https://localhost:8080/"
        },
        "outputId": "75c35032-dd9c-4ac7-dc7d-8cb7e3c9d0aa"
      },
      "execution_count": 19,
      "outputs": [
        {
          "output_type": "stream",
          "name": "stdout",
          "text": [
            "0.12\n"
          ]
        }
      ]
    },
    {
      "cell_type": "markdown",
      "source": [
        "4. alcohol 상위 20번째 값으로 상위 20개의 값을 변환하고, <br>\n",
        "   proanthocyanins 가 2이하인 데이터만 추출하여 <br>\n",
        "   alcohol의 평균값 계산\n",
        "   (소수점 3번째 자리에서 반올림)"
      ],
      "metadata": {
        "id": "Vm_oCJubG4WW"
      }
    },
    {
      "cell_type": "code",
      "source": [
        "# alcohol 내림차순으로 정렬\n",
        "data_sorted = data.sort_values(by='alcohol', axis = 0, scending = False).copy()\n",
        "data_sorted = data_sorted.reset_index(drop=True)\n",
        "\n",
        "# print(data_sorted)\n",
        "\n",
        "# 상위 20번째 값으로 상위 20개의 값 변환\n",
        "# print(data_sorted.loc[19,'alcohol'])\n",
        "data_sorted.loc[0:19, 'alcohol'] = data_sorted.loc[19, 'alcohol']\n",
        "\n",
        "# proanthocyanins 가 2이하인 데이터만 추출하여\n",
        "# alcohol의 평균값 계산 (소수점 3번째 자리에서 반올림)\n",
        "print(round(data_sorted[data_sorted['proanthocyanins'] <= 2]['alcohol'].mean(), 2))"
      ],
      "metadata": {
        "id": "of8PBcl4G8jc",
        "colab": {
          "base_uri": "https://localhost:8080/"
        },
        "outputId": "9cb7f0b0-2009-47f4-93b8-551b2e451c17"
      },
      "execution_count": 31,
      "outputs": [
        {
          "output_type": "stream",
          "name": "stdout",
          "text": [
            "12.92\n"
          ]
        }
      ]
    },
    {
      "cell_type": "markdown",
      "source": [
        "5. class 1에 해당하는 데이터의 proline 변수의 (제3사분위 수 - 제1사분위 수) <br>\n",
        "   class 2에 해당하는 데이터의 proline 변수의 (제3사분위 수 - 제1사분위 수) <br>\n",
        "   두 값의 절대값 차이"
      ],
      "metadata": {
        "id": "CDATFopgG82R"
      }
    },
    {
      "cell_type": "code",
      "source": [
        "class1_q1, class1_q3 = data[data['class']==1]['proline'].quantile([0.25, 0.75])\n",
        "class2_q1, class2_q3 = data[data['class']==2]['proline'].quantile([0.25, 0.75])\n",
        "print(abs((class1_q3 - class1_q1)-(class2_q3 - class2_q1)))"
      ],
      "metadata": {
        "id": "Az_w9XJYHE0j",
        "colab": {
          "base_uri": "https://localhost:8080/"
        },
        "outputId": "4d49179c-5a8b-4464-e547-7d94897d7783"
      },
      "execution_count": 32,
      "outputs": [
        {
          "output_type": "stream",
          "name": "stdout",
          "text": [
            "68.5\n"
          ]
        }
      ]
    },
    {
      "cell_type": "markdown",
      "source": [
        "**2. 작업형 제2유형** : 은하여부 분류모델"
      ],
      "metadata": {
        "id": "mXkR10XuqP-p"
      }
    },
    {
      "cell_type": "markdown",
      "source": [
        "(1) 사전 준비"
      ],
      "metadata": {
        "id": "lXtlGidsqv0J"
      }
    },
    {
      "cell_type": "code",
      "source": [
        "import pandas as pd\n",
        "import numpy as np\n",
        "\n",
        "X_train = pd.read_csv('/content/yemoonsaBigdata/datasets/Part2/stellar_X_train.csv')\n",
        "X_test = pd.read_csv('/content/yemoonsaBigdata/datasets/Part2/stellar_X_test.csv')\n",
        "y_train = pd.read_csv('/content/yemoonsaBigdata/datasets/Part2/stellar_y_train.csv')"
      ],
      "metadata": {
        "id": "_gLwiIfGqPX_"
      },
      "execution_count": 11,
      "outputs": []
    },
    {
      "cell_type": "markdown",
      "source": [
        "(2) 전처리"
      ],
      "metadata": {
        "id": "Nsp5gOEXqyAD"
      }
    },
    {
      "cell_type": "code",
      "source": [
        "#print(X_train.info())\n",
        "#print(X_test.info())\n",
        "#print(y_train.info())\n",
        "\n",
        "print(X_train.describe())"
      ],
      "metadata": {
        "colab": {
          "base_uri": "https://localhost:8080/"
        },
        "collapsed": true,
        "id": "zBC_aTQ2q5Ih",
        "outputId": "aeee976e-8062-4695-e80c-4fc4cff187ec"
      },
      "execution_count": 12,
      "outputs": [
        {
          "output_type": "stream",
          "name": "stdout",
          "text": [
            "              alpha         delta             u             g             r  \\\n",
            "count  70000.000000  70000.000000  70000.000000  70000.000000  70000.000000   \n",
            "mean     177.535809     24.107885     21.938806     20.486718     19.644011   \n",
            "std       96.483093     19.665057     37.942814     37.925201      1.852053   \n",
            "min        0.005528    -18.785328  -9999.000000  -9999.000000      9.822070   \n",
            "25%      127.385304      5.115922     20.349987     18.957325     18.136183   \n",
            "50%      180.706865     23.579507     22.183860     21.095445     20.122805   \n",
            "75%      233.942154     39.871336     23.684145     22.121073     21.039012   \n",
            "max      359.999615     82.947622     32.781390     31.602240     29.571860   \n",
            "\n",
            "                  i             z      redshift        run_ID  rerun_ID  \\\n",
            "count  70000.000000  70000.000000  70000.000000  70000.000000   70000.0   \n",
            "mean      19.082969     18.624590      0.575246   4478.649443     301.0   \n",
            "std        1.755997     37.904705      0.729921   1965.326847       0.0   \n",
            "min        9.469903  -9999.000000     -0.009971    109.000000     301.0   \n",
            "25%       17.733732     17.463838      0.052602   3185.000000     301.0   \n",
            "50%       19.399590     19.001010      0.422838   4188.000000     301.0   \n",
            "75%       20.391340     19.917578      0.700399   5326.000000     301.0   \n",
            "max       32.141470     28.790550      7.011245   8162.000000     301.0   \n",
            "\n",
            "            cam_col      field_ID         plate  \n",
            "count  70000.000000  70000.000000  70000.000000  \n",
            "mean       3.510500    186.045714   5127.852900  \n",
            "std        1.585203    148.661268   2947.452991  \n",
            "min        1.000000     11.000000    266.000000  \n",
            "25%        2.000000     82.000000   2525.750000  \n",
            "50%        4.000000    146.000000   4978.000000  \n",
            "75%        5.000000    241.000000   7389.000000  \n",
            "max        6.000000    989.000000  12547.000000  \n"
          ]
        }
      ]
    },
    {
      "cell_type": "code",
      "source": [
        "\n",
        "# 이상치 제거 : u, g, z\n",
        "y_train = y_train.loc[X_train.u !=  -9999]\n",
        "X_train = X_train.loc[X_train.u !=  -9999]\n",
        "\n",
        "X_train.reset_index(drop=True, inplace=True)\n",
        "y_train.reset_index(drop=True, inplace=True)\n",
        "\n",
        "print(X_train.describe())"
      ],
      "metadata": {
        "colab": {
          "base_uri": "https://localhost:8080/"
        },
        "collapsed": true,
        "id": "5OXPf9IwtQgE",
        "outputId": "7ff71f5a-cdee-43f6-8b31-1625ec1adada"
      },
      "execution_count": 13,
      "outputs": [
        {
          "output_type": "stream",
          "name": "stdout",
          "text": [
            "              alpha         delta             u             g             r  \\\n",
            "count  69999.000000  69999.000000  69999.000000  69999.000000  69999.000000   \n",
            "mean     177.535145     24.108238     22.081964     20.629856     19.644032   \n",
            "std       96.483622     19.664976      2.248554      2.033576      1.852057   \n",
            "min        0.005528    -18.785328     10.996230     10.498200      9.822070   \n",
            "25%      127.384192      5.117238     20.350000     18.957435     18.136075   \n",
            "50%      180.705886     23.580630     22.183900     21.095450     20.122810   \n",
            "75%      233.942330     39.872079     23.684160     22.121075     21.039035   \n",
            "max      359.999615     82.947622     32.781390     31.602240     29.571860   \n",
            "\n",
            "                  i             z      redshift        run_ID  rerun_ID  \\\n",
            "count  69999.000000  69999.000000  69999.000000  69999.000000   69999.0   \n",
            "mean      19.082984     18.767701      0.575254   4478.702681     301.0   \n",
            "std        1.756005      1.764734      0.729923   1965.290408       0.0   \n",
            "min        9.469903      9.612333     -0.009971    109.000000     301.0   \n",
            "25%       17.733685     17.463885      0.052608   3185.000000     301.0   \n",
            "50%       19.399590     19.001020      0.422848   4188.000000     301.0   \n",
            "75%       20.391350     19.917595      0.700399   5326.000000     301.0   \n",
            "max       32.141470     28.790550      7.011245   8162.000000     301.0   \n",
            "\n",
            "            cam_col      field_ID         plate  \n",
            "count  69999.000000  69999.000000  69999.000000  \n",
            "mean       3.510522    186.040701   5127.878813  \n",
            "std        1.585204    148.656411   2947.466071  \n",
            "min        1.000000     11.000000    266.000000  \n",
            "25%        2.000000     82.000000   2525.500000  \n",
            "50%        4.000000    146.000000   4978.000000  \n",
            "75%        5.000000    241.000000   7389.000000  \n",
            "max        6.000000    989.000000  12547.000000  \n"
          ]
        }
      ]
    },
    {
      "cell_type": "code",
      "source": [
        "print(X_train['redshift'].quantile([q/100 for q in range(90, 101)]))\n",
        "# 약 2%만이 3을 넘음!"
      ],
      "metadata": {
        "colab": {
          "base_uri": "https://localhost:8080/"
        },
        "collapsed": true,
        "id": "XFuB29vqtX9U",
        "outputId": "244d38c4-8dab-49e1-d985-8abece25e214"
      },
      "execution_count": 14,
      "outputs": [
        {
          "output_type": "stream",
          "name": "stdout",
          "text": [
            "0.90    1.566266\n",
            "0.91    1.675948\n",
            "0.92    1.786824\n",
            "0.93    1.910857\n",
            "0.94    2.041589\n",
            "0.95    2.186017\n",
            "0.96    2.323494\n",
            "0.97    2.485796\n",
            "0.98    2.713839\n",
            "0.99    3.116165\n",
            "1.00    7.011245\n",
            "Name: redshift, dtype: float64\n"
          ]
        }
      ]
    },
    {
      "cell_type": "code",
      "source": [
        "# 파생변수 추가\n",
        "X_train['redshift_upper3'] = np.where(X_train['redshift']>3, 1, 0)\n",
        "X_test['redshift_upper3'] = np.where(X_test['redshift']>3, 1, 0)"
      ],
      "metadata": {
        "id": "0gla04fztuxB"
      },
      "execution_count": 15,
      "outputs": []
    },
    {
      "cell_type": "markdown",
      "source": [
        "변수 타입별 분류"
      ],
      "metadata": {
        "id": "I9F28ChZuGrV"
      }
    },
    {
      "cell_type": "code",
      "source": [
        "COL_DEL = []\n",
        "COL_NUM = ['alpha', 'delta', 'u', 'g', 'r', 'i', 'z', 'redshift']\n",
        "COL_CAT = ['run_ID', 'rerun_ID', 'cam_col', 'field_ID', 'plate', 'redshift_upper3']\n",
        "COL_Y = ['galaxy']\n",
        "\n",
        "X_train[COL_CAT] = X_train[COL_CAT].astype(str)\n",
        "X_test[COL_CAT] = X_test[COL_CAT].astype(str)\n",
        "\n",
        "X_train = X_train.drop(COL_DEL, axis = 1)\n",
        "X_test = X_test.drop(COL_DEL, axis = 1)"
      ],
      "metadata": {
        "id": "gry8ibGPuDKD"
      },
      "execution_count": 17,
      "outputs": []
    },
    {
      "cell_type": "code",
      "source": [
        "train_df = pd.concat([X_train, y_train], axis = 1)\n",
        "\n",
        "for _col in COL_NUM :\n",
        "  print('-' * 70)\n",
        "  print(_col)\n",
        "  print(train_df.groupby(COL_Y)[_col].describe(), end='\\n')\n",
        "  # 수치형 중 의미있어 보이는 변수 : redshift"
      ],
      "metadata": {
        "colab": {
          "base_uri": "https://localhost:8080/"
        },
        "collapsed": true,
        "id": "0lNSs_7TvP50",
        "outputId": "1121f44f-4c3f-46a9-d969-3e88bfe2417e"
      },
      "execution_count": 20,
      "outputs": [
        {
          "output_type": "stream",
          "name": "stdout",
          "text": [
            "----------------------------------------------------------------------\n",
            "alpha\n",
            "          count        mean        std       min         25%         50%  \\\n",
            "galaxy                                                                     \n",
            "0       28433.0  177.234737  99.202036  0.010959  120.997187  180.253146   \n",
            "1       41566.0  177.740638  94.579769  0.005528  131.392267  181.032298   \n",
            "\n",
            "               75%         max  \n",
            "galaxy                          \n",
            "0       239.025694  359.999615  \n",
            "1       231.397544  359.989386  \n",
            "----------------------------------------------------------------------\n",
            "delta\n",
            "          count       mean        std        min       25%        50%  \\\n",
            "galaxy                                                                  \n",
            "0       28433.0  25.067356  20.141007 -18.785328  5.060842  26.372836   \n",
            "1       41566.0  23.452158  19.305416 -12.364701  5.136824  22.255904   \n",
            "\n",
            "              75%        max  \n",
            "galaxy                        \n",
            "0       41.762988  82.947622  \n",
            "1       37.855667  77.615588  \n",
            "----------------------------------------------------------------------\n",
            "u\n",
            "          count      mean       std       min        25%        50%  \\\n",
            "galaxy                                                                \n",
            "0       28433.0  21.34313  2.010059  10.99623  19.987270  21.355940   \n",
            "1       41566.0  22.58736  2.263188  13.89799  20.786442  22.847385   \n",
            "\n",
            "              75%       max  \n",
            "galaxy                       \n",
            "0       22.548860  32.78139  \n",
            "1       24.207522  29.32565  \n",
            "----------------------------------------------------------------------\n",
            "g\n",
            "          count       mean       std       min       25%        50%  \\\n",
            "galaxy                                                                \n",
            "0       28433.0  20.231791  1.851996  10.49820  19.00707  20.579190   \n",
            "1       41566.0  20.902150  2.106089  12.68849  18.90630  21.581005   \n",
            "\n",
            "              75%       max  \n",
            "galaxy                       \n",
            "0       21.533270  30.60700  \n",
            "1       22.439442  31.60224  \n",
            "----------------------------------------------------------------------\n",
            "r\n",
            "          count       mean       std       min        25%       50%  \\\n",
            "galaxy                                                                \n",
            "0       28433.0  19.734722  1.818405   9.82207  18.541890  20.15357   \n",
            "1       41566.0  19.581995  1.872222  11.77229  17.812303  20.10107   \n",
            "\n",
            "              75%       max  \n",
            "galaxy                       \n",
            "0       21.125780  29.37411  \n",
            "1       20.963275  29.57186  \n",
            "----------------------------------------------------------------------\n",
            "i\n",
            "          count       mean       std        min        25%        50%  \\\n",
            "galaxy                                                                  \n",
            "0       28433.0  19.429044  1.795189   9.469903  18.254250  19.831600   \n",
            "1       41566.0  18.846264  1.688337  11.319370  17.377382  19.217675   \n",
            "\n",
            "              75%       max  \n",
            "galaxy                       \n",
            "0       20.825140  32.14147  \n",
            "1       19.934773  30.16359  \n",
            "----------------------------------------------------------------------\n",
            "z\n",
            "          count       mean       std        min       25%       50%  \\\n",
            "galaxy                                                                \n",
            "0       28433.0  19.240711  1.811976   9.612333  18.03419  19.61244   \n",
            "1       41566.0  18.444141  1.655606  10.897380  17.09492  18.76067   \n",
            "\n",
            "              75%       max  \n",
            "galaxy                       \n",
            "0       20.627150  28.79055  \n",
            "1       19.463442  28.23829  \n",
            "----------------------------------------------------------------------\n",
            "redshift\n",
            "          count      mean       std       min       25%       50%       75%  \\\n",
            "galaxy                                                                        \n",
            "0       28433.0  0.801073  1.060163 -0.004136 -0.000095  0.000388  1.540357   \n",
            "1       41566.0  0.420785  0.263971 -0.009971  0.164568  0.456604  0.593396   \n",
            "\n",
            "             max  \n",
            "galaxy            \n",
            "0       7.011245  \n",
            "1       1.995524  \n"
          ]
        }
      ]
    },
    {
      "cell_type": "code",
      "source": [
        "for _col in COL_CAT:\n",
        "  print(train_df.groupby(_col, as_index=False)[COL_Y]\n",
        "        .mean().sort_values(by=COL_Y, ascending=False), end='\\n')\n",
        "# 범주형 중 의미있어 보이는 변수 : cam_col, redshift_upper3"
      ],
      "metadata": {
        "colab": {
          "base_uri": "https://localhost:8080/"
        },
        "collapsed": true,
        "id": "3D8PQGcG6Cv2",
        "outputId": "06519526-e757-4445-df6b-365bafeb2a13"
      },
      "execution_count": 21,
      "outputs": [
        {
          "output_type": "stream",
          "name": "stdout",
          "text": [
            "    run_ID  galaxy\n",
            "97    2883     1.0\n",
            "325   6121     1.0\n",
            "399   8054     1.0\n",
            "38    1897     1.0\n",
            "245   4800     1.0\n",
            "..     ...     ...\n",
            "292   5378     0.0\n",
            "279   5237     0.0\n",
            "268   5115     0.0\n",
            "261   5060     0.0\n",
            "424    994     0.0\n",
            "\n",
            "[425 rows x 2 columns]\n",
            "  rerun_ID    galaxy\n",
            "0      301  0.593808\n",
            "  cam_col    galaxy\n",
            "0       1  0.619151\n",
            "3       4  0.612120\n",
            "4       5  0.610490\n",
            "2       3  0.593031\n",
            "1       2  0.583152\n",
            "5       6  0.530405\n",
            "    field_ID  galaxy\n",
            "676      717     1.0\n",
            "750      788     1.0\n",
            "667      708     1.0\n",
            "704      746     1.0\n",
            "706      748     1.0\n",
            "..       ...     ...\n",
            "830      934     0.0\n",
            "829      933     0.0\n",
            "828      932     0.0\n",
            "827      931     0.0\n",
            "835      940     0.0\n",
            "\n",
            "[847 rows x 2 columns]\n",
            "     plate  galaxy\n",
            "6186   999     1.0\n",
            "4292  6417     1.0\n",
            "4263  6388     1.0\n",
            "4264  6389     1.0\n",
            "1082  1900     1.0\n",
            "...    ...     ...\n",
            "1653  2560     0.0\n",
            "1655  2563     0.0\n",
            "1656  2564     0.0\n",
            "3569  5343     0.0\n",
            "1073  1891     0.0\n",
            "\n",
            "[6187 rows x 2 columns]\n",
            "  redshift_upper3    galaxy\n",
            "0               0  0.601125\n",
            "1               1  0.000000\n"
          ]
        }
      ]
    },
    {
      "cell_type": "markdown",
      "source": [
        "레이블 인코딩"
      ],
      "metadata": {
        "id": "RVrbN5Iq6cV5"
      }
    },
    {
      "cell_type": "code",
      "source": [
        "from sklearn.preprocessing import LabelEncoder\n",
        "X = pd.concat([X_train, X_test])\n",
        "\n",
        "for _col in COL_CAT :\n",
        "  le = LabelEncoder()\n",
        "  le.fit(X[_col])\n",
        "  X_train[_col] = le.transform(X_train[_col])\n",
        "  X_test[_col] = le.transform(X_test[_col])"
      ],
      "metadata": {
        "id": "sjm5wqdQ6bHg"
      },
      "execution_count": 22,
      "outputs": []
    },
    {
      "cell_type": "markdown",
      "source": [
        "학습을 위한 데이터 분리"
      ],
      "metadata": {
        "id": "3GKPbqLP7uO-"
      }
    },
    {
      "cell_type": "code",
      "source": [
        "from sklearn.model_selection import train_test_split\n",
        "X_tr, X_val, y_tr, y_val = train_test_split(X_train, y_train, test_size = 0.3, stratify = y_train)"
      ],
      "metadata": {
        "id": "jVa0pdlv7FT9"
      },
      "execution_count": 25,
      "outputs": []
    },
    {
      "cell_type": "markdown",
      "source": [
        "스케일링"
      ],
      "metadata": {
        "id": "BxYzPC5m7t25"
      }
    },
    {
      "cell_type": "code",
      "source": [
        "from sklearn.preprocessing import StandardScaler\n",
        "\n",
        "scaler = StandardScaler()\n",
        "X_tr[COL_NUM] = scaler.fit_transform(X_tr[COL_NUM])\n",
        "X_val[COL_NUM] = scaler.transform(X_val[COL_NUM])\n",
        "X_test[COL_NUM] = scaler.transform(X_test[COL_NUM])"
      ],
      "metadata": {
        "id": "2ytwIqL87tWu"
      },
      "execution_count": 26,
      "outputs": []
    },
    {
      "cell_type": "markdown",
      "source": [
        "(3) 모델 구축"
      ],
      "metadata": {
        "id": "J5JxolFGq5eB"
      }
    },
    {
      "cell_type": "code",
      "source": [
        "from sklearn.ensemble import RandomForestClassifier\n",
        "\n",
        "model_rf = RandomForestClassifier()\n",
        "model_rf.fit(X_tr, y_tr.values.ravel())"
      ],
      "metadata": {
        "colab": {
          "base_uri": "https://localhost:8080/",
          "height": 75
        },
        "collapsed": true,
        "id": "kyiPuVGOq8Yh",
        "outputId": "b7ba7bd1-9596-4860-9bce-b42bdec179f2"
      },
      "execution_count": 28,
      "outputs": [
        {
          "output_type": "execute_result",
          "data": {
            "text/plain": [
              "RandomForestClassifier()"
            ],
            "text/html": [
              "<style>#sk-container-id-1 {color: black;}#sk-container-id-1 pre{padding: 0;}#sk-container-id-1 div.sk-toggleable {background-color: white;}#sk-container-id-1 label.sk-toggleable__label {cursor: pointer;display: block;width: 100%;margin-bottom: 0;padding: 0.3em;box-sizing: border-box;text-align: center;}#sk-container-id-1 label.sk-toggleable__label-arrow:before {content: \"▸\";float: left;margin-right: 0.25em;color: #696969;}#sk-container-id-1 label.sk-toggleable__label-arrow:hover:before {color: black;}#sk-container-id-1 div.sk-estimator:hover label.sk-toggleable__label-arrow:before {color: black;}#sk-container-id-1 div.sk-toggleable__content {max-height: 0;max-width: 0;overflow: hidden;text-align: left;background-color: #f0f8ff;}#sk-container-id-1 div.sk-toggleable__content pre {margin: 0.2em;color: black;border-radius: 0.25em;background-color: #f0f8ff;}#sk-container-id-1 input.sk-toggleable__control:checked~div.sk-toggleable__content {max-height: 200px;max-width: 100%;overflow: auto;}#sk-container-id-1 input.sk-toggleable__control:checked~label.sk-toggleable__label-arrow:before {content: \"▾\";}#sk-container-id-1 div.sk-estimator input.sk-toggleable__control:checked~label.sk-toggleable__label {background-color: #d4ebff;}#sk-container-id-1 div.sk-label input.sk-toggleable__control:checked~label.sk-toggleable__label {background-color: #d4ebff;}#sk-container-id-1 input.sk-hidden--visually {border: 0;clip: rect(1px 1px 1px 1px);clip: rect(1px, 1px, 1px, 1px);height: 1px;margin: -1px;overflow: hidden;padding: 0;position: absolute;width: 1px;}#sk-container-id-1 div.sk-estimator {font-family: monospace;background-color: #f0f8ff;border: 1px dotted black;border-radius: 0.25em;box-sizing: border-box;margin-bottom: 0.5em;}#sk-container-id-1 div.sk-estimator:hover {background-color: #d4ebff;}#sk-container-id-1 div.sk-parallel-item::after {content: \"\";width: 100%;border-bottom: 1px solid gray;flex-grow: 1;}#sk-container-id-1 div.sk-label:hover label.sk-toggleable__label {background-color: #d4ebff;}#sk-container-id-1 div.sk-serial::before {content: \"\";position: absolute;border-left: 1px solid gray;box-sizing: border-box;top: 0;bottom: 0;left: 50%;z-index: 0;}#sk-container-id-1 div.sk-serial {display: flex;flex-direction: column;align-items: center;background-color: white;padding-right: 0.2em;padding-left: 0.2em;position: relative;}#sk-container-id-1 div.sk-item {position: relative;z-index: 1;}#sk-container-id-1 div.sk-parallel {display: flex;align-items: stretch;justify-content: center;background-color: white;position: relative;}#sk-container-id-1 div.sk-item::before, #sk-container-id-1 div.sk-parallel-item::before {content: \"\";position: absolute;border-left: 1px solid gray;box-sizing: border-box;top: 0;bottom: 0;left: 50%;z-index: -1;}#sk-container-id-1 div.sk-parallel-item {display: flex;flex-direction: column;z-index: 1;position: relative;background-color: white;}#sk-container-id-1 div.sk-parallel-item:first-child::after {align-self: flex-end;width: 50%;}#sk-container-id-1 div.sk-parallel-item:last-child::after {align-self: flex-start;width: 50%;}#sk-container-id-1 div.sk-parallel-item:only-child::after {width: 0;}#sk-container-id-1 div.sk-dashed-wrapped {border: 1px dashed gray;margin: 0 0.4em 0.5em 0.4em;box-sizing: border-box;padding-bottom: 0.4em;background-color: white;}#sk-container-id-1 div.sk-label label {font-family: monospace;font-weight: bold;display: inline-block;line-height: 1.2em;}#sk-container-id-1 div.sk-label-container {text-align: center;}#sk-container-id-1 div.sk-container {/* jupyter's `normalize.less` sets `[hidden] { display: none; }` but bootstrap.min.css set `[hidden] { display: none !important; }` so we also need the `!important` here to be able to override the default hidden behavior on the sphinx rendered scikit-learn.org. See: https://github.com/scikit-learn/scikit-learn/issues/21755 */display: inline-block !important;position: relative;}#sk-container-id-1 div.sk-text-repr-fallback {display: none;}</style><div id=\"sk-container-id-1\" class=\"sk-top-container\"><div class=\"sk-text-repr-fallback\"><pre>RandomForestClassifier()</pre><b>In a Jupyter environment, please rerun this cell to show the HTML representation or trust the notebook. <br />On GitHub, the HTML representation is unable to render, please try loading this page with nbviewer.org.</b></div><div class=\"sk-container\" hidden><div class=\"sk-item\"><div class=\"sk-estimator sk-toggleable\"><input class=\"sk-toggleable__control sk-hidden--visually\" id=\"sk-estimator-id-1\" type=\"checkbox\" checked><label for=\"sk-estimator-id-1\" class=\"sk-toggleable__label sk-toggleable__label-arrow\">RandomForestClassifier</label><div class=\"sk-toggleable__content\"><pre>RandomForestClassifier()</pre></div></div></div></div></div>"
            ]
          },
          "metadata": {},
          "execution_count": 28
        }
      ]
    },
    {
      "cell_type": "code",
      "source": [
        "from xgboost import XGBClassifier\n",
        "\n",
        "model_xgb = XGBClassifier()\n",
        "model_xgb.fit(X_tr, y_tr.values.ravel())"
      ],
      "metadata": {
        "colab": {
          "base_uri": "https://localhost:8080/",
          "height": 248
        },
        "collapsed": true,
        "id": "bp9zg1XD-XMO",
        "outputId": "112991bf-32cd-4cb1-c76c-2d8825ec01da"
      },
      "execution_count": 29,
      "outputs": [
        {
          "output_type": "execute_result",
          "data": {
            "text/plain": [
              "XGBClassifier(base_score=None, booster=None, callbacks=None,\n",
              "              colsample_bylevel=None, colsample_bynode=None,\n",
              "              colsample_bytree=None, device=None, early_stopping_rounds=None,\n",
              "              enable_categorical=False, eval_metric=None, feature_types=None,\n",
              "              gamma=None, grow_policy=None, importance_type=None,\n",
              "              interaction_constraints=None, learning_rate=None, max_bin=None,\n",
              "              max_cat_threshold=None, max_cat_to_onehot=None,\n",
              "              max_delta_step=None, max_depth=None, max_leaves=None,\n",
              "              min_child_weight=None, missing=nan, monotone_constraints=None,\n",
              "              multi_strategy=None, n_estimators=None, n_jobs=None,\n",
              "              num_parallel_tree=None, random_state=None, ...)"
            ],
            "text/html": [
              "<style>#sk-container-id-2 {color: black;}#sk-container-id-2 pre{padding: 0;}#sk-container-id-2 div.sk-toggleable {background-color: white;}#sk-container-id-2 label.sk-toggleable__label {cursor: pointer;display: block;width: 100%;margin-bottom: 0;padding: 0.3em;box-sizing: border-box;text-align: center;}#sk-container-id-2 label.sk-toggleable__label-arrow:before {content: \"▸\";float: left;margin-right: 0.25em;color: #696969;}#sk-container-id-2 label.sk-toggleable__label-arrow:hover:before {color: black;}#sk-container-id-2 div.sk-estimator:hover label.sk-toggleable__label-arrow:before {color: black;}#sk-container-id-2 div.sk-toggleable__content {max-height: 0;max-width: 0;overflow: hidden;text-align: left;background-color: #f0f8ff;}#sk-container-id-2 div.sk-toggleable__content pre {margin: 0.2em;color: black;border-radius: 0.25em;background-color: #f0f8ff;}#sk-container-id-2 input.sk-toggleable__control:checked~div.sk-toggleable__content {max-height: 200px;max-width: 100%;overflow: auto;}#sk-container-id-2 input.sk-toggleable__control:checked~label.sk-toggleable__label-arrow:before {content: \"▾\";}#sk-container-id-2 div.sk-estimator input.sk-toggleable__control:checked~label.sk-toggleable__label {background-color: #d4ebff;}#sk-container-id-2 div.sk-label input.sk-toggleable__control:checked~label.sk-toggleable__label {background-color: #d4ebff;}#sk-container-id-2 input.sk-hidden--visually {border: 0;clip: rect(1px 1px 1px 1px);clip: rect(1px, 1px, 1px, 1px);height: 1px;margin: -1px;overflow: hidden;padding: 0;position: absolute;width: 1px;}#sk-container-id-2 div.sk-estimator {font-family: monospace;background-color: #f0f8ff;border: 1px dotted black;border-radius: 0.25em;box-sizing: border-box;margin-bottom: 0.5em;}#sk-container-id-2 div.sk-estimator:hover {background-color: #d4ebff;}#sk-container-id-2 div.sk-parallel-item::after {content: \"\";width: 100%;border-bottom: 1px solid gray;flex-grow: 1;}#sk-container-id-2 div.sk-label:hover label.sk-toggleable__label {background-color: #d4ebff;}#sk-container-id-2 div.sk-serial::before {content: \"\";position: absolute;border-left: 1px solid gray;box-sizing: border-box;top: 0;bottom: 0;left: 50%;z-index: 0;}#sk-container-id-2 div.sk-serial {display: flex;flex-direction: column;align-items: center;background-color: white;padding-right: 0.2em;padding-left: 0.2em;position: relative;}#sk-container-id-2 div.sk-item {position: relative;z-index: 1;}#sk-container-id-2 div.sk-parallel {display: flex;align-items: stretch;justify-content: center;background-color: white;position: relative;}#sk-container-id-2 div.sk-item::before, #sk-container-id-2 div.sk-parallel-item::before {content: \"\";position: absolute;border-left: 1px solid gray;box-sizing: border-box;top: 0;bottom: 0;left: 50%;z-index: -1;}#sk-container-id-2 div.sk-parallel-item {display: flex;flex-direction: column;z-index: 1;position: relative;background-color: white;}#sk-container-id-2 div.sk-parallel-item:first-child::after {align-self: flex-end;width: 50%;}#sk-container-id-2 div.sk-parallel-item:last-child::after {align-self: flex-start;width: 50%;}#sk-container-id-2 div.sk-parallel-item:only-child::after {width: 0;}#sk-container-id-2 div.sk-dashed-wrapped {border: 1px dashed gray;margin: 0 0.4em 0.5em 0.4em;box-sizing: border-box;padding-bottom: 0.4em;background-color: white;}#sk-container-id-2 div.sk-label label {font-family: monospace;font-weight: bold;display: inline-block;line-height: 1.2em;}#sk-container-id-2 div.sk-label-container {text-align: center;}#sk-container-id-2 div.sk-container {/* jupyter's `normalize.less` sets `[hidden] { display: none; }` but bootstrap.min.css set `[hidden] { display: none !important; }` so we also need the `!important` here to be able to override the default hidden behavior on the sphinx rendered scikit-learn.org. See: https://github.com/scikit-learn/scikit-learn/issues/21755 */display: inline-block !important;position: relative;}#sk-container-id-2 div.sk-text-repr-fallback {display: none;}</style><div id=\"sk-container-id-2\" class=\"sk-top-container\"><div class=\"sk-text-repr-fallback\"><pre>XGBClassifier(base_score=None, booster=None, callbacks=None,\n",
              "              colsample_bylevel=None, colsample_bynode=None,\n",
              "              colsample_bytree=None, device=None, early_stopping_rounds=None,\n",
              "              enable_categorical=False, eval_metric=None, feature_types=None,\n",
              "              gamma=None, grow_policy=None, importance_type=None,\n",
              "              interaction_constraints=None, learning_rate=None, max_bin=None,\n",
              "              max_cat_threshold=None, max_cat_to_onehot=None,\n",
              "              max_delta_step=None, max_depth=None, max_leaves=None,\n",
              "              min_child_weight=None, missing=nan, monotone_constraints=None,\n",
              "              multi_strategy=None, n_estimators=None, n_jobs=None,\n",
              "              num_parallel_tree=None, random_state=None, ...)</pre><b>In a Jupyter environment, please rerun this cell to show the HTML representation or trust the notebook. <br />On GitHub, the HTML representation is unable to render, please try loading this page with nbviewer.org.</b></div><div class=\"sk-container\" hidden><div class=\"sk-item\"><div class=\"sk-estimator sk-toggleable\"><input class=\"sk-toggleable__control sk-hidden--visually\" id=\"sk-estimator-id-2\" type=\"checkbox\" checked><label for=\"sk-estimator-id-2\" class=\"sk-toggleable__label sk-toggleable__label-arrow\">XGBClassifier</label><div class=\"sk-toggleable__content\"><pre>XGBClassifier(base_score=None, booster=None, callbacks=None,\n",
              "              colsample_bylevel=None, colsample_bynode=None,\n",
              "              colsample_bytree=None, device=None, early_stopping_rounds=None,\n",
              "              enable_categorical=False, eval_metric=None, feature_types=None,\n",
              "              gamma=None, grow_policy=None, importance_type=None,\n",
              "              interaction_constraints=None, learning_rate=None, max_bin=None,\n",
              "              max_cat_threshold=None, max_cat_to_onehot=None,\n",
              "              max_delta_step=None, max_depth=None, max_leaves=None,\n",
              "              min_child_weight=None, missing=nan, monotone_constraints=None,\n",
              "              multi_strategy=None, n_estimators=None, n_jobs=None,\n",
              "              num_parallel_tree=None, random_state=None, ...)</pre></div></div></div></div></div>"
            ]
          },
          "metadata": {},
          "execution_count": 29
        }
      ]
    },
    {
      "cell_type": "markdown",
      "source": [
        "(4) 모델 평가"
      ],
      "metadata": {
        "id": "6q64brf7q7px"
      }
    },
    {
      "cell_type": "code",
      "source": [
        "from sklearn.metrics import roc_auc_score\n",
        "\n",
        "y_pred_rf = model_rf.predict_proba(X_val)\n",
        "y_pred_xgb = model_xgb.predict_proba(X_val)\n",
        "\n",
        "score_rf = roc_auc_score(y_val, y_pred_rf[:, 1])\n",
        "score_xgb = roc_auc_score(y_val, y_pred_xgb[:, 1])\n",
        "\n",
        "print(score_rf)\n",
        "print(score_xgb)"
      ],
      "metadata": {
        "colab": {
          "base_uri": "https://localhost:8080/"
        },
        "id": "WH2veVBeq_US",
        "outputId": "104430da-65c5-4802-c4e9-0a314f2acc5d"
      },
      "execution_count": 30,
      "outputs": [
        {
          "output_type": "stream",
          "name": "stdout",
          "text": [
            "0.9935925987904382\n",
            "0.9940607610668889\n"
          ]
        }
      ]
    },
    {
      "cell_type": "code",
      "source": [
        "pd.DataFrame(\n",
        "    {\n",
        "        'feature': X_tr.columns,\n",
        "        'fi_rf' : model_rf.feature_importances_,\n",
        "        'fi_xgb' : model_xgb.feature_importances_\n",
        "    }\n",
        ")"
      ],
      "metadata": {
        "colab": {
          "base_uri": "https://localhost:8080/",
          "height": 488
        },
        "id": "3rNX98KS_XwV",
        "outputId": "f4b56d6e-f177-4a10-c88d-777519912290"
      },
      "execution_count": 31,
      "outputs": [
        {
          "output_type": "execute_result",
          "data": {
            "text/plain": [
              "            feature     fi_rf    fi_xgb\n",
              "0             alpha  0.017528  0.010441\n",
              "1             delta  0.016481  0.012633\n",
              "2                 u  0.076267  0.023504\n",
              "3                 g  0.083101  0.088851\n",
              "4                 r  0.048012  0.020520\n",
              "5                 i  0.074391  0.019552\n",
              "6                 z  0.111838  0.040768\n",
              "7          redshift  0.493841  0.736433\n",
              "8            run_ID  0.011675  0.010354\n",
              "9          rerun_ID  0.000000  0.000000\n",
              "10          cam_col  0.004146  0.008863\n",
              "11         field_ID  0.008657  0.010039\n",
              "12            plate  0.046765  0.018042\n",
              "13  redshift_upper3  0.007297  0.000000"
            ],
            "text/html": [
              "\n",
              "  <div id=\"df-345d990c-e0b1-4206-b621-45b4feda1a5f\" class=\"colab-df-container\">\n",
              "    <div>\n",
              "<style scoped>\n",
              "    .dataframe tbody tr th:only-of-type {\n",
              "        vertical-align: middle;\n",
              "    }\n",
              "\n",
              "    .dataframe tbody tr th {\n",
              "        vertical-align: top;\n",
              "    }\n",
              "\n",
              "    .dataframe thead th {\n",
              "        text-align: right;\n",
              "    }\n",
              "</style>\n",
              "<table border=\"1\" class=\"dataframe\">\n",
              "  <thead>\n",
              "    <tr style=\"text-align: right;\">\n",
              "      <th></th>\n",
              "      <th>feature</th>\n",
              "      <th>fi_rf</th>\n",
              "      <th>fi_xgb</th>\n",
              "    </tr>\n",
              "  </thead>\n",
              "  <tbody>\n",
              "    <tr>\n",
              "      <th>0</th>\n",
              "      <td>alpha</td>\n",
              "      <td>0.017528</td>\n",
              "      <td>0.010441</td>\n",
              "    </tr>\n",
              "    <tr>\n",
              "      <th>1</th>\n",
              "      <td>delta</td>\n",
              "      <td>0.016481</td>\n",
              "      <td>0.012633</td>\n",
              "    </tr>\n",
              "    <tr>\n",
              "      <th>2</th>\n",
              "      <td>u</td>\n",
              "      <td>0.076267</td>\n",
              "      <td>0.023504</td>\n",
              "    </tr>\n",
              "    <tr>\n",
              "      <th>3</th>\n",
              "      <td>g</td>\n",
              "      <td>0.083101</td>\n",
              "      <td>0.088851</td>\n",
              "    </tr>\n",
              "    <tr>\n",
              "      <th>4</th>\n",
              "      <td>r</td>\n",
              "      <td>0.048012</td>\n",
              "      <td>0.020520</td>\n",
              "    </tr>\n",
              "    <tr>\n",
              "      <th>5</th>\n",
              "      <td>i</td>\n",
              "      <td>0.074391</td>\n",
              "      <td>0.019552</td>\n",
              "    </tr>\n",
              "    <tr>\n",
              "      <th>6</th>\n",
              "      <td>z</td>\n",
              "      <td>0.111838</td>\n",
              "      <td>0.040768</td>\n",
              "    </tr>\n",
              "    <tr>\n",
              "      <th>7</th>\n",
              "      <td>redshift</td>\n",
              "      <td>0.493841</td>\n",
              "      <td>0.736433</td>\n",
              "    </tr>\n",
              "    <tr>\n",
              "      <th>8</th>\n",
              "      <td>run_ID</td>\n",
              "      <td>0.011675</td>\n",
              "      <td>0.010354</td>\n",
              "    </tr>\n",
              "    <tr>\n",
              "      <th>9</th>\n",
              "      <td>rerun_ID</td>\n",
              "      <td>0.000000</td>\n",
              "      <td>0.000000</td>\n",
              "    </tr>\n",
              "    <tr>\n",
              "      <th>10</th>\n",
              "      <td>cam_col</td>\n",
              "      <td>0.004146</td>\n",
              "      <td>0.008863</td>\n",
              "    </tr>\n",
              "    <tr>\n",
              "      <th>11</th>\n",
              "      <td>field_ID</td>\n",
              "      <td>0.008657</td>\n",
              "      <td>0.010039</td>\n",
              "    </tr>\n",
              "    <tr>\n",
              "      <th>12</th>\n",
              "      <td>plate</td>\n",
              "      <td>0.046765</td>\n",
              "      <td>0.018042</td>\n",
              "    </tr>\n",
              "    <tr>\n",
              "      <th>13</th>\n",
              "      <td>redshift_upper3</td>\n",
              "      <td>0.007297</td>\n",
              "      <td>0.000000</td>\n",
              "    </tr>\n",
              "  </tbody>\n",
              "</table>\n",
              "</div>\n",
              "    <div class=\"colab-df-buttons\">\n",
              "\n",
              "  <div class=\"colab-df-container\">\n",
              "    <button class=\"colab-df-convert\" onclick=\"convertToInteractive('df-345d990c-e0b1-4206-b621-45b4feda1a5f')\"\n",
              "            title=\"Convert this dataframe to an interactive table.\"\n",
              "            style=\"display:none;\">\n",
              "\n",
              "  <svg xmlns=\"http://www.w3.org/2000/svg\" height=\"24px\" viewBox=\"0 -960 960 960\">\n",
              "    <path d=\"M120-120v-720h720v720H120Zm60-500h600v-160H180v160Zm220 220h160v-160H400v160Zm0 220h160v-160H400v160ZM180-400h160v-160H180v160Zm440 0h160v-160H620v160ZM180-180h160v-160H180v160Zm440 0h160v-160H620v160Z\"/>\n",
              "  </svg>\n",
              "    </button>\n",
              "\n",
              "  <style>\n",
              "    .colab-df-container {\n",
              "      display:flex;\n",
              "      gap: 12px;\n",
              "    }\n",
              "\n",
              "    .colab-df-convert {\n",
              "      background-color: #E8F0FE;\n",
              "      border: none;\n",
              "      border-radius: 50%;\n",
              "      cursor: pointer;\n",
              "      display: none;\n",
              "      fill: #1967D2;\n",
              "      height: 32px;\n",
              "      padding: 0 0 0 0;\n",
              "      width: 32px;\n",
              "    }\n",
              "\n",
              "    .colab-df-convert:hover {\n",
              "      background-color: #E2EBFA;\n",
              "      box-shadow: 0px 1px 2px rgba(60, 64, 67, 0.3), 0px 1px 3px 1px rgba(60, 64, 67, 0.15);\n",
              "      fill: #174EA6;\n",
              "    }\n",
              "\n",
              "    .colab-df-buttons div {\n",
              "      margin-bottom: 4px;\n",
              "    }\n",
              "\n",
              "    [theme=dark] .colab-df-convert {\n",
              "      background-color: #3B4455;\n",
              "      fill: #D2E3FC;\n",
              "    }\n",
              "\n",
              "    [theme=dark] .colab-df-convert:hover {\n",
              "      background-color: #434B5C;\n",
              "      box-shadow: 0px 1px 3px 1px rgba(0, 0, 0, 0.15);\n",
              "      filter: drop-shadow(0px 1px 2px rgba(0, 0, 0, 0.3));\n",
              "      fill: #FFFFFF;\n",
              "    }\n",
              "  </style>\n",
              "\n",
              "    <script>\n",
              "      const buttonEl =\n",
              "        document.querySelector('#df-345d990c-e0b1-4206-b621-45b4feda1a5f button.colab-df-convert');\n",
              "      buttonEl.style.display =\n",
              "        google.colab.kernel.accessAllowed ? 'block' : 'none';\n",
              "\n",
              "      async function convertToInteractive(key) {\n",
              "        const element = document.querySelector('#df-345d990c-e0b1-4206-b621-45b4feda1a5f');\n",
              "        const dataTable =\n",
              "          await google.colab.kernel.invokeFunction('convertToInteractive',\n",
              "                                                    [key], {});\n",
              "        if (!dataTable) return;\n",
              "\n",
              "        const docLinkHtml = 'Like what you see? Visit the ' +\n",
              "          '<a target=\"_blank\" href=https://colab.research.google.com/notebooks/data_table.ipynb>data table notebook</a>'\n",
              "          + ' to learn more about interactive tables.';\n",
              "        element.innerHTML = '';\n",
              "        dataTable['output_type'] = 'display_data';\n",
              "        await google.colab.output.renderOutput(dataTable, element);\n",
              "        const docLink = document.createElement('div');\n",
              "        docLink.innerHTML = docLinkHtml;\n",
              "        element.appendChild(docLink);\n",
              "      }\n",
              "    </script>\n",
              "  </div>\n",
              "\n",
              "\n",
              "<div id=\"df-c1d670b4-1559-43c9-b486-1a434b4991bc\">\n",
              "  <button class=\"colab-df-quickchart\" onclick=\"quickchart('df-c1d670b4-1559-43c9-b486-1a434b4991bc')\"\n",
              "            title=\"Suggest charts\"\n",
              "            style=\"display:none;\">\n",
              "\n",
              "<svg xmlns=\"http://www.w3.org/2000/svg\" height=\"24px\"viewBox=\"0 0 24 24\"\n",
              "     width=\"24px\">\n",
              "    <g>\n",
              "        <path d=\"M19 3H5c-1.1 0-2 .9-2 2v14c0 1.1.9 2 2 2h14c1.1 0 2-.9 2-2V5c0-1.1-.9-2-2-2zM9 17H7v-7h2v7zm4 0h-2V7h2v10zm4 0h-2v-4h2v4z\"/>\n",
              "    </g>\n",
              "</svg>\n",
              "  </button>\n",
              "\n",
              "<style>\n",
              "  .colab-df-quickchart {\n",
              "      --bg-color: #E8F0FE;\n",
              "      --fill-color: #1967D2;\n",
              "      --hover-bg-color: #E2EBFA;\n",
              "      --hover-fill-color: #174EA6;\n",
              "      --disabled-fill-color: #AAA;\n",
              "      --disabled-bg-color: #DDD;\n",
              "  }\n",
              "\n",
              "  [theme=dark] .colab-df-quickchart {\n",
              "      --bg-color: #3B4455;\n",
              "      --fill-color: #D2E3FC;\n",
              "      --hover-bg-color: #434B5C;\n",
              "      --hover-fill-color: #FFFFFF;\n",
              "      --disabled-bg-color: #3B4455;\n",
              "      --disabled-fill-color: #666;\n",
              "  }\n",
              "\n",
              "  .colab-df-quickchart {\n",
              "    background-color: var(--bg-color);\n",
              "    border: none;\n",
              "    border-radius: 50%;\n",
              "    cursor: pointer;\n",
              "    display: none;\n",
              "    fill: var(--fill-color);\n",
              "    height: 32px;\n",
              "    padding: 0;\n",
              "    width: 32px;\n",
              "  }\n",
              "\n",
              "  .colab-df-quickchart:hover {\n",
              "    background-color: var(--hover-bg-color);\n",
              "    box-shadow: 0 1px 2px rgba(60, 64, 67, 0.3), 0 1px 3px 1px rgba(60, 64, 67, 0.15);\n",
              "    fill: var(--button-hover-fill-color);\n",
              "  }\n",
              "\n",
              "  .colab-df-quickchart-complete:disabled,\n",
              "  .colab-df-quickchart-complete:disabled:hover {\n",
              "    background-color: var(--disabled-bg-color);\n",
              "    fill: var(--disabled-fill-color);\n",
              "    box-shadow: none;\n",
              "  }\n",
              "\n",
              "  .colab-df-spinner {\n",
              "    border: 2px solid var(--fill-color);\n",
              "    border-color: transparent;\n",
              "    border-bottom-color: var(--fill-color);\n",
              "    animation:\n",
              "      spin 1s steps(1) infinite;\n",
              "  }\n",
              "\n",
              "  @keyframes spin {\n",
              "    0% {\n",
              "      border-color: transparent;\n",
              "      border-bottom-color: var(--fill-color);\n",
              "      border-left-color: var(--fill-color);\n",
              "    }\n",
              "    20% {\n",
              "      border-color: transparent;\n",
              "      border-left-color: var(--fill-color);\n",
              "      border-top-color: var(--fill-color);\n",
              "    }\n",
              "    30% {\n",
              "      border-color: transparent;\n",
              "      border-left-color: var(--fill-color);\n",
              "      border-top-color: var(--fill-color);\n",
              "      border-right-color: var(--fill-color);\n",
              "    }\n",
              "    40% {\n",
              "      border-color: transparent;\n",
              "      border-right-color: var(--fill-color);\n",
              "      border-top-color: var(--fill-color);\n",
              "    }\n",
              "    60% {\n",
              "      border-color: transparent;\n",
              "      border-right-color: var(--fill-color);\n",
              "    }\n",
              "    80% {\n",
              "      border-color: transparent;\n",
              "      border-right-color: var(--fill-color);\n",
              "      border-bottom-color: var(--fill-color);\n",
              "    }\n",
              "    90% {\n",
              "      border-color: transparent;\n",
              "      border-bottom-color: var(--fill-color);\n",
              "    }\n",
              "  }\n",
              "</style>\n",
              "\n",
              "  <script>\n",
              "    async function quickchart(key) {\n",
              "      const quickchartButtonEl =\n",
              "        document.querySelector('#' + key + ' button');\n",
              "      quickchartButtonEl.disabled = true;  // To prevent multiple clicks.\n",
              "      quickchartButtonEl.classList.add('colab-df-spinner');\n",
              "      try {\n",
              "        const charts = await google.colab.kernel.invokeFunction(\n",
              "            'suggestCharts', [key], {});\n",
              "      } catch (error) {\n",
              "        console.error('Error during call to suggestCharts:', error);\n",
              "      }\n",
              "      quickchartButtonEl.classList.remove('colab-df-spinner');\n",
              "      quickchartButtonEl.classList.add('colab-df-quickchart-complete');\n",
              "    }\n",
              "    (() => {\n",
              "      let quickchartButtonEl =\n",
              "        document.querySelector('#df-c1d670b4-1559-43c9-b486-1a434b4991bc button');\n",
              "      quickchartButtonEl.style.display =\n",
              "        google.colab.kernel.accessAllowed ? 'block' : 'none';\n",
              "    })();\n",
              "  </script>\n",
              "</div>\n",
              "\n",
              "    </div>\n",
              "  </div>\n"
            ],
            "application/vnd.google.colaboratory.intrinsic+json": {
              "type": "dataframe",
              "summary": "{\n  \"name\": \")\",\n  \"rows\": 14,\n  \"fields\": [\n    {\n      \"column\": \"feature\",\n      \"properties\": {\n        \"dtype\": \"string\",\n        \"num_unique_values\": 14,\n        \"samples\": [\n          \"rerun_ID\",\n          \"field_ID\",\n          \"alpha\"\n        ],\n        \"semantic_type\": \"\",\n        \"description\": \"\"\n      }\n    },\n    {\n      \"column\": \"fi_rf\",\n      \"properties\": {\n        \"dtype\": \"number\",\n        \"std\": 0.12666338203325272,\n        \"min\": 0.0,\n        \"max\": 0.49384067112551155,\n        \"num_unique_values\": 14,\n        \"samples\": [\n          0.0,\n          0.008657456593146498,\n          0.01752835283979447\n        ],\n        \"semantic_type\": \"\",\n        \"description\": \"\"\n      }\n    },\n    {\n      \"column\": \"fi_xgb\",\n      \"properties\": {\n        \"dtype\": \"float32\",\n        \"num_unique_values\": 13,\n        \"samples\": [\n          0.010039296001195908,\n          0.0,\n          0.010440690442919731\n        ],\n        \"semantic_type\": \"\",\n        \"description\": \"\"\n      }\n    }\n  ]\n}"
            }
          },
          "metadata": {},
          "execution_count": 31
        }
      ]
    },
    {
      "cell_type": "markdown",
      "source": [
        "(5) 결과 적용"
      ],
      "metadata": {
        "id": "S2UhHGoiq_lT"
      }
    },
    {
      "cell_type": "code",
      "source": [
        "pred = model_xgb.predict_proba(X_test)[:, 1]\n",
        "pd.DataFrame(\n",
        "    {\n",
        "        'index' : X_test.index,\n",
        "        'target' : pred\n",
        "    }\n",
        ").to_csv('galaxy_test.csv', index=False)"
      ],
      "metadata": {
        "id": "wH41MpZnrC4b"
      },
      "execution_count": 32,
      "outputs": []
    }
  ]
}