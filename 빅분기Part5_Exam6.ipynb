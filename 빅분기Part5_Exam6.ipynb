{
  "nbformat": 4,
  "nbformat_minor": 0,
  "metadata": {
    "colab": {
      "provenance": [],
      "authorship_tag": "ABX9TyNQvg0xY/I5WzGXoLpwpyiS",
      "include_colab_link": true
    },
    "kernelspec": {
      "name": "python3",
      "display_name": "Python 3"
    },
    "language_info": {
      "name": "python"
    }
  },
  "cells": [
    {
      "cell_type": "markdown",
      "metadata": {
        "id": "view-in-github",
        "colab_type": "text"
      },
      "source": [
        "<a href=\"https://colab.research.google.com/github/hansjang/Py_Radar/blob/main/%EB%B9%85%EB%B6%84%EA%B8%B0Part5_Exam6.ipynb\" target=\"_parent\"><img src=\"https://colab.research.google.com/assets/colab-badge.svg\" alt=\"Open In Colab\"/></a>"
      ]
    },
    {
      "cell_type": "code",
      "execution_count": 1,
      "metadata": {
        "colab": {
          "base_uri": "https://localhost:8080/",
          "height": 0
        },
        "id": "Oyq3V0gZM9MI",
        "outputId": "b7249da1-0559-44cb-c9be-3a25e86ea83a"
      },
      "outputs": [
        {
          "output_type": "stream",
          "name": "stdout",
          "text": [
            "Cloning into 'yemoonsaBigdata'...\n",
            "remote: Enumerating objects: 709, done.\u001b[K\n",
            "remote: Counting objects: 100% (348/348), done.\u001b[K\n",
            "remote: Compressing objects: 100% (233/233), done.\u001b[K\n",
            "remote: Total 709 (delta 157), reused 237 (delta 115), pack-reused 361 (from 1)\u001b[K\n",
            "Receiving objects: 100% (709/709), 11.46 MiB | 7.63 MiB/s, done.\n",
            "Resolving deltas: 100% (341/341), done.\n"
          ]
        }
      ],
      "source": [
        "!git clone https://github.com/AnalyticsKnight/yemoonsaBigdata"
      ]
    },
    {
      "cell_type": "markdown",
      "source": [
        "# 1. 작업형 제1유형"
      ],
      "metadata": {
        "id": "GKb41O5q4ao5"
      }
    },
    {
      "cell_type": "markdown",
      "source": [
        "## 01. 시간 계산"
      ],
      "metadata": {
        "id": "LgrwSbWK4bei"
      }
    },
    {
      "cell_type": "code",
      "source": [
        "import pandas as pd\n",
        "import numpy as np\n",
        "from tabulate import tabulate\n",
        "\n",
        "df = pd.read_csv(\"/content/yemoonsaBigdata/datasets/Part5/ex6/06.01.01-Fire Station Data.csv\", encoding=\"cp949\")\n",
        "\n",
        "print(tabulate(df.head(), headers=\"keys\", tablefmt=\"grid\"))\n",
        "print(df.info())"
      ],
      "metadata": {
        "colab": {
          "base_uri": "https://localhost:8080/",
          "height": 0
        },
        "collapsed": true,
        "id": "s0fLEuBg4lHx",
        "outputId": "146f9d24-d1bf-48e7-f8b0-0d3902d2721b"
      },
      "execution_count": 4,
      "outputs": [
        {
          "output_type": "stream",
          "name": "stdout",
          "text": [
            "+----+------------+------------------+------------------+------------------+\n",
            "|    | 소방서ID   | 신고접수시간     | 출발시간         | 도착시간         |\n",
            "+====+============+==================+==================+==================+\n",
            "|  0 | StationS   | 2023-07-08 21:05 | 2023-07-08 21:09 | 2023-07-08 21:37 |\n",
            "+----+------------+------------------+------------------+------------------+\n",
            "|  1 | StationI   | 2023-06-04 8:11  | 2023-06-04 8:14  | 2023-06-04 8:58  |\n",
            "+----+------------+------------------+------------------+------------------+\n",
            "|  2 | StationJ   | 2023-01-31 16:20 | 2023-01-31 16:23 | 2023-01-31 16:44 |\n",
            "+----+------------+------------------+------------------+------------------+\n",
            "|  3 | StationD   | 2023-03-10 17:31 | 2023-03-10 17:32 | 2023-03-10 18:03 |\n",
            "+----+------------+------------------+------------------+------------------+\n",
            "|  4 | StationB   | 2023-06-18 7:23  | 2023-06-18 7:26  | 2023-06-18 8:18  |\n",
            "+----+------------+------------------+------------------+------------------+\n",
            "<class 'pandas.core.frame.DataFrame'>\n",
            "RangeIndex: 993 entries, 0 to 992\n",
            "Data columns (total 4 columns):\n",
            " #   Column  Non-Null Count  Dtype \n",
            "---  ------  --------------  ----- \n",
            " 0   소방서ID   993 non-null    object\n",
            " 1   신고접수시간  993 non-null    object\n",
            " 2   출발시간    993 non-null    object\n",
            " 3   도착시간    993 non-null    object\n",
            "dtypes: object(4)\n",
            "memory usage: 31.2+ KB\n",
            "None\n"
          ]
        }
      ]
    },
    {
      "cell_type": "code",
      "source": [
        "## 문자타입(object)을 날짜타입(datetime64)으로 변경하기\n",
        "df1 = df.copy()\n",
        "df1['신고접수시간'] = pd.to_datetime(df1['신고접수시간'])\n",
        "df1['출발시간'] = pd.to_datetime(df1['출발시간'])\n",
        "df1['도착시간'] = pd.to_datetime(df1['도착시간'])\n",
        "\n",
        "## 출동시간 구하기\n",
        "df1['출동시간'] = df1['도착시간'] - df1['출발시간']\n",
        "## 출동시간을 초로 변환하기\n",
        "df1['출동시간'] = df1['출동시간'].dt.total_seconds()\n",
        "\n",
        "## 소방서별 출동시간 평균 구하기\n",
        "df2 = df1.groupby('소방서ID')[['출동시간']].mean()\n",
        "df2 = df2.reset_index()\n",
        "\n",
        "## 출동시간 평균으로 내림차순 정렬\n",
        "df2 = df2.sort_values('출동시간', ascending=False)\n",
        "\n",
        "print(tabulate(df2.head(), headers=\"keys\", tablefmt=\"grid\"))"
      ],
      "metadata": {
        "colab": {
          "base_uri": "https://localhost:8080/",
          "height": 0
        },
        "collapsed": true,
        "id": "ceePlTGL5HTb",
        "outputId": "b9663420-e8a3-4c99-b50c-bd7d8d0ab1a2"
      },
      "execution_count": 11,
      "outputs": [
        {
          "output_type": "stream",
          "name": "stdout",
          "text": [
            "+----+------------+------------+\n",
            "|    | 소방서ID   |   출동시간 |\n",
            "+====+============+============+\n",
            "| 25 | StationZ   |    2276.25 |\n",
            "+----+------------+------------+\n",
            "| 13 | StationN   |    2106.86 |\n",
            "+----+------------+------------+\n",
            "| 12 | StationM   |    2010    |\n",
            "+----+------------+------------+\n",
            "|  3 | StationD   |    2003.64 |\n",
            "+----+------------+------------+\n",
            "| 22 | StationW   |    1988.78 |\n",
            "+----+------------+------------+\n"
          ]
        }
      ]
    },
    {
      "cell_type": "markdown",
      "source": [
        "\n",
        "> **정답 : StationZ, 2276.25초**\n",
        "\n",
        "\n",
        "\n",
        "\n",
        "\n",
        "\n",
        "\n"
      ],
      "metadata": {
        "id": "n9SAkuq-6-rj"
      }
    },
    {
      "cell_type": "markdown",
      "source": [
        "## 02. 학생수와 교사수\n",
        "### -> 교사 1인당 학생수가 가장 많은 학교와 그 학교의 전체학생 수  "
      ],
      "metadata": {
        "id": "lesTyAzn7LM6"
      }
    },
    {
      "cell_type": "code",
      "source": [
        "import pandas as pd\n",
        "import numpy as np\n",
        "from tabulate import tabulate\n",
        "\n",
        "df = pd.read_csv(\"/content/yemoonsaBigdata/datasets/Part5/ex6/06.01.02-Elementary School Data.csv\")\n",
        "\n",
        "print(tabulate(df.head(), headers=\"keys\", tablefmt=\"grid\"))\n",
        "print(df.info())"
      ],
      "metadata": {
        "colab": {
          "base_uri": "https://localhost:8080/",
          "height": 0
        },
        "collapsed": true,
        "id": "hqGUUBM47bNi",
        "outputId": "98570664-e004-4500-9523-07e391422098"
      },
      "execution_count": 12,
      "outputs": [
        {
          "output_type": "stream",
          "name": "stdout",
          "text": [
            "+----+---------------+---------------+---------------+---------------+---------------+---------------+---------------+------------+\n",
            "|    | School Name   |   1G Students |   2G Students |   3G Students |   4G Students |   5G Students |   6G Students |   Teachers |\n",
            "+====+===============+===============+===============+===============+===============+===============+===============+============+\n",
            "|  0 | ES1           |            64 |            48 |            84 |            78 |            24 |            38 |         15 |\n",
            "+----+---------------+---------------+---------------+---------------+---------------+---------------+---------------+------------+\n",
            "|  1 | ES2           |            58 |            62 |            82 |            73 |            42 |            63 |         15 |\n",
            "+----+---------------+---------------+---------------+---------------+---------------+---------------+---------------+------------+\n",
            "|  2 | ES3           |            64 |            79 |            99 |            49 |            80 |            73 |         23 |\n",
            "+----+---------------+---------------+---------------+---------------+---------------+---------------+---------------+------------+\n",
            "|  3 | ES4           |            60 |            96 |            48 |            69 |            47 |            26 |         18 |\n",
            "+----+---------------+---------------+---------------+---------------+---------------+---------------+---------------+------------+\n",
            "|  4 | ES5           |            56 |            71 |            69 |            32 |            33 |           100 |         22 |\n",
            "+----+---------------+---------------+---------------+---------------+---------------+---------------+---------------+------------+\n",
            "<class 'pandas.core.frame.DataFrame'>\n",
            "RangeIndex: 300 entries, 0 to 299\n",
            "Data columns (total 8 columns):\n",
            " #   Column       Non-Null Count  Dtype \n",
            "---  ------       --------------  ----- \n",
            " 0   School Name  300 non-null    object\n",
            " 1   1G Students  300 non-null    int64 \n",
            " 2   2G Students  300 non-null    int64 \n",
            " 3   3G Students  300 non-null    int64 \n",
            " 4   4G Students  300 non-null    int64 \n",
            " 5   5G Students  300 non-null    int64 \n",
            " 6   6G Students  300 non-null    int64 \n",
            " 7   Teachers     300 non-null    int64 \n",
            "dtypes: int64(7), object(1)\n",
            "memory usage: 18.9+ KB\n",
            "None\n"
          ]
        }
      ]
    },
    {
      "cell_type": "code",
      "source": [
        "## 교사 1인당 학생수 구하기\n",
        "df1 = df.copy()\n",
        "df1['Students Tota1'] = df1['1G Students']+df1['2G Students']+df1['3G Students']+df1['4G Students']+df1['5G Students']+df1['6G Students']\n",
        "df1['SPT'] = df1['Students Tota1']/df1['Teachers'] # SPT = Students Per Teachers\n",
        "\n",
        "\n",
        "## SPT 기준으로 내림차순 정렬\n",
        "df1 = df1.sort_values('SPT', ascending=False)\n",
        "\n",
        "print(tabulate(df1.head(), headers=\"keys\", tablefmt=\"grid\"))"
      ],
      "metadata": {
        "colab": {
          "base_uri": "https://localhost:8080/",
          "height": 0
        },
        "collapsed": true,
        "id": "pr9HiZR471fy",
        "outputId": "7a1637c7-8d81-407d-fce7-0bc658cb096a"
      },
      "execution_count": 17,
      "outputs": [
        {
          "output_type": "stream",
          "name": "stdout",
          "text": [
            "+-----+---------------+---------------+---------------+---------------+---------------+---------------+---------------+------------+------------------+---------+\n",
            "|     | School Name   |   1G Students |   2G Students |   3G Students |   4G Students |   5G Students |   6G Students |   Teachers |   Students Tota1 |     SPT |\n",
            "+=====+===============+===============+===============+===============+===============+===============+===============+============+==================+=========+\n",
            "|  86 | ES87          |            38 |            66 |            21 |            24 |            61 |            35 |          9 |              245 | 27.2222 |\n",
            "+-----+---------------+---------------+---------------+---------------+---------------+---------------+---------------+------------+------------------+---------+\n",
            "|  57 | ES58          |            58 |            84 |            38 |            29 |            47 |            42 |         11 |              298 | 27.0909 |\n",
            "+-----+---------------+---------------+---------------+---------------+---------------+---------------+---------------+------------+------------------+---------+\n",
            "| 121 | ES122         |            21 |            26 |            24 |            70 |            57 |            42 |          9 |              240 | 26.6667 |\n",
            "+-----+---------------+---------------+---------------+---------------+---------------+---------------+---------------+------------+------------------+---------+\n",
            "| 252 | ES253         |            83 |            33 |            46 |            47 |            84 |            80 |         14 |              373 | 26.6429 |\n",
            "+-----+---------------+---------------+---------------+---------------+---------------+---------------+---------------+------------+------------------+---------+\n",
            "|  37 | ES38          |            29 |            51 |            33 |            32 |            70 |            51 |         10 |              266 | 26.6    |\n",
            "+-----+---------------+---------------+---------------+---------------+---------------+---------------+---------------+------------+------------------+---------+\n"
          ]
        }
      ]
    },
    {
      "cell_type": "markdown",
      "source": [
        "## 정답 : ES87, 245명"
      ],
      "metadata": {
        "id": "0uOcdLsV9Mrr"
      }
    },
    {
      "cell_type": "markdown",
      "source": [
        "## 03. 경찰서별 범죄 데이터\n",
        "### -> 연평균 범죄율(2022년/2021년)이 가장 많이 늘어난 경찰서의2021년 교통범죄(Traffic) 데이터"
      ],
      "metadata": {
        "id": "7haUzHTW9WUL"
      }
    },
    {
      "cell_type": "code",
      "source": [
        "import pandas as pd\n",
        "import numpy as np\n",
        "from tabulate import tabulate\n",
        "\n",
        "df = pd.read_csv(\"/content/yemoonsaBigdata/datasets/Part5/ex6/06.01.03-Crime Data.csv\")\n",
        "\n",
        "print(tabulate(df.head(), headers=\"keys\", tablefmt=\"grid\"))\n",
        "print(df.info())"
      ],
      "metadata": {
        "colab": {
          "base_uri": "https://localhost:8080/",
          "height": 0
        },
        "collapsed": true,
        "id": "bxJe77Oq8iVT",
        "outputId": "ac4a5ce5-7be7-43b4-ef0b-b5d9e27e4e83"
      },
      "execution_count": 18,
      "outputs": [
        {
          "output_type": "stream",
          "name": "stdout",
          "text": [
            "+----+------------------+--------------+-----------+---------+-----------+----------------+------------------+--------------------+--------+----------+-----------------+---------+------------+------------+------------+---------+\n",
            "|    | Police Station   | Year-Month   |   Violent |   Theft |   Traffic |   Intelligence |   Against Morals |   Special Economic |   Drug |   Health |   Environmental |   Labor |   Security |   Election |   Military |   Other |\n",
            "+====+==================+==============+===========+=========+===========+================+==================+====================+========+==========+=================+=========+============+============+============+=========+\n",
            "|  0 | PS 1             | 2021-01-31   |        36 |      42 |        42 |             20 |               12 |                 27 |     35 |       26 |               7 |      16 |          6 |         18 |         13 |      17 |\n",
            "+----+------------------+--------------+-----------+---------+-----------+----------------+------------------+--------------------+--------+----------+-----------------+---------+------------+------------+------------+---------+\n",
            "|  1 | PS 1             | 2021-02-28   |        25 |      21 |        32 |              1 |               20 |                 22 |      0 |       49 |              47 |       7 |          2 |         15 |          2 |      47 |\n",
            "+----+------------------+--------------+-----------+---------+-----------+----------------+------------------+--------------------+--------+----------+-----------------+---------+------------+------------+------------+---------+\n",
            "|  2 | PS 1             | 2021-03-31   |        45 |       7 |        36 |             46 |               35 |                 46 |      9 |       34 |              17 |      33 |         15 |         45 |         27 |      42 |\n",
            "+----+------------------+--------------+-----------+---------+-----------+----------------+------------------+--------------------+--------+----------+-----------------+---------+------------+------------+------------+---------+\n",
            "|  3 | PS 1             | 2021-04-30   |        43 |      24 |         2 |              2 |               18 |                 41 |     37 |        1 |               0 |      44 |         33 |         30 |         45 |       6 |\n",
            "+----+------------------+--------------+-----------+---------+-----------+----------------+------------------+--------------------+--------+----------+-----------------+---------+------------+------------+------------+---------+\n",
            "|  4 | PS 1             | 2021-05-31   |        23 |      36 |        11 |              2 |               36 |                 44 |     29 |       34 |              47 |      25 |         35 |         11 |         33 |      47 |\n",
            "+----+------------------+--------------+-----------+---------+-----------+----------------+------------------+--------------------+--------+----------+-----------------+---------+------------+------------+------------+---------+\n",
            "<class 'pandas.core.frame.DataFrame'>\n",
            "RangeIndex: 480 entries, 0 to 479\n",
            "Data columns (total 16 columns):\n",
            " #   Column            Non-Null Count  Dtype \n",
            "---  ------            --------------  ----- \n",
            " 0   Police Station    480 non-null    object\n",
            " 1   Year-Month        480 non-null    object\n",
            " 2   Violent           480 non-null    int64 \n",
            " 3   Theft             480 non-null    int64 \n",
            " 4   Traffic           480 non-null    int64 \n",
            " 5   Intelligence      480 non-null    int64 \n",
            " 6   Against Morals    480 non-null    int64 \n",
            " 7   Special Economic  480 non-null    int64 \n",
            " 8   Drug              480 non-null    int64 \n",
            " 9   Health            480 non-null    int64 \n",
            " 10  Environmental     480 non-null    int64 \n",
            " 11  Labor             480 non-null    int64 \n",
            " 12  Security          480 non-null    int64 \n",
            " 13  Election          480 non-null    int64 \n",
            " 14  Military          480 non-null    int64 \n",
            " 15  Other             480 non-null    int64 \n",
            "dtypes: int64(14), object(2)\n",
            "memory usage: 60.1+ KB\n",
            "None\n"
          ]
        }
      ]
    },
    {
      "cell_type": "code",
      "source": [
        "## 연도별 컬럼 추가\n",
        "df1 = df.copy()\n",
        "df1['Year-Month'] = pd.to_datetime(df1['Year-Month'])\n",
        "df1['Year'] = df1['Year-Month'].dt.year\n",
        "\n",
        "### 범죄 합계 추가하기\n",
        "df1.loc[:, 'Total'] = df.loc[:, 'Violent':'Other'].sum(axis =1)\n",
        "\n",
        "### 경찰서별, 연도별 트래픽, 토탈 범죄 데이터 합산\n",
        "df2 = df1[['Police Station', 'Year', 'Traffic', 'Total']].groupby(by=['Police Station', 'Year']).sum(['Traffic', 'Total']).reset_index()\n",
        "\n",
        "### 두 개 행을 열로 붙이기\n",
        "df21 = df2[df2['Year'] == 2021][['Police Station', 'Year', 'Total']]\n",
        "df22 = df2[df2['Year'] == 2022][['Police Station', 'Year', 'Total']]\n",
        "df3 = pd.merge(df21, df22, on='Police Station')\n",
        "\n",
        "# print(tabulate(df3.head(), headers=\"keys\", tablefmt=\"grid\"))\n",
        "\n",
        "### 가장 많이 늘어난 경찰서 오름차순 정력\n",
        "df3['Increase'] = df3['Total_y'] - df3['Total_x']\n",
        "df3 = df3.sort_values('Increase', ascending = False)\n",
        "### 가장 많이 늘어난 경찰서 가져오기\n",
        "most_increase_station = df3[df3['Increase'] ==\n",
        "\t\t\t\t\t\t\t\t\t\tmax(df3['Increase'])]['Police Station'].item()\n",
        "### 가장 많이 늘어난 경찰서의 2021년 교통 범죄(Traffic) 수\n",
        "result = df2[(df2['Police Station'] == most_increase_station) &\n",
        "\t\t\t\t(df2['Year'] == 2021)]['Traffic'].values[0] #.item()\n",
        "print(most_increase_station, result)\n"
      ],
      "metadata": {
        "colab": {
          "base_uri": "https://localhost:8080/",
          "height": 0
        },
        "id": "k7bU2WHj92XN",
        "outputId": "124e6b55-5640-490e-dbc0-fe50fd5e0db0"
      },
      "execution_count": 21,
      "outputs": [
        {
          "output_type": "stream",
          "name": "stdout",
          "text": [
            "PS 2 306\n"
          ]
        }
      ]
    },
    {
      "cell_type": "markdown",
      "source": [
        "# 2. 작업형 제2유형\n",
        "## 멀티클래스 분류 모델"
      ],
      "metadata": {
        "id": "NZUR9v4f669B"
      }
    },
    {
      "cell_type": "code",
      "source": [
        "# 필요한 module import\n",
        "import pandas as pd\n",
        "import numpy as np\n",
        "from tabulate import tabulate\n",
        "\n",
        "# 데이터 불러오기\n",
        "train = pd.read_csv(\"/content/yemoonsaBigdata/datasets/Part5/ex6/06.02.01-Metaverse Training Data.csv\")\n",
        "X_test = pd.read_csv(\"/content/yemoonsaBigdata/datasets/Part5/ex6/06.02.02-Metaverse Testing Data_x.csv\")\n",
        "y_test = pd.read_csv(\"/content/yemoonsaBigdata/datasets/Part5/ex6/06.02.03-Metaverse Testing Data_y.csv\")\n",
        "\n",
        "# 데이터 탐색\n",
        "print(train.info())\n",
        "print(tabulate(train.head(), headers=\"keys\", tablefmt=\"grid\"))\n",
        "print(X_test.info())\n",
        "print(tabulate(X_test.head(), headers=\"keys\", tablefmt=\"grid\"))\n",
        "print(y_test.info())\n",
        "print(tabulate(y_test.head(), headers=\"keys\", tablefmt=\"grid\"))\n",
        "\n",
        "# 종속변수 빈도값 확인\n",
        "print(train['Preferred Metaverse Type'].value_counts())\n",
        "print(y_test['Preferred Metaverse Type'].value_counts())\n",
        "# 종속변수값 0,1,2,3 이 비교적 균등하게 분포하고 있다."
      ],
      "metadata": {
        "colab": {
          "base_uri": "https://localhost:8080/",
          "height": 0
        },
        "collapsed": true,
        "id": "eYvU3qmY7DHA",
        "outputId": "010c7328-7001-49af-e7ff-c4a620c84f54"
      },
      "execution_count": 2,
      "outputs": [
        {
          "output_type": "stream",
          "name": "stdout",
          "text": [
            "<class 'pandas.core.frame.DataFrame'>\n",
            "RangeIndex: 5000 entries, 0 to 4999\n",
            "Data columns (total 8 columns):\n",
            " #   Column                      Non-Null Count  Dtype \n",
            "---  ------                      --------------  ----- \n",
            " 0   Gender                      5000 non-null   object\n",
            " 1   Education                   5000 non-null   object\n",
            " 2   Occupation Type             5000 non-null   object\n",
            " 3   Residence Type              5000 non-null   object\n",
            " 4   Experience Using Metaverse  5000 non-null   object\n",
            " 5   Age                         5000 non-null   int64 \n",
            " 6   Annual Salary               5000 non-null   int64 \n",
            " 7   Preferred Metaverse Type    5000 non-null   int64 \n",
            "dtypes: int64(3), object(5)\n",
            "memory usage: 312.6+ KB\n",
            "None\n",
            "+----+----------+----------------------------+-------------------------+------------------+------------------------------+-------+-----------------+----------------------------+\n",
            "|    | Gender   | Education                  | Occupation Type         | Residence Type   | Experience Using Metaverse   |   Age |   Annual Salary |   Preferred Metaverse Type |\n",
            "+====+==========+============================+=========================+==================+==============================+=======+=================+============================+\n",
            "|  0 | female   | Elementary school graduate | Wholesale industry      | Apartment        | no                           |    76 |          144766 |                          1 |\n",
            "+----+----------+----------------------------+-------------------------+------------------+------------------------------+-------+-----------------+----------------------------+\n",
            "|  1 | female   | Bachelor's degree          | Wholesale industry      | Townhouse        | no                           |    71 |          218622 |                          0 |\n",
            "+----+----------+----------------------------+-------------------------+------------------+------------------------------+-------+-----------------+----------------------------+\n",
            "|  2 | other    | Doctorate                  | Manufacturing industry  | Townhouse        | yes                          |    50 |          172358 |                          0 |\n",
            "+----+----------+----------------------------+-------------------------+------------------+------------------------------+-------+-----------------+----------------------------+\n",
            "|  3 | female   | Bachelor's degree          | Electric power industry | Townhouse        | no                           |    38 |          472211 |                          1 |\n",
            "+----+----------+----------------------------+-------------------------+------------------+------------------------------+-------+-----------------+----------------------------+\n",
            "|  4 | male     | Middle school graduate     | Manufacturing industry  | Townhouse        | no                           |    10 |           90360 |                          0 |\n",
            "+----+----------+----------------------------+-------------------------+------------------+------------------------------+-------+-----------------+----------------------------+\n",
            "<class 'pandas.core.frame.DataFrame'>\n",
            "RangeIndex: 300 entries, 0 to 299\n",
            "Data columns (total 8 columns):\n",
            " #   Column                      Non-Null Count  Dtype \n",
            "---  ------                      --------------  ----- \n",
            " 0   id                          300 non-null    int64 \n",
            " 1   Gender                      300 non-null    object\n",
            " 2   Education                   300 non-null    object\n",
            " 3   Occupation Type             300 non-null    object\n",
            " 4   Residence Type              300 non-null    object\n",
            " 5   Experience Using Metaverse  300 non-null    object\n",
            " 6   Age                         300 non-null    int64 \n",
            " 7   Annual Salary               300 non-null    int64 \n",
            "dtypes: int64(3), object(5)\n",
            "memory usage: 18.9+ KB\n",
            "None\n",
            "+----+------+----------+------------------------+-------------------------+--------------------+------------------------------+-------+-----------------+\n",
            "|    |   id | Gender   | Education              | Occupation Type         | Residence Type     | Experience Using Metaverse   |   Age |   Annual Salary |\n",
            "+====+======+==========+========================+=========================+====================+==============================+=======+=================+\n",
            "|  0 |    1 | other    | High school graduate   | Agriculture             | Single-family home | yes                          |     1 |          222000 |\n",
            "+----+------+----------+------------------------+-------------------------+--------------------+------------------------------+-------+-----------------+\n",
            "|  1 |    2 | female   | Middle school graduate | Electric power industry | Apartment          | yes                          |    40 |           47000 |\n",
            "+----+------+----------+------------------------+-------------------------+--------------------+------------------------------+-------+-----------------+\n",
            "|  2 |    3 | other    | Bachelor's degree      | Fishing industry        | Multi-family home  | no                           |    70 |          248000 |\n",
            "+----+------+----------+------------------------+-------------------------+--------------------+------------------------------+-------+-----------------+\n",
            "|  3 |    4 | other    | Middle school graduate | Maintenance industry    | Apartment          | yes                          |    48 |          418000 |\n",
            "+----+------+----------+------------------------+-------------------------+--------------------+------------------------------+-------+-----------------+\n",
            "|  4 |    5 | female   | Doctorate              | Fishing industry        | Single-family home | yes                          |    61 |          222000 |\n",
            "+----+------+----------+------------------------+-------------------------+--------------------+------------------------------+-------+-----------------+\n",
            "<class 'pandas.core.frame.DataFrame'>\n",
            "RangeIndex: 300 entries, 0 to 299\n",
            "Data columns (total 2 columns):\n",
            " #   Column                    Non-Null Count  Dtype\n",
            "---  ------                    --------------  -----\n",
            " 0   id                        300 non-null    int64\n",
            " 1   Preferred Metaverse Type  300 non-null    int64\n",
            "dtypes: int64(2)\n",
            "memory usage: 4.8 KB\n",
            "None\n",
            "+----+------+----------------------------+\n",
            "|    |   id |   Preferred Metaverse Type |\n",
            "+====+======+============================+\n",
            "|  0 |    1 |                          3 |\n",
            "+----+------+----------------------------+\n",
            "|  1 |    2 |                          0 |\n",
            "+----+------+----------------------------+\n",
            "|  2 |    3 |                          3 |\n",
            "+----+------+----------------------------+\n",
            "|  3 |    4 |                          3 |\n",
            "+----+------+----------------------------+\n",
            "|  4 |    5 |                          1 |\n",
            "+----+------+----------------------------+\n",
            "Preferred Metaverse Type\n",
            "0    1293\n",
            "1    1272\n",
            "3    1226\n",
            "2    1209\n",
            "Name: count, dtype: int64\n",
            "Preferred Metaverse Type\n",
            "3    87\n",
            "0    86\n",
            "2    67\n",
            "1    60\n",
            "Name: count, dtype: int64\n"
          ]
        }
      ]
    },
    {
      "cell_type": "code",
      "source": [
        "occupation_counts = train['Occupation Type'].value_counts().reset_index()\n",
        "occupation_counts.columns = ['Occupation Type', 'Count']\n",
        "\n",
        "print(tabulate(occupation_counts, headers=\"keys\", tablefmt=\"grid\"))"
      ],
      "metadata": {
        "colab": {
          "base_uri": "https://localhost:8080/",
          "height": 0
        },
        "collapsed": true,
        "id": "ClqECjB2yo4T",
        "outputId": "2221ce9a-22d2-4e60-e0c8-3f6624f4fd59"
      },
      "execution_count": 20,
      "outputs": [
        {
          "output_type": "stream",
          "name": "stdout",
          "text": [
            "+----+-------------------------+---------+\n",
            "|    | Occupation Type         |   Count |\n",
            "+====+=========================+=========+\n",
            "|  0 | Fishing industry        |     530 |\n",
            "+----+-------------------------+---------+\n",
            "|  1 | Manufacturing industry  |     340 |\n",
            "+----+-------------------------+---------+\n",
            "|  2 | Mining                  |     332 |\n",
            "+----+-------------------------+---------+\n",
            "|  3 | Service industry        |     318 |\n",
            "+----+-------------------------+---------+\n",
            "|  4 | Retail industry         |     317 |\n",
            "+----+-------------------------+---------+\n",
            "|  5 | Electric power industry |     314 |\n",
            "+----+-------------------------+---------+\n",
            "|  6 | Distribution industry   |     287 |\n",
            "+----+-------------------------+---------+\n",
            "|  7 | Wholesale industry      |     270 |\n",
            "+----+-------------------------+---------+\n",
            "|  8 | Broadcasting industry   |     267 |\n",
            "+----+-------------------------+---------+\n",
            "|  9 | Agriculture             |     264 |\n",
            "+----+-------------------------+---------+\n",
            "| 10 | Construction industry   |     243 |\n",
            "+----+-------------------------+---------+\n",
            "| 11 | Insurance industry      |     238 |\n",
            "+----+-------------------------+---------+\n",
            "| 12 | Maintenance industry    |     223 |\n",
            "+----+-------------------------+---------+\n",
            "| 13 | Finance industry        |     223 |\n",
            "+----+-------------------------+---------+\n",
            "| 14 | Water industry          |     221 |\n",
            "+----+-------------------------+---------+\n",
            "| 15 | Repair industry         |     218 |\n",
            "+----+-------------------------+---------+\n",
            "| 16 | Gas industry            |     204 |\n",
            "+----+-------------------------+---------+\n",
            "| 17 | Forestry                |     191 |\n",
            "+----+-------------------------+---------+\n"
          ]
        }
      ]
    },
    {
      "cell_type": "code",
      "source": [
        "# 변수 타입별 나누기\n",
        "COL_DEL =['id'] # 불필요한 변수\n",
        "COL_CAT = ['Gender', 'Education', 'Occupation Type', 'Residence Type','Experience Using Metaverse'] # 범주형 변수\n",
        "COL_NUM = ['Age', 'Annual Salary']  # 수치형 변수\n",
        "COL_Y = ['Preferred Metaverse Type']  # 종속 변수"
      ],
      "metadata": {
        "id": "woooz54d8X5q"
      },
      "execution_count": 3,
      "outputs": []
    },
    {
      "cell_type": "code",
      "source": [
        "## train 데이터를 X_train, y_train으로 나누기\n",
        "X_train = train.drop(train[COL_Y], axis=1)\n",
        "y_train = train[COL_Y]"
      ],
      "metadata": {
        "id": "_nzxmwpl-G7o"
      },
      "execution_count": 6,
      "outputs": []
    },
    {
      "cell_type": "code",
      "source": [
        "## 데이터 분할\n",
        "from sklearn.model_selection import train_test_split\n",
        "X_tr, X_val, y_tr, y_val = train_test_split(X_train,\n",
        "                                            y_train.values.ravel(),\n",
        "                                            test_size = 0.3,\n",
        "                                            stratify = y_train.values.ravel())  # 클래스 분포가 훈련세트와 검증세트에서 비슷하게 유지되도록 함"
      ],
      "metadata": {
        "id": "sbynPFYhtNBI"
      },
      "execution_count": 7,
      "outputs": []
    },
    {
      "cell_type": "code",
      "source": [
        "## 수치형변수 - 데이터 스케일링\n",
        "from sklearn.preprocessing import StandardScaler\n",
        "\n",
        "scaler = StandardScaler()\n",
        "scaler.fit(X_tr[COL_NUM]) # 데이터 누수를 방지하기 위해 fitting을 학습용 데이터에만 사용하고 해당 결과 다른 데이터에 적용함\n",
        "\n",
        "X_tr[COL_NUM] = scaler.transform(X_tr[COL_NUM])\n",
        "X_val[COL_NUM] = scaler.transform(X_val[COL_NUM])\n",
        "X_test[COL_NUM] = scaler.transform(X_test[COL_NUM])\n"
      ],
      "metadata": {
        "id": "13-AhxvpuT1x"
      },
      "execution_count": 11,
      "outputs": []
    },
    {
      "cell_type": "code",
      "source": [
        "## 범주형변수 - 데이터 인코딩\n",
        "from sklearn.preprocessing import LabelEncoder\n",
        "\n",
        "X = pd.concat([X_train[COL_CAT], X_test[COL_CAT]])\n",
        "\n",
        "for col in COL_CAT:\n",
        "  le = LabelEncoder()\n",
        "  le.fit(X[col])\n",
        "  X_tr[col] = le.transform(X_tr[col])\n",
        "  X_val[col] = le.transform(X_val[col])\n",
        "  X_test[col] = le.transform(X_test[col])\n",
        "\n",
        "  # 각 변수의 클래스 확인\n",
        "  print(col)\n",
        "  print(le.classes_)\n",
        "  print('\\n')"
      ],
      "metadata": {
        "colab": {
          "base_uri": "https://localhost:8080/",
          "height": 0
        },
        "collapsed": true,
        "id": "RqVgjUnkvWzp",
        "outputId": "c62bc2c5-8f70-4214-abe7-8f46ed761b15"
      },
      "execution_count": 15,
      "outputs": [
        {
          "output_type": "stream",
          "name": "stdout",
          "text": [
            "Gender\n",
            "['female' 'male' 'other']\n",
            "\n",
            "\n",
            "Education\n",
            "[\"Bachelor's degree\" 'Doctorate' 'Elementary school graduate'\n",
            " 'High school graduate' \"Master's degree\" 'Middle school graduate']\n",
            "\n",
            "\n",
            "Occupation Type\n",
            "['Agriculture' 'Broadcasting industry' 'Construction industry'\n",
            " 'Distribution industry' 'Electric power industry' 'Finance industry'\n",
            " 'Fishing industry' 'Forestry' 'Gas industry' 'Insurance industry'\n",
            " 'Maintenance industry' 'Manufacturing industry' 'Mining'\n",
            " 'Repair industry' 'Retail industry' 'Service industry' 'Water industry'\n",
            " 'Wholesale industry']\n",
            "\n",
            "\n",
            "Residence Type\n",
            "['Apartment' 'Multi-family home' 'Multiple home' 'Officetel'\n",
            " 'Single-family home' 'Townhouse']\n",
            "\n",
            "\n",
            "Experience Using Metaverse\n",
            "['no' 'yes']\n",
            "\n",
            "\n"
          ]
        }
      ]
    },
    {
      "cell_type": "code",
      "source": [
        "print(tabulate(X_tr[COL_CAT].head(), headers=\"keys\", tablefmt='grid'))"
      ],
      "metadata": {
        "colab": {
          "base_uri": "https://localhost:8080/",
          "height": 0
        },
        "id": "TaQWJoc9xmd7",
        "outputId": "c43ecf79-b3c7-440b-f180-48f1f6654661"
      },
      "execution_count": 17,
      "outputs": [
        {
          "output_type": "stream",
          "name": "stdout",
          "text": [
            "+------+----------+-------------+-------------------+------------------+------------------------------+\n",
            "|      |   Gender |   Education |   Occupation Type |   Residence Type |   Experience Using Metaverse |\n",
            "+======+==========+=============+===================+==================+==============================+\n",
            "| 2778 |        2 |           0 |                10 |                0 |                            0 |\n",
            "+------+----------+-------------+-------------------+------------------+------------------------------+\n",
            "| 1629 |        1 |           5 |                15 |                4 |                            0 |\n",
            "+------+----------+-------------+-------------------+------------------+------------------------------+\n",
            "| 4230 |        1 |           1 |                 6 |                0 |                            0 |\n",
            "+------+----------+-------------+-------------------+------------------+------------------------------+\n",
            "| 4703 |        2 |           3 |                14 |                1 |                            1 |\n",
            "+------+----------+-------------+-------------------+------------------+------------------------------+\n",
            "| 2641 |        2 |           5 |                17 |                5 |                            1 |\n",
            "+------+----------+-------------+-------------------+------------------+------------------------------+\n"
          ]
        }
      ]
    },
    {
      "cell_type": "code",
      "source": [
        "## 모델 학습\n",
        "## 1) 로지스틱 리그레션\n",
        "from sklearn.linear_model import LogisticRegression\n",
        "modelLR = LogisticRegression(random_state = 123)\n",
        "modelLR.fit(X_tr, y_tr)\n",
        "\n",
        "## 2) 랜덤 포레스트\n",
        "from sklearn.ensemble import RandomForestClassifier\n",
        "modelRF = RandomForestClassifier(random_state = 123)\n",
        "modelRF.fit(X_tr, y_tr)\n",
        "\n",
        "## 3) XGBoost\n",
        "from xgboost import XGBClassifier\n",
        "modelXGB = XGBClassifier(random_state = 123)\n",
        "modelXGB.fit(X_tr, y_tr)"
      ],
      "metadata": {
        "colab": {
          "base_uri": "https://localhost:8080/",
          "height": 248
        },
        "collapsed": true,
        "id": "UI5dNyXcx3W5",
        "outputId": "bd27a268-c35c-40a6-b73f-b036964994ae"
      },
      "execution_count": 21,
      "outputs": [
        {
          "output_type": "execute_result",
          "data": {
            "text/plain": [
              "XGBClassifier(base_score=None, booster=None, callbacks=None,\n",
              "              colsample_bylevel=None, colsample_bynode=None,\n",
              "              colsample_bytree=None, device=None, early_stopping_rounds=None,\n",
              "              enable_categorical=False, eval_metric=None, feature_types=None,\n",
              "              gamma=None, grow_policy=None, importance_type=None,\n",
              "              interaction_constraints=None, learning_rate=None, max_bin=None,\n",
              "              max_cat_threshold=None, max_cat_to_onehot=None,\n",
              "              max_delta_step=None, max_depth=None, max_leaves=None,\n",
              "              min_child_weight=None, missing=nan, monotone_constraints=None,\n",
              "              multi_strategy=None, n_estimators=None, n_jobs=None,\n",
              "              num_parallel_tree=None, objective='multi:softprob', ...)"
            ],
            "text/html": [
              "<style>#sk-container-id-1 {color: black;}#sk-container-id-1 pre{padding: 0;}#sk-container-id-1 div.sk-toggleable {background-color: white;}#sk-container-id-1 label.sk-toggleable__label {cursor: pointer;display: block;width: 100%;margin-bottom: 0;padding: 0.3em;box-sizing: border-box;text-align: center;}#sk-container-id-1 label.sk-toggleable__label-arrow:before {content: \"▸\";float: left;margin-right: 0.25em;color: #696969;}#sk-container-id-1 label.sk-toggleable__label-arrow:hover:before {color: black;}#sk-container-id-1 div.sk-estimator:hover label.sk-toggleable__label-arrow:before {color: black;}#sk-container-id-1 div.sk-toggleable__content {max-height: 0;max-width: 0;overflow: hidden;text-align: left;background-color: #f0f8ff;}#sk-container-id-1 div.sk-toggleable__content pre {margin: 0.2em;color: black;border-radius: 0.25em;background-color: #f0f8ff;}#sk-container-id-1 input.sk-toggleable__control:checked~div.sk-toggleable__content {max-height: 200px;max-width: 100%;overflow: auto;}#sk-container-id-1 input.sk-toggleable__control:checked~label.sk-toggleable__label-arrow:before {content: \"▾\";}#sk-container-id-1 div.sk-estimator input.sk-toggleable__control:checked~label.sk-toggleable__label {background-color: #d4ebff;}#sk-container-id-1 div.sk-label input.sk-toggleable__control:checked~label.sk-toggleable__label {background-color: #d4ebff;}#sk-container-id-1 input.sk-hidden--visually {border: 0;clip: rect(1px 1px 1px 1px);clip: rect(1px, 1px, 1px, 1px);height: 1px;margin: -1px;overflow: hidden;padding: 0;position: absolute;width: 1px;}#sk-container-id-1 div.sk-estimator {font-family: monospace;background-color: #f0f8ff;border: 1px dotted black;border-radius: 0.25em;box-sizing: border-box;margin-bottom: 0.5em;}#sk-container-id-1 div.sk-estimator:hover {background-color: #d4ebff;}#sk-container-id-1 div.sk-parallel-item::after {content: \"\";width: 100%;border-bottom: 1px solid gray;flex-grow: 1;}#sk-container-id-1 div.sk-label:hover label.sk-toggleable__label {background-color: #d4ebff;}#sk-container-id-1 div.sk-serial::before {content: \"\";position: absolute;border-left: 1px solid gray;box-sizing: border-box;top: 0;bottom: 0;left: 50%;z-index: 0;}#sk-container-id-1 div.sk-serial {display: flex;flex-direction: column;align-items: center;background-color: white;padding-right: 0.2em;padding-left: 0.2em;position: relative;}#sk-container-id-1 div.sk-item {position: relative;z-index: 1;}#sk-container-id-1 div.sk-parallel {display: flex;align-items: stretch;justify-content: center;background-color: white;position: relative;}#sk-container-id-1 div.sk-item::before, #sk-container-id-1 div.sk-parallel-item::before {content: \"\";position: absolute;border-left: 1px solid gray;box-sizing: border-box;top: 0;bottom: 0;left: 50%;z-index: -1;}#sk-container-id-1 div.sk-parallel-item {display: flex;flex-direction: column;z-index: 1;position: relative;background-color: white;}#sk-container-id-1 div.sk-parallel-item:first-child::after {align-self: flex-end;width: 50%;}#sk-container-id-1 div.sk-parallel-item:last-child::after {align-self: flex-start;width: 50%;}#sk-container-id-1 div.sk-parallel-item:only-child::after {width: 0;}#sk-container-id-1 div.sk-dashed-wrapped {border: 1px dashed gray;margin: 0 0.4em 0.5em 0.4em;box-sizing: border-box;padding-bottom: 0.4em;background-color: white;}#sk-container-id-1 div.sk-label label {font-family: monospace;font-weight: bold;display: inline-block;line-height: 1.2em;}#sk-container-id-1 div.sk-label-container {text-align: center;}#sk-container-id-1 div.sk-container {/* jupyter's `normalize.less` sets `[hidden] { display: none; }` but bootstrap.min.css set `[hidden] { display: none !important; }` so we also need the `!important` here to be able to override the default hidden behavior on the sphinx rendered scikit-learn.org. See: https://github.com/scikit-learn/scikit-learn/issues/21755 */display: inline-block !important;position: relative;}#sk-container-id-1 div.sk-text-repr-fallback {display: none;}</style><div id=\"sk-container-id-1\" class=\"sk-top-container\"><div class=\"sk-text-repr-fallback\"><pre>XGBClassifier(base_score=None, booster=None, callbacks=None,\n",
              "              colsample_bylevel=None, colsample_bynode=None,\n",
              "              colsample_bytree=None, device=None, early_stopping_rounds=None,\n",
              "              enable_categorical=False, eval_metric=None, feature_types=None,\n",
              "              gamma=None, grow_policy=None, importance_type=None,\n",
              "              interaction_constraints=None, learning_rate=None, max_bin=None,\n",
              "              max_cat_threshold=None, max_cat_to_onehot=None,\n",
              "              max_delta_step=None, max_depth=None, max_leaves=None,\n",
              "              min_child_weight=None, missing=nan, monotone_constraints=None,\n",
              "              multi_strategy=None, n_estimators=None, n_jobs=None,\n",
              "              num_parallel_tree=None, objective=&#x27;multi:softprob&#x27;, ...)</pre><b>In a Jupyter environment, please rerun this cell to show the HTML representation or trust the notebook. <br />On GitHub, the HTML representation is unable to render, please try loading this page with nbviewer.org.</b></div><div class=\"sk-container\" hidden><div class=\"sk-item\"><div class=\"sk-estimator sk-toggleable\"><input class=\"sk-toggleable__control sk-hidden--visually\" id=\"sk-estimator-id-1\" type=\"checkbox\" checked><label for=\"sk-estimator-id-1\" class=\"sk-toggleable__label sk-toggleable__label-arrow\">XGBClassifier</label><div class=\"sk-toggleable__content\"><pre>XGBClassifier(base_score=None, booster=None, callbacks=None,\n",
              "              colsample_bylevel=None, colsample_bynode=None,\n",
              "              colsample_bytree=None, device=None, early_stopping_rounds=None,\n",
              "              enable_categorical=False, eval_metric=None, feature_types=None,\n",
              "              gamma=None, grow_policy=None, importance_type=None,\n",
              "              interaction_constraints=None, learning_rate=None, max_bin=None,\n",
              "              max_cat_threshold=None, max_cat_to_onehot=None,\n",
              "              max_delta_step=None, max_depth=None, max_leaves=None,\n",
              "              min_child_weight=None, missing=nan, monotone_constraints=None,\n",
              "              multi_strategy=None, n_estimators=None, n_jobs=None,\n",
              "              num_parallel_tree=None, objective=&#x27;multi:softprob&#x27;, ...)</pre></div></div></div></div></div>"
            ]
          },
          "metadata": {},
          "execution_count": 21
        }
      ]
    },
    {
      "cell_type": "code",
      "source": [
        "## 모델 평가\n",
        "y_val_predLR = modelLR.predict(X_val)\n",
        "y_val_predRF = modelRF.predict(X_val)\n",
        "y_val_predXGB = modelXGB.predict(X_val)\n",
        "\n",
        "## F1 Score 사용\n",
        "from sklearn.metrics import f1_score, accuracy_score\n",
        "\n",
        "scoreLR = f1_score(y_val, y_val_predLR, average='macro')\n",
        "scoreRF = f1_score(y_val, y_val_predRF, average='macro')\n",
        "scoreXGB = f1_score(y_val, y_val_predXGB, average='macro')\n",
        "\n",
        "print('Logistic Regression: \\t', scoreLR)\n",
        "print('Random Forest: \\t', scoreRF)\n",
        "print('XGBoost: \\t', scoreXGB)"
      ],
      "metadata": {
        "colab": {
          "base_uri": "https://localhost:8080/",
          "height": 0
        },
        "id": "astUbG5a4QlU",
        "outputId": "33d7a0f9-b328-4a44-fafa-d6b3a6e0b1a4"
      },
      "execution_count": 23,
      "outputs": [
        {
          "output_type": "stream",
          "name": "stdout",
          "text": [
            "Logistic Regression: \t 0.27049185869757564\n",
            "Random Forest: \t 0.9685734201098353\n",
            "XGBoost: \t 0.9685618525081114\n"
          ]
        }
      ]
    },
    {
      "cell_type": "code",
      "source": [
        "## 참고 - metric 종류 확인\n",
        "import sklearn.metrics\n",
        "print(help(sklearn.metrics.f1_score))"
      ],
      "metadata": {
        "colab": {
          "base_uri": "https://localhost:8080/",
          "height": 0
        },
        "collapsed": true,
        "id": "4qAoZPCd4fou",
        "outputId": "34b45133-b9a5-42c8-aa4c-e5539e8d1e40"
      },
      "execution_count": 24,
      "outputs": [
        {
          "output_type": "stream",
          "name": "stdout",
          "text": [
            "Help on function f1_score in module sklearn.metrics._classification:\n",
            "\n",
            "f1_score(y_true, y_pred, *, labels=None, pos_label=1, average='binary', sample_weight=None, zero_division='warn')\n",
            "    Compute the F1 score, also known as balanced F-score or F-measure.\n",
            "    \n",
            "    The F1 score can be interpreted as a harmonic mean of the precision and\n",
            "    recall, where an F1 score reaches its best value at 1 and worst score at 0.\n",
            "    The relative contribution of precision and recall to the F1 score are\n",
            "    equal. The formula for the F1 score is::\n",
            "    \n",
            "        F1 = 2 * (precision * recall) / (precision + recall)\n",
            "    \n",
            "    In the multi-class and multi-label case, this is the average of\n",
            "    the F1 score of each class with weighting depending on the ``average``\n",
            "    parameter.\n",
            "    \n",
            "    Read more in the :ref:`User Guide <precision_recall_f_measure_metrics>`.\n",
            "    \n",
            "    Parameters\n",
            "    ----------\n",
            "    y_true : 1d array-like, or label indicator array / sparse matrix\n",
            "        Ground truth (correct) target values.\n",
            "    \n",
            "    y_pred : 1d array-like, or label indicator array / sparse matrix\n",
            "        Estimated targets as returned by a classifier.\n",
            "    \n",
            "    labels : array-like, default=None\n",
            "        The set of labels to include when ``average != 'binary'``, and their\n",
            "        order if ``average is None``. Labels present in the data can be\n",
            "        excluded, for example to calculate a multiclass average ignoring a\n",
            "        majority negative class, while labels not present in the data will\n",
            "        result in 0 components in a macro average. For multilabel targets,\n",
            "        labels are column indices. By default, all labels in ``y_true`` and\n",
            "        ``y_pred`` are used in sorted order.\n",
            "    \n",
            "        .. versionchanged:: 0.17\n",
            "           Parameter `labels` improved for multiclass problem.\n",
            "    \n",
            "    pos_label : int, float, bool, str or None, default=1\n",
            "        The class to report if ``average='binary'`` and the data is binary.\n",
            "        If the data are multiclass or multilabel, this will be ignored;\n",
            "        setting ``labels=[pos_label]`` and ``average != 'binary'`` will report\n",
            "        scores for that label only.\n",
            "    \n",
            "    average : {'micro', 'macro', 'samples', 'weighted', 'binary'} or None,             default='binary'\n",
            "        This parameter is required for multiclass/multilabel targets.\n",
            "        If ``None``, the scores for each class are returned. Otherwise, this\n",
            "        determines the type of averaging performed on the data:\n",
            "    \n",
            "        ``'binary'``:\n",
            "            Only report results for the class specified by ``pos_label``.\n",
            "            This is applicable only if targets (``y_{true,pred}``) are binary.\n",
            "        ``'micro'``:\n",
            "            Calculate metrics globally by counting the total true positives,\n",
            "            false negatives and false positives.\n",
            "        ``'macro'``:\n",
            "            Calculate metrics for each label, and find their unweighted\n",
            "            mean.  This does not take label imbalance into account.\n",
            "        ``'weighted'``:\n",
            "            Calculate metrics for each label, and find their average weighted\n",
            "            by support (the number of true instances for each label). This\n",
            "            alters 'macro' to account for label imbalance; it can result in an\n",
            "            F-score that is not between precision and recall.\n",
            "        ``'samples'``:\n",
            "            Calculate metrics for each instance, and find their average (only\n",
            "            meaningful for multilabel classification where this differs from\n",
            "            :func:`accuracy_score`).\n",
            "    \n",
            "    sample_weight : array-like of shape (n_samples,), default=None\n",
            "        Sample weights.\n",
            "    \n",
            "    zero_division : {\"warn\", 0.0, 1.0, np.nan}, default=\"warn\"\n",
            "        Sets the value to return when there is a zero division, i.e. when all\n",
            "        predictions and labels are negative.\n",
            "    \n",
            "        Notes:\n",
            "        - If set to \"warn\", this acts like 0, but a warning is also raised.\n",
            "        - If set to `np.nan`, such values will be excluded from the average.\n",
            "    \n",
            "        .. versionadded:: 1.3\n",
            "           `np.nan` option was added.\n",
            "    \n",
            "    Returns\n",
            "    -------\n",
            "    f1_score : float or array of float, shape = [n_unique_labels]\n",
            "        F1 score of the positive class in binary classification or weighted\n",
            "        average of the F1 scores of each class for the multiclass task.\n",
            "    \n",
            "    See Also\n",
            "    --------\n",
            "    fbeta_score : Compute the F-beta score.\n",
            "    precision_recall_fscore_support : Compute the precision, recall, F-score,\n",
            "        and support.\n",
            "    jaccard_score : Compute the Jaccard similarity coefficient score.\n",
            "    multilabel_confusion_matrix : Compute a confusion matrix for each class or\n",
            "        sample.\n",
            "    \n",
            "    Notes\n",
            "    -----\n",
            "    When ``true positive + false positive == 0``, precision is undefined.\n",
            "    When ``true positive + false negative == 0``, recall is undefined.\n",
            "    In such cases, by default the metric will be set to 0, as will f-score,\n",
            "    and ``UndefinedMetricWarning`` will be raised. This behavior can be\n",
            "    modified with ``zero_division``. Note that if `zero_division` is np.nan,\n",
            "    scores being `np.nan` will be ignored for averaging.\n",
            "    \n",
            "    References\n",
            "    ----------\n",
            "    .. [1] `Wikipedia entry for the F1-score\n",
            "           <https://en.wikipedia.org/wiki/F1_score>`_.\n",
            "    \n",
            "    Examples\n",
            "    --------\n",
            "    >>> import numpy as np\n",
            "    >>> from sklearn.metrics import f1_score\n",
            "    >>> y_true = [0, 1, 2, 0, 1, 2]\n",
            "    >>> y_pred = [0, 2, 1, 0, 0, 1]\n",
            "    >>> f1_score(y_true, y_pred, average='macro')\n",
            "    0.26...\n",
            "    >>> f1_score(y_true, y_pred, average='micro')\n",
            "    0.33...\n",
            "    >>> f1_score(y_true, y_pred, average='weighted')\n",
            "    0.26...\n",
            "    >>> f1_score(y_true, y_pred, average=None)\n",
            "    array([0.8, 0. , 0. ])\n",
            "    \n",
            "    >>> # binary classification\n",
            "    >>> y_true_empty = [0, 0, 0, 0, 0, 0]\n",
            "    >>> y_pred_empty = [0, 0, 0, 0, 0, 0]\n",
            "    >>> f1_score(y_true_empty, y_pred_empty)\n",
            "    0.0...\n",
            "    >>> f1_score(y_true_empty, y_pred_empty, zero_division=1.0)\n",
            "    1.0...\n",
            "    >>> f1_score(y_true_empty, y_pred_empty, zero_division=np.nan)\n",
            "    nan...\n",
            "    \n",
            "    >>> # multilabel classification\n",
            "    >>> y_true = [[0, 0, 0], [1, 1, 1], [0, 1, 1]]\n",
            "    >>> y_pred = [[0, 0, 0], [1, 1, 1], [1, 1, 0]]\n",
            "    >>> f1_score(y_true, y_pred, average=None)\n",
            "    array([0.66666667, 1.        , 0.66666667])\n",
            "\n",
            "None\n"
          ]
        }
      ]
    },
    {
      "cell_type": "code",
      "source": [
        "## 학습, 검증 데이터 성능 확인 함수\n",
        "def get_scores(model, X_tr, X_val, y_tr, y_val):\n",
        "  y_tr_pred = model.predict(X_tr)\n",
        "  y_val_pred = model.predict(X_val)\n",
        "  tr_f1_score = f1_score(y_tr, y_tr_pred, average='macro')\n",
        "  val_f1_score = f1_score(y_val, y_val_pred, average='macro')\n",
        "  tr_acc_score = accuracy_score(y_tr, y_tr_pred)\n",
        "  val_acc_score = accuracy_score(y_val, y_val_pred)\n",
        "\n",
        "  return f'F1_train: {round(tr_f1_score, 4)}, Acc_train: {round(tr_acc_score, 4)}, F1_valid: {round(val_f1_score, 4)}, Acc_valid: {round(val_acc_score, 4)} '\n"
      ],
      "metadata": {
        "id": "UhtiV8cm5Z2c"
      },
      "execution_count": 27,
      "outputs": []
    },
    {
      "cell_type": "code",
      "source": [
        "print('Logistic Regression: \\t', get_scores(modelLR, X_tr, X_val, y_tr, y_val))\n",
        "print('Random Forest: \\t', get_scores(modelRF, X_tr, X_val, y_tr, y_val))\n",
        "print('XGBoost: \\t', get_scores(modelXGB, X_tr, X_val, y_tr, y_val))"
      ],
      "metadata": {
        "colab": {
          "base_uri": "https://localhost:8080/",
          "height": 0
        },
        "id": "kJD2cacI7F2l",
        "outputId": "852f2d68-0f7b-4041-925e-173b61359d63"
      },
      "execution_count": 28,
      "outputs": [
        {
          "output_type": "stream",
          "name": "stdout",
          "text": [
            "Logistic Regression: \t F1_train: 0.2873, Acc_train: 0.2966, F1_valid: 0.2705, Acc_valid: 0.2807 \n",
            "Random Forest: \t F1_train: 1.0, Acc_train: 1.0, F1_valid: 0.9686, Acc_valid: 0.9687 \n",
            "XGBoost: \t F1_train: 1.0, Acc_train: 1.0, F1_valid: 0.9686, Acc_valid: 0.9687 \n"
          ]
        }
      ]
    },
    {
      "cell_type": "code",
      "source": [
        "## 하이퍼파라미터 튜닝\n",
        "modelXGB2 = XGBClassifier(n_estimators=50, max_depth=3, min_child_weight=1, random_state=123)\n",
        "modelXGB2.fit(X_tr, y_tr)\n",
        "\n",
        "modelXGB3 = XGBClassifier(n_estimators=50, max_depth=3, min_child_weight=2, random_state=123)\n",
        "modelXGB3.fit(X_tr, y_tr)\n",
        "\n",
        "modelXGB4 = XGBClassifier(n_estimators=50, max_depth=5, min_child_weight=1, random_state=123)\n",
        "modelXGB4.fit(X_tr, y_tr)\n",
        "\n",
        "modelXGB5 = XGBClassifier(n_estimators=100, max_depth=5, min_child_weight=1, random_state=123)\n",
        "modelXGB5.fit(X_tr, y_tr)\n",
        "\n",
        "print('XGBoost2: \\t', get_scores(modelXGB2, X_tr, X_val, y_tr, y_val))\n",
        "print('XGBoost3: \\t', get_scores(modelXGB3, X_tr, X_val, y_tr, y_val))\n",
        "print('XGBoost4: \\t', get_scores(modelXGB4, X_tr, X_val, y_tr, y_val))\n",
        "print('XGBoost5: \\t', get_scores(modelXGB5, X_tr, X_val, y_tr, y_val))"
      ],
      "metadata": {
        "colab": {
          "base_uri": "https://localhost:8080/",
          "height": 0
        },
        "id": "4g4XFvFV87e9",
        "outputId": "3f7607d5-7736-439b-9ef2-64b6ce55e79f"
      },
      "execution_count": 29,
      "outputs": [
        {
          "output_type": "stream",
          "name": "stdout",
          "text": [
            "XGBoost2: \t F1_train: 0.7922, Acc_train: 0.7931, F1_valid: 0.6908, Acc_valid: 0.6933 \n",
            "XGBoost3: \t F1_train: 0.7811, Acc_train: 0.7817, F1_valid: 0.6752, Acc_valid: 0.6773 \n",
            "XGBoost4: \t F1_train: 0.9703, Acc_train: 0.9703, F1_valid: 0.9138, Acc_valid: 0.914 \n",
            "XGBoost5: \t F1_train: 0.9963, Acc_train: 0.9963, F1_valid: 0.9627, Acc_valid: 0.9627 \n"
          ]
        }
      ]
    },
    {
      "cell_type": "code",
      "source": [
        "## 최종 결과값 생성\n",
        "pred = modelXGB5.predict(X_test[COL_CAT+COL_NUM])\n",
        "result = pd.DataFrame({'ID': X_test.id, 'Segmentation': pred})\n",
        "print(result.head())\n",
        "\n",
        "result.to_csv('hansjang.csv', index=False)"
      ],
      "metadata": {
        "colab": {
          "base_uri": "https://localhost:8080/",
          "height": 0
        },
        "id": "h_O7nAYL97Mt",
        "outputId": "3566d298-7a90-4e6a-fc8e-7e0cb09f81e2"
      },
      "execution_count": 32,
      "outputs": [
        {
          "output_type": "stream",
          "name": "stdout",
          "text": [
            "   ID  Segmentation\n",
            "0   1             1\n",
            "1   2             1\n",
            "2   3             1\n",
            "3   4             0\n",
            "4   5             0\n"
          ]
        }
      ]
    },
    {
      "cell_type": "markdown",
      "source": [
        "# 3. 작업형 제3유형"
      ],
      "metadata": {
        "id": "DDfn-jMX_lzm"
      }
    },
    {
      "cell_type": "markdown",
      "source": [
        "## 01. 교통수단 : 카이제곱 적합도 검정\n",
        "### https://m.blog.naver.com/gksshdk8003/222305638201"
      ],
      "metadata": {
        "id": "ksZlmYCMBILX"
      }
    },
    {
      "cell_type": "code",
      "source": [
        "import pandas as pd\n",
        "import numpy as np\n",
        "from tabulate import tabulate\n",
        "import scipy.stats as stats\n",
        "\n",
        "df = pd.read_csv('/content/yemoonsaBigdata/datasets/Part5/ex6/06.03.01-transport_data.csv')\n",
        "\n",
        "print(tabulate(df.head(), headers=\"keys\", tablefmt=\"grid\"))"
      ],
      "metadata": {
        "colab": {
          "base_uri": "https://localhost:8080/",
          "height": 0
        },
        "id": "MsFHNJerB9YG",
        "outputId": "b10974c5-61bb-4b4c-ff34-d8503015eca8"
      },
      "execution_count": 33,
      "outputs": [
        {
          "output_type": "stream",
          "name": "stdout",
          "text": [
            "+----+-----------+-----------------+\n",
            "|    | User ID   | TransportMode   |\n",
            "+====+===========+=================+\n",
            "|  0 | U1        | subway          |\n",
            "+----+-----------+-----------------+\n",
            "|  1 | U2        | taxi            |\n",
            "+----+-----------+-----------------+\n",
            "|  2 | U3        | subway          |\n",
            "+----+-----------+-----------------+\n",
            "|  3 | U4        | subway          |\n",
            "+----+-----------+-----------------+\n",
            "|  4 | U5        | subway          |\n",
            "+----+-----------+-----------------+\n"
          ]
        }
      ]
    },
    {
      "cell_type": "code",
      "source": [
        "observed_data = df['TransportMode'].value_counts().reset_index()\n",
        "observed_data.columns = ['TransportMode', 'Count']\n",
        "\n",
        "print(tabulate(observed_data, headers=\"keys\", tablefmt=\"grid\"))"
      ],
      "metadata": {
        "colab": {
          "base_uri": "https://localhost:8080/",
          "height": 0
        },
        "id": "nKZSPCswG0Qn",
        "outputId": "3b41904f-217b-4ac7-ee46-9bff7069a2d2"
      },
      "execution_count": 50,
      "outputs": [
        {
          "output_type": "stream",
          "name": "stdout",
          "text": [
            "+----+-----------------+---------+\n",
            "|    | TransportMode   |   Count |\n",
            "+====+=================+=========+\n",
            "|  0 | bus             |     415 |\n",
            "+----+-----------------+---------+\n",
            "|  1 | subway          |     294 |\n",
            "+----+-----------------+---------+\n",
            "|  2 | taxi            |     183 |\n",
            "+----+-----------------+---------+\n",
            "|  3 | bicycle         |     108 |\n",
            "+----+-----------------+---------+\n"
          ]
        }
      ]
    },
    {
      "cell_type": "code",
      "source": [
        "## 지하철 선호 이용자 비율 구하기\n",
        "total_counts = sum(observed_data['Count'])\n",
        "subway_counts = observed_data[observed_data['TransportMode']=='subway']['Count'].values[0]\n",
        "subway_ratio = subway_counts / total_counts\n",
        "print(round(subway_ratio, 2))"
      ],
      "metadata": {
        "colab": {
          "base_uri": "https://localhost:8080/",
          "height": 0
        },
        "id": "EssNkCPOHR8o",
        "outputId": "84086dda-96f9-4439-e135-7831b5404da8"
      },
      "execution_count": 51,
      "outputs": [
        {
          "output_type": "stream",
          "name": "stdout",
          "text": [
            "0.29\n"
          ]
        }
      ]
    },
    {
      "cell_type": "code",
      "source": [
        "expected_data = {\n",
        "    'TransportMode' : ['bus', 'subway', 'taxi', 'bicycle'],\n",
        "    'Count' : [total_counts * 0.4, total_counts * 0.3, total_counts * 0.2, total_counts * 0.1]\n",
        "}\n",
        "\n",
        "expected_data = pd.DataFrame(expected_data)\n",
        "\n",
        "print(tabulate(expected_data, headers=\"keys\", tablefmt=\"grid\"))"
      ],
      "metadata": {
        "colab": {
          "base_uri": "https://localhost:8080/",
          "height": 0
        },
        "id": "I7R2JCbUJiFY",
        "outputId": "a120da49-8e4d-40ef-d8a3-5ca388ab3f2b"
      },
      "execution_count": 52,
      "outputs": [
        {
          "output_type": "stream",
          "name": "stdout",
          "text": [
            "+----+-----------------+---------+\n",
            "|    | TransportMode   |   Count |\n",
            "+====+=================+=========+\n",
            "|  0 | bus             |     400 |\n",
            "+----+-----------------+---------+\n",
            "|  1 | subway          |     300 |\n",
            "+----+-----------------+---------+\n",
            "|  2 | taxi            |     200 |\n",
            "+----+-----------------+---------+\n",
            "|  3 | bicycle         |     100 |\n",
            "+----+-----------------+---------+\n"
          ]
        }
      ]
    },
    {
      "cell_type": "code",
      "source": [
        "# 관찰빈도 만들기\n",
        "observed_counts = observed_data['Count'].values\n",
        "print(observed_counts)\n",
        "\n",
        "# 기대빈도 만들기\n",
        "expected_counts = expected_data['Count'].values\n",
        "print(expected_counts)"
      ],
      "metadata": {
        "colab": {
          "base_uri": "https://localhost:8080/",
          "height": 0
        },
        "id": "y4GkkjSyLd5q",
        "outputId": "e57b83f0-5a72-4714-fe0b-e0d678b3b96f"
      },
      "execution_count": 53,
      "outputs": [
        {
          "output_type": "stream",
          "name": "stdout",
          "text": [
            "[415 294 183 108]\n",
            "[400. 300. 200. 100.]\n"
          ]
        }
      ]
    },
    {
      "cell_type": "code",
      "source": [
        "# 검정통계량, p-value 구하기\n",
        "stat, pvalue = stats.chisquare(list(observed_counts), list(expected_counts))\n",
        "print(round(stat, 2), round(pvalue, 2))"
      ],
      "metadata": {
        "colab": {
          "base_uri": "https://localhost:8080/",
          "height": 0
        },
        "id": "kqr43o1XMPgq",
        "outputId": "9ea56f28-2379-4f3d-f1d1-d8d0125d7edd"
      },
      "execution_count": 55,
      "outputs": [
        {
          "output_type": "stream",
          "name": "stdout",
          "text": [
            "2.77 0.43\n"
          ]
        }
      ]
    },
    {
      "cell_type": "markdown",
      "source": [
        "p-value가 0.05보다 크기 때문에 귀무가설을 채택한다. 즉, 대중교통 이용객의 실제 교통수단 선택 비율이 에상 비율과 같다."
      ],
      "metadata": {
        "id": "rVW-I2JENHCy"
      }
    },
    {
      "cell_type": "markdown",
      "source": [
        "## 02. 물고기 무게 : 다중회귀분석"
      ],
      "metadata": {
        "id": "43vUrN5JNZxB"
      }
    },
    {
      "cell_type": "code",
      "source": [
        "import pandas as pd\n",
        "import statsmodels.api as sm\n",
        "from tabulate import tabulate as tb\n",
        "\n",
        "df = pd.read_csv('/content/yemoonsaBigdata/datasets/Part5/ex6/06.03.02-fish_weight_data.csv')\n",
        "\n",
        "print(tb(df.head(), headers=\"keys\", tablefmt=\"grid\"))\n"
      ],
      "metadata": {
        "colab": {
          "base_uri": "https://localhost:8080/",
          "height": 0
        },
        "id": "089Lz2bfNiDg",
        "outputId": "56fe1651-5f1b-4f37-fbef-0929e3a32c2e"
      },
      "execution_count": 58,
      "outputs": [
        {
          "output_type": "stream",
          "name": "stdout",
          "text": [
            "+----+------+----------+----------+---------+-----------+----------+\n",
            "|    |   id |   Length |   Height |   Width |   FinSize |   Weight |\n",
            "+====+======+==========+==========+=========+===========+==========+\n",
            "|  0 |    1 |    63.91 |    28.72 |    3.46 |     18.22 |   194.32 |\n",
            "+----+------+----------+----------+---------+-----------+----------+\n",
            "|  1 |    2 |    77.22 |    14.45 |    7.12 |     15.71 |   194.59 |\n",
            "+----+------+----------+----------+---------+-----------+----------+\n",
            "|  2 |    3 |    68.22 |    30.73 |    4.09 |      7.33 |   191.24 |\n",
            "+----+------+----------+----------+---------+-----------+----------+\n",
            "|  3 |    4 |    63.59 |    38.68 |    2.21 |      2.54 |   194.23 |\n",
            "+----+------+----------+----------+---------+-----------+----------+\n",
            "|  4 |    5 |    53.89 |    13.71 |    0.73 |      8.74 |   131.82 |\n",
            "+----+------+----------+----------+---------+-----------+----------+\n"
          ]
        }
      ]
    },
    {
      "cell_type": "code",
      "source": [
        "## 독립변수와 종속변수 설정\n",
        "X_cols = ['Length', 'Height', 'Width', 'FinSize']\n",
        "y_cols = ['Weight']\n",
        "\n",
        "## 독립변수와 종속변수 분리\n",
        "X = df[X_cols]\n",
        "y = df[y_cols]\n",
        "\n",
        "print(tb(X.head(), headers='keys', tablefmt='grid'))"
      ],
      "metadata": {
        "colab": {
          "base_uri": "https://localhost:8080/",
          "height": 0
        },
        "id": "YCccQZVxOGRU",
        "outputId": "b619e55d-c994-4c75-c7b7-7e1e8c8e7dbb"
      },
      "execution_count": 59,
      "outputs": [
        {
          "output_type": "stream",
          "name": "stdout",
          "text": [
            "+----+----------+----------+---------+-----------+\n",
            "|    |   Length |   Height |   Width |   FinSize |\n",
            "+====+==========+==========+=========+===========+\n",
            "|  0 |    63.91 |    28.72 |    3.46 |     18.22 |\n",
            "+----+----------+----------+---------+-----------+\n",
            "|  1 |    77.22 |    14.45 |    7.12 |     15.71 |\n",
            "+----+----------+----------+---------+-----------+\n",
            "|  2 |    68.22 |    30.73 |    4.09 |      7.33 |\n",
            "+----+----------+----------+---------+-----------+\n",
            "|  3 |    63.59 |    38.68 |    2.21 |      2.54 |\n",
            "+----+----------+----------+---------+-----------+\n",
            "|  4 |    53.89 |    13.71 |    0.73 |      8.74 |\n",
            "+----+----------+----------+---------+-----------+\n"
          ]
        }
      ]
    },
    {
      "cell_type": "code",
      "source": [
        "## 다중회귀 분석 수행\n",
        "X = sm.add_constant(X)  # 상수항 추가\n",
        "model = sm.OLS(y, X).fit()  # 분석 수행 - 모델 생성\n",
        "\n",
        "print(model.summary())"
      ],
      "metadata": {
        "colab": {
          "base_uri": "https://localhost:8080/",
          "height": 0
        },
        "id": "ce01eripOknq",
        "outputId": "b369508c-5177-46f3-9225-aab048dd09fc"
      },
      "execution_count": 66,
      "outputs": [
        {
          "output_type": "stream",
          "name": "stdout",
          "text": [
            "                            OLS Regression Results                            \n",
            "==============================================================================\n",
            "Dep. Variable:                 Weight   R-squared:                       0.991\n",
            "Model:                            OLS   Adj. R-squared:                  0.991\n",
            "Method:                 Least Squares   F-statistic:                     2751.\n",
            "Date:                Tue, 27 Aug 2024   Prob (F-statistic):           2.96e-97\n",
            "Time:                        09:50:51   Log-Likelihood:                -292.18\n",
            "No. Observations:                 100   AIC:                             594.4\n",
            "Df Residuals:                      95   BIC:                             607.4\n",
            "Df Model:                           4                                         \n",
            "Covariance Type:            nonrobust                                         \n",
            "==============================================================================\n",
            "                 coef    std err          t      P>|t|      [0.025      0.975]\n",
            "------------------------------------------------------------------------------\n",
            "const         -3.3186      2.278     -1.457      0.149      -7.842       1.205\n",
            "Length         2.0350      0.020    101.449      0.000       1.995       2.075\n",
            "Height         1.4934      0.048     30.953      0.000       1.398       1.589\n",
            "Width          0.6407      0.164      3.917      0.000       0.316       0.965\n",
            "FinSize        0.9803      0.086     11.385      0.000       0.809       1.151\n",
            "==============================================================================\n",
            "Omnibus:                        0.149   Durbin-Watson:                   2.125\n",
            "Prob(Omnibus):                  0.928   Jarque-Bera (JB):                0.264\n",
            "Skew:                          -0.084   Prob(JB):                        0.876\n",
            "Kurtosis:                       2.813   Cond. No.                         331.\n",
            "==============================================================================\n",
            "\n",
            "Notes:\n",
            "[1] Standard Errors assume that the covariance matrix of the errors is correctly specified.\n"
          ]
        }
      ]
    },
    {
      "cell_type": "code",
      "source": [
        "## Length 회귀계수 구하기 length_coef\n",
        "length_coef = model.params[\"Length\"]\n",
        "length_coef = round(length_coef, 2)\n",
        "\n",
        "print(length_coef)"
      ],
      "metadata": {
        "colab": {
          "base_uri": "https://localhost:8080/",
          "height": 0
        },
        "id": "8skWUc-5O2pU",
        "outputId": "47d2ff97-06a1-4b51-b6d8-6a1b1d87396f"
      },
      "execution_count": 61,
      "outputs": [
        {
          "output_type": "stream",
          "name": "stdout",
          "text": [
            "2.04\n"
          ]
        }
      ]
    },
    {
      "cell_type": "code",
      "source": [
        "## Height 계수의 p-value 구하기\n",
        "\n",
        "height_pvalue = model.pvalues['Height']\n",
        "print(height_pvalue)"
      ],
      "metadata": {
        "colab": {
          "base_uri": "https://localhost:8080/",
          "height": 0
        },
        "id": "voMeUBNfPJFa",
        "outputId": "e0e81b9a-3ce0-44b1-bd16-e3f5e0c4ba23"
      },
      "execution_count": 65,
      "outputs": [
        {
          "output_type": "stream",
          "name": "stdout",
          "text": [
            "2.0296276104742017e-51\n"
          ]
        }
      ]
    },
    {
      "cell_type": "code",
      "source": [
        "## Width 회귀계수의 유의미 여부 추출하기\n",
        "width_coef = model.params[\"Width\"]\n",
        "width_pvalue = model.pvalues['Width']\n",
        "\n",
        "if width_pvalue < 0.05:\n",
        "  print('Y')\n",
        "else:\n",
        "  print('N')"
      ],
      "metadata": {
        "colab": {
          "base_uri": "https://localhost:8080/",
          "height": 0
        },
        "id": "Hc6D_h1bPeNz",
        "outputId": "ae5f9e09-631e-4a0c-f1dd-fe32cc644af6"
      },
      "execution_count": 67,
      "outputs": [
        {
          "output_type": "stream",
          "name": "stdout",
          "text": [
            "Y\n"
          ]
        }
      ]
    }
  ]
}