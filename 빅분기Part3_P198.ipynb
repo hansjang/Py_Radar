{
  "nbformat": 4,
  "nbformat_minor": 0,
  "metadata": {
    "colab": {
      "provenance": [],
      "authorship_tag": "ABX9TyO5EGdI5aEicXTfndPXqfjL",
      "include_colab_link": true
    },
    "kernelspec": {
      "name": "python3",
      "display_name": "Python 3"
    },
    "language_info": {
      "name": "python"
    }
  },
  "cells": [
    {
      "cell_type": "markdown",
      "metadata": {
        "id": "view-in-github",
        "colab_type": "text"
      },
      "source": [
        "<a href=\"https://colab.research.google.com/github/hansjang/Py_Radar/blob/main/%EB%B9%85%EB%B6%84%EA%B8%B0Part3_P198.ipynb\" target=\"_parent\"><img src=\"https://colab.research.google.com/assets/colab-badge.svg\" alt=\"Open In Colab\"/></a>"
      ]
    },
    {
      "cell_type": "markdown",
      "source": [
        "(P.198) 2. 실습 A to Z : Penguins\n",
        "\n",
        "---"
      ],
      "metadata": {
        "id": "fdnlclaquN6L"
      }
    },
    {
      "cell_type": "markdown",
      "source": [
        "**(1) 문제 : 펭귄의 무게를 예측하는 회귀 분석**"
      ],
      "metadata": {
        "id": "m979sL2PueU7"
      }
    },
    {
      "cell_type": "code",
      "execution_count": null,
      "metadata": {
        "id": "b2c8Lg39WGwX",
        "colab": {
          "base_uri": "https://localhost:8080/"
        },
        "outputId": "cdc7bb5c-6290-4271-962c-a8d16dfb1840"
      },
      "outputs": [
        {
          "output_type": "stream",
          "name": "stdout",
          "text": [
            "Cloning into 'yemoonsaBigdata'...\n",
            "remote: Enumerating objects: 709, done.\u001b[K\n",
            "remote: Counting objects: 100% (346/346), done.\u001b[K\n",
            "remote: Compressing objects: 100% (231/231), done.\u001b[K\n",
            "remote: Total 709 (delta 156), reused 237 (delta 115), pack-reused 363\u001b[K\n",
            "Receiving objects: 100% (709/709), 11.46 MiB | 18.80 MiB/s, done.\n",
            "Resolving deltas: 100% (341/341), done.\n"
          ]
        }
      ],
      "source": [
        "!git clone https://github.com/AnalyticsKnight/yemoonsaBigdata"
      ]
    },
    {
      "cell_type": "markdown",
      "source": [
        "**(2) 사전 준비**"
      ],
      "metadata": {
        "id": "__bPqsMwCIjC"
      }
    },
    {
      "cell_type": "code",
      "source": [
        "import pandas as pd\n",
        "import numpy as np\n",
        "import warnings\n",
        "\n",
        "warnings.filterwarnings('ignore')\n",
        "\n",
        "X_test = pd.read_csv(\"/content/yemoonsaBigdata/datasets/Part2/penguin_X_test.csv\")\n",
        "X_train = pd.read_csv(\"/content/yemoonsaBigdata/datasets/Part2/penguin_X_train.csv\")\n",
        "y_train = pd.read_csv(\"/content/yemoonsaBigdata/datasets/Part2/penguin_y_train.csv\")"
      ],
      "metadata": {
        "id": "Wd-8rUTaB6vK"
      },
      "execution_count": 16,
      "outputs": []
    },
    {
      "cell_type": "markdown",
      "source": [
        "**(3) 데이터 전처리**"
      ],
      "metadata": {
        "id": "xsMnnkq1C2-f"
      }
    },
    {
      "cell_type": "code",
      "source": [
        "print(X_train.info())\n",
        "print(X_test.info())\n",
        "print(y_train.info())"
      ],
      "metadata": {
        "colab": {
          "base_uri": "https://localhost:8080/"
        },
        "id": "srJv2NYPC6s6",
        "outputId": "361d4694-862c-47d3-ab63-9ee101e14073"
      },
      "execution_count": 17,
      "outputs": [
        {
          "output_type": "stream",
          "name": "stdout",
          "text": [
            "<class 'pandas.core.frame.DataFrame'>\n",
            "RangeIndex: 240 entries, 0 to 239\n",
            "Data columns (total 6 columns):\n",
            " #   Column             Non-Null Count  Dtype  \n",
            "---  ------             --------------  -----  \n",
            " 0   species            240 non-null    object \n",
            " 1   island             240 non-null    object \n",
            " 2   sex                232 non-null    object \n",
            " 3   bill_length_mm     238 non-null    float64\n",
            " 4   bill_depth_mm      238 non-null    float64\n",
            " 5   flipper_length_mm  238 non-null    float64\n",
            "dtypes: float64(3), object(3)\n",
            "memory usage: 11.4+ KB\n",
            "None\n",
            "<class 'pandas.core.frame.DataFrame'>\n",
            "RangeIndex: 101 entries, 0 to 100\n",
            "Data columns (total 6 columns):\n",
            " #   Column             Non-Null Count  Dtype  \n",
            "---  ------             --------------  -----  \n",
            " 0   species            101 non-null    object \n",
            " 1   island             101 non-null    object \n",
            " 2   sex                101 non-null    object \n",
            " 3   bill_length_mm     101 non-null    float64\n",
            " 4   bill_depth_mm      101 non-null    float64\n",
            " 5   flipper_length_mm  101 non-null    float64\n",
            "dtypes: float64(3), object(3)\n",
            "memory usage: 4.9+ KB\n",
            "None\n",
            "<class 'pandas.core.frame.DataFrame'>\n",
            "RangeIndex: 240 entries, 0 to 239\n",
            "Data columns (total 1 columns):\n",
            " #   Column       Non-Null Count  Dtype  \n",
            "---  ------       --------------  -----  \n",
            " 0   body_mass_g  238 non-null    float64\n",
            "dtypes: float64(1)\n",
            "memory usage: 2.0 KB\n",
            "None\n"
          ]
        }
      ]
    },
    {
      "cell_type": "markdown",
      "source": [
        "**[결측치 처리]** X_train 및 X_test에는 6개의 컬럼이 있으며, 결측치의 경우 X_train에서 sex 변수에 8개, bill_length_mm, bill_depth_mm, flipper_length_mm 에 각각 2개씩 존재한다. y_train에는 2개의 결측치가 있다. species, island, sex는 명목형 변수이며 bill_length_mm, bill_depth_mm, flipper_length_mm, body_mass_g 는 수치형 변수이다."
      ],
      "metadata": {
        "id": "C44k0do7ENih"
      }
    },
    {
      "cell_type": "code",
      "source": [
        "train = pd.concat([X_train, y_train], axis = 1)\n",
        "print(train.loc[(train.sex.isna()) | (train.bill_length_mm.isna()) | (train.bill_depth_mm.isna()) | (train.flipper_length_mm.isna()) |\n",
        " (train.body_mass_g.isna())])"
      ],
      "metadata": {
        "colab": {
          "base_uri": "https://localhost:8080/"
        },
        "id": "yDocJ9rGFhFM",
        "outputId": "d35244ca-29b4-45b7-92c4-9162772ba169"
      },
      "execution_count": 18,
      "outputs": [
        {
          "output_type": "stream",
          "name": "stdout",
          "text": [
            "    species     island  sex  bill_length_mm  bill_depth_mm  flipper_length_mm  \\\n",
            "0    Adelie  Torgersen  NaN            42.0           20.2              190.0   \n",
            "6    Gentoo     Biscoe  NaN            44.5           14.3              216.0   \n",
            "43   Gentoo     Biscoe  NaN             NaN            NaN                NaN   \n",
            "66   Adelie  Torgersen  NaN            37.8           17.3              180.0   \n",
            "88   Gentoo     Biscoe  NaN            47.3           13.8              216.0   \n",
            "89   Adelie  Torgersen  NaN            37.8           17.1              186.0   \n",
            "110  Gentoo     Biscoe  NaN            44.5           15.7              217.0   \n",
            "229  Adelie  Torgersen  NaN             NaN            NaN                NaN   \n",
            "\n",
            "     body_mass_g  \n",
            "0         4250.0  \n",
            "6         4100.0  \n",
            "43           NaN  \n",
            "66        3700.0  \n",
            "88        4725.0  \n",
            "89        3300.0  \n",
            "110       4875.0  \n",
            "229          NaN  \n"
          ]
        }
      ]
    },
    {
      "cell_type": "markdown",
      "source": [
        "isna 함수를 사용하여 결측치가 하나라도 존재하는 관측값들을 확인한 결과, sex가 모두 결측치로 나타난다. sex는 대치하기가 곤란한 명목형 변수이므로 결측치를 포함하는 8개의 관측치를 제거하는 방향으로 전처리한다."
      ],
      "metadata": {
        "id": "e-uoUD5FI1JO"
      }
    },
    {
      "cell_type": "code",
      "source": [
        "train = train.dropna()\n",
        "train.reset_index(drop=True, inplace=True)"
      ],
      "metadata": {
        "id": "9hfXwHuiJiDU"
      },
      "execution_count": 19,
      "outputs": []
    },
    {
      "cell_type": "code",
      "source": [
        "X_train = train[['species', 'island', 'sex', 'bill_length_mm', 'bill_depth_mm', 'flipper_length_mm']]\n",
        "y_train = train[['body_mass_g']]"
      ],
      "metadata": {
        "id": "2XqHuTAkJwF_"
      },
      "execution_count": 20,
      "outputs": []
    },
    {
      "cell_type": "code",
      "source": [
        "print(X_train.describe())"
      ],
      "metadata": {
        "colab": {
          "base_uri": "https://localhost:8080/"
        },
        "id": "1Ptk4EoeKT1N",
        "outputId": "0fc58b1a-01a9-4ccc-df5b-7a4a219e7bf6"
      },
      "execution_count": 21,
      "outputs": [
        {
          "output_type": "stream",
          "name": "stdout",
          "text": [
            "       bill_length_mm  bill_depth_mm  flipper_length_mm\n",
            "count      232.000000     232.000000         232.000000\n",
            "mean        43.990948      17.226293         200.681034\n",
            "std          5.509760       1.964677          14.064231\n",
            "min         32.100000      13.200000         172.000000\n",
            "25%         39.200000      15.700000         190.000000\n",
            "50%         44.950000      17.350000         197.000000\n",
            "75%         48.775000      18.725000         212.250000\n",
            "max         58.000000      21.500000         231.000000\n"
          ]
        }
      ]
    },
    {
      "cell_type": "code",
      "source": [
        "COL_DEL = []\n",
        "COL_NUM = ['bill_length_mm', 'bill_depth_mm', 'flipper_length_mm']\n",
        "COL_CAT = ['species', 'island', 'sex']\n",
        "COL_Y = ['body_mass_g']"
      ],
      "metadata": {
        "id": "EF8cJMM5Kggz"
      },
      "execution_count": 22,
      "outputs": []
    },
    {
      "cell_type": "markdown",
      "source": [
        "수치형 변수(COL_NUM)는 스케일링을 하고, 범주형 변수(COL_CAT)는 레이블 인코딩을 실시한다."
      ],
      "metadata": {
        "id": "NNrxFa05MrQv"
      }
    },
    {
      "cell_type": "code",
      "source": [
        "X = pd.concat([X_train, X_test])\n",
        "\n",
        "from sklearn.preprocessing import OneHotEncoder\n",
        "ohe = OneHotEncoder(handle_unknown = 'ignore')\n",
        "ohe.fit(X[COL_CAT])\n",
        "\n",
        "X_train_res = ohe.transform(X_train[COL_CAT])\n",
        "X_test_res = ohe.transform(X_test[COL_CAT])"
      ],
      "metadata": {
        "id": "ibqBscg5M74w"
      },
      "execution_count": 23,
      "outputs": []
    },
    {
      "cell_type": "code",
      "source": [
        "print(X_train_res)"
      ],
      "metadata": {
        "id": "WFoW8tVXQNyT"
      },
      "execution_count": null,
      "outputs": []
    },
    {
      "cell_type": "code",
      "source": [
        "X_train_ohe = pd.DataFrame(X_train_res.todense(), columns = ohe.get_feature_names_out())\n",
        "X_test_ohe = pd.DataFrame(X_test_res.todense(), columns = ohe.get_feature_names_out())\n",
        "print(X_train_ohe)\n",
        "\n",
        "X_train_fin = pd.concat([X_train[COL_NUM], X_train_ohe], axis = 1)\n",
        "X_test_fin = pd.concat([X_test[COL_NUM], X_test_ohe], axis = 1)"
      ],
      "metadata": {
        "colab": {
          "base_uri": "https://localhost:8080/"
        },
        "id": "jrPhiCIwQedq",
        "outputId": "45043c38-e7c1-4631-cd7c-3b1ba8efa829"
      },
      "execution_count": 26,
      "outputs": [
        {
          "output_type": "stream",
          "name": "stdout",
          "text": [
            "     species_Adelie  species_Chinstrap  species_Gentoo  island_Biscoe  \\\n",
            "0               0.0                0.0             1.0            1.0   \n",
            "1               1.0                0.0             0.0            0.0   \n",
            "2               0.0                1.0             0.0            0.0   \n",
            "3               0.0                0.0             1.0            1.0   \n",
            "4               1.0                0.0             0.0            0.0   \n",
            "..              ...                ...             ...            ...   \n",
            "227             0.0                1.0             0.0            0.0   \n",
            "228             0.0                0.0             1.0            1.0   \n",
            "229             1.0                0.0             0.0            0.0   \n",
            "230             0.0                1.0             0.0            0.0   \n",
            "231             0.0                0.0             1.0            1.0   \n",
            "\n",
            "     island_Dream  island_Torgersen  sex_FEMALE  sex_MALE  \n",
            "0             0.0               0.0         1.0       0.0  \n",
            "1             0.0               1.0         0.0       1.0  \n",
            "2             1.0               0.0         0.0       1.0  \n",
            "3             0.0               0.0         0.0       1.0  \n",
            "4             1.0               0.0         1.0       0.0  \n",
            "..            ...               ...         ...       ...  \n",
            "227           1.0               0.0         1.0       0.0  \n",
            "228           0.0               0.0         0.0       1.0  \n",
            "229           0.0               1.0         1.0       0.0  \n",
            "230           1.0               0.0         1.0       0.0  \n",
            "231           0.0               0.0         1.0       0.0  \n",
            "\n",
            "[232 rows x 8 columns]\n"
          ]
        }
      ]
    },
    {
      "cell_type": "markdown",
      "source": [
        "원-핫 인코딩을 적용한 후의 희소 행렬(sparse matrix)을 밀집 행렬(dense matrix)로 변환하고, 데이터프레임으로 변환하여 원래 열 이름을 이용해 새로운 데이터프레임을 생성한다. 이후 concat을 이용하여 수치형 변수 집합과 결합한다."
      ],
      "metadata": {
        "id": "jJtZgbC8RzEW"
      }
    },
    {
      "cell_type": "markdown",
      "source": [
        "**(4) 데이터 모형 구축**"
      ],
      "metadata": {
        "id": "n3fmaZUsXec0"
      }
    },
    {
      "cell_type": "code",
      "source": [
        "from sklearn.model_selection import train_test_split\n",
        "X_tr, X_val, y_tr, y_val = train_test_split(X_train_fin, y_train, test_size = 0.3)"
      ],
      "metadata": {
        "id": "qI8A7-naXdI4"
      },
      "execution_count": 27,
      "outputs": []
    },
    {
      "cell_type": "code",
      "source": [
        "from sklearn.preprocessing import MinMaxScaler\n",
        "\n",
        "scaler = MinMaxScaler()\n",
        "scaler.fit(X_tr[COL_NUM])\n",
        "X_tr[COL_NUM] = scaler.transform(X_tr[COL_NUM])\n",
        "X_val[COL_NUM] = scaler.transform(X_val[COL_NUM])\n",
        "X_test_fin[COL_NUM] = scaler.transform(X_test_fin[COL_NUM])"
      ],
      "metadata": {
        "id": "LXMpZkUCZvxC"
      },
      "execution_count": 28,
      "outputs": []
    },
    {
      "cell_type": "markdown",
      "source": [
        "학습데이터와 검증데이터가 7:3으로 분리되었으니 수치형 변수에 대한 스케일링을 진행한다. MinMaxScaler를 사용하였다."
      ],
      "metadata": {
        "id": "eZpz6yfjaVbk"
      }
    },
    {
      "cell_type": "code",
      "source": [
        "from sklearn.linear_model import LinearRegression\n",
        "\n",
        "modelLR = LinearRegression()\n",
        "modelLR.fit(X_tr, y_tr)\n",
        "\n",
        "y_val_pred = modelLR.predict(X_val)\n",
        "print(y_val_pred)"
      ],
      "metadata": {
        "id": "A2PuuPrrag6t"
      },
      "execution_count": null,
      "outputs": []
    },
    {
      "cell_type": "code",
      "source": [
        "print(modelLR.intercept_)\n",
        "\n",
        "coef = pd.Series(data = modelLR.coef_[0], index = X_train_fin.columns)\n",
        "print(coef.sort_values())"
      ],
      "metadata": {
        "colab": {
          "base_uri": "https://localhost:8080/"
        },
        "id": "62S3nbUJbBnl",
        "outputId": "982261ff-9e92-4d62-d877-679dfd81f775"
      },
      "execution_count": 31,
      "outputs": [
        {
          "output_type": "stream",
          "name": "stdout",
          "text": [
            "[3332.97935061]\n",
            "species_Chinstrap   -518.142221\n",
            "sex_FEMALE          -208.567376\n",
            "species_Adelie      -161.872064\n",
            "island_Dream         -42.506563\n",
            "island_Biscoe        -12.192105\n",
            "island_Torgersen      54.698668\n",
            "sex_MALE             208.567376\n",
            "bill_depth_mm        260.905109\n",
            "species_Gentoo       680.014285\n",
            "flipper_length_mm    713.566616\n",
            "bill_length_mm       735.472241\n",
            "dtype: float64\n"
          ]
        }
      ]
    },
    {
      "cell_type": "markdown",
      "source": [
        "intercept_ 와 coef_ 를 사용하여 절편과 기울기를 구할 수 있다. 펭귄의 종이 \"Chinstrap\"이나 \"Adelie\"일 경우 무게에 음의 영향을 주고 있고, \"Gentoo\"일 경우 무에게 양의 영향을 주고 있다. 성별의 경우 수컷이 암컷보다 무겁고, 부리의 크기와 날개의 길이가 클 수록 무게도 많이 나간다는 것을 알 수 있다."
      ],
      "metadata": {
        "id": "k1Il-shPbXgP"
      }
    },
    {
      "cell_type": "markdown",
      "source": [
        "**(6) 데이터 모형 평가**"
      ],
      "metadata": {
        "id": "BYZfagQEcDnE"
      }
    },
    {
      "cell_type": "code",
      "source": [
        "from sklearn.metrics import mean_squared_error, r2_score\n",
        "\n",
        "mse = mean_squared_error(y_val, y_val_pred)\n",
        "rmse = mean_squared_error(y_val, y_val_pred, squared = False)\n",
        "\n",
        "print('MSE :', round(mse, 2))\n",
        "print('RMSE :', round(rmse, 2))"
      ],
      "metadata": {
        "colab": {
          "base_uri": "https://localhost:8080/"
        },
        "id": "cmYHzs7VcCOX",
        "outputId": "769a74d1-8210-4f36-a3e5-8c612bc6145c"
      },
      "execution_count": 36,
      "outputs": [
        {
          "output_type": "stream",
          "name": "stdout",
          "text": [
            "MSE : 81264.88\n",
            "RMSE : 285.07\n"
          ]
        }
      ]
    },
    {
      "cell_type": "code",
      "source": [
        "y_pred = modelLR.predict(X_test_fin)\n",
        "print(y_pred)"
      ],
      "metadata": {
        "id": "rMXb6S9udnJD"
      },
      "execution_count": null,
      "outputs": []
    },
    {
      "cell_type": "code",
      "source": [
        "pd.DataFrame({'body_mass_g': y_pred[: ,0]}).to_csv('./penguin_y_test.csv', index=False)"
      ],
      "metadata": {
        "id": "AQk0jpnId5dX"
      },
      "execution_count": 42,
      "outputs": []
    }
  ]
}