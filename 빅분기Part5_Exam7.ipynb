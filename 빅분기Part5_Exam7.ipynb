{
  "nbformat": 4,
  "nbformat_minor": 0,
  "metadata": {
    "colab": {
      "provenance": [],
      "collapsed_sections": [
        "IJkwqfkAFqaE"
      ],
      "authorship_tag": "ABX9TyMkcMT3dRj6el630xo31lE9",
      "include_colab_link": true
    },
    "kernelspec": {
      "name": "python3",
      "display_name": "Python 3"
    },
    "language_info": {
      "name": "python"
    }
  },
  "cells": [
    {
      "cell_type": "markdown",
      "metadata": {
        "id": "view-in-github",
        "colab_type": "text"
      },
      "source": [
        "<a href=\"https://colab.research.google.com/github/hansjang/Py_Radar/blob/main/%EB%B9%85%EB%B6%84%EA%B8%B0Part5_Exam7.ipynb\" target=\"_parent\"><img src=\"https://colab.research.google.com/assets/colab-badge.svg\" alt=\"Open In Colab\"/></a>"
      ]
    },
    {
      "cell_type": "code",
      "source": [
        "!git clone https://github.com/AnalyticsKnight/yemoonsaBigdata"
      ],
      "metadata": {
        "colab": {
          "base_uri": "https://localhost:8080/"
        },
        "collapsed": true,
        "id": "hkK3tvxKVt6U",
        "outputId": "9f515551-7675-4282-eefd-854664bae1fc"
      },
      "execution_count": 1,
      "outputs": [
        {
          "output_type": "stream",
          "name": "stdout",
          "text": [
            "Cloning into 'yemoonsaBigdata'...\n",
            "remote: Enumerating objects: 709, done.\u001b[K\n",
            "remote: Counting objects: 100% (346/346), done.\u001b[K\n",
            "remote: Compressing objects: 100% (231/231), done.\u001b[K\n",
            "remote: Total 709 (delta 156), reused 237 (delta 115), pack-reused 363 (from 1)\u001b[K\n",
            "Receiving objects: 100% (709/709), 11.46 MiB | 7.44 MiB/s, done.\n",
            "Resolving deltas: 100% (341/341), done.\n",
            "Updating files: 100% (173/173), done.\n"
          ]
        }
      ]
    },
    {
      "cell_type": "markdown",
      "source": [
        "# 1. 작업형 제1유형"
      ],
      "metadata": {
        "id": "36d0lD3MVkFs"
      }
    },
    {
      "cell_type": "markdown",
      "source": [
        "## 01. 학생점수"
      ],
      "metadata": {
        "id": "srGma7eAV7ki"
      }
    },
    {
      "cell_type": "code",
      "source": [
        "import pandas as pd\n",
        "import numpy as np\n",
        "from tabulate import tabulate\n",
        "\n",
        "df = pd.read_csv('/content/yemoonsaBigdata/datasets/Part5/ex7/07.01.01-students_scores.csv')\n",
        "\n",
        "print(df.info())\n",
        "\n",
        "# 과목별 수강 카운트\n",
        "df1 = df[['Statistics', 'DataScience', 'MachineLearning', 'EnglishLiterature']]\n",
        "\n",
        "subject_counts = df1.count()\n",
        "\n",
        "sorted_subject_counts = subject_counts.sort_values(ascending=False)\n",
        "\n",
        "print(sorted_subject_counts)\n",
        "\n",
        "print(tabulate(sorted_subject_counts.items(), headers=['Subject', 'Count'], tablefmt='grid'))"
      ],
      "metadata": {
        "colab": {
          "base_uri": "https://localhost:8080/"
        },
        "id": "Ii_ueA8EVtYq",
        "outputId": "5510ae32-38a4-40a8-ca90-2fe3c5b0e34d"
      },
      "execution_count": 20,
      "outputs": [
        {
          "output_type": "stream",
          "name": "stdout",
          "text": [
            "<class 'pandas.core.frame.DataFrame'>\n",
            "RangeIndex: 1000 entries, 0 to 999\n",
            "Data columns (total 5 columns):\n",
            " #   Column             Non-Null Count  Dtype  \n",
            "---  ------             --------------  -----  \n",
            " 0   student id         1000 non-null   int64  \n",
            " 1   Statistics         773 non-null    float64\n",
            " 2   DataScience        709 non-null    float64\n",
            " 3   MachineLearning    769 non-null    float64\n",
            " 4   EnglishLiterature  749 non-null    float64\n",
            "dtypes: float64(4), int64(1)\n",
            "memory usage: 39.2 KB\n",
            "None\n",
            "Statistics           773\n",
            "MachineLearning      769\n",
            "EnglishLiterature    749\n",
            "DataScience          709\n",
            "dtype: int64\n",
            "+-------------------+---------+\n",
            "| Subject           |   Count |\n",
            "+===================+=========+\n",
            "| Statistics        |     773 |\n",
            "+-------------------+---------+\n",
            "| MachineLearning   |     769 |\n",
            "+-------------------+---------+\n",
            "| EnglishLiterature |     749 |\n",
            "+-------------------+---------+\n",
            "| DataScience       |     709 |\n",
            "+-------------------+---------+\n"
          ]
        }
      ]
    },
    {
      "cell_type": "markdown",
      "source": [
        "**가장 많은 학생이 들었던 과목 : 통계(Statistics)**\n"
      ],
      "metadata": {
        "id": "5ZeSgLRbWfft"
      }
    },
    {
      "cell_type": "code",
      "source": [
        "# 결측치 제거\n",
        "df1_stat = df1['Statistics'].dropna()\n",
        "print(df1_stat.info())\n",
        "\n",
        "# 과목점수 표준화\n",
        "import scipy.stats as stats\n",
        "df1_stat_score = stats.zscore(df1_stat)\n",
        "print(df1_stat_score)\n",
        "\n",
        "# 최대값 출력\n",
        "result = round(max(df1_stat_score), 2)\n",
        "print(result)\n"
      ],
      "metadata": {
        "colab": {
          "base_uri": "https://localhost:8080/"
        },
        "id": "W8NoJUyGWe9N",
        "outputId": "928eb419-7ef7-426b-a016-ec7739fc0865"
      },
      "execution_count": 24,
      "outputs": [
        {
          "output_type": "stream",
          "name": "stdout",
          "text": [
            "<class 'pandas.core.series.Series'>\n",
            "Index: 773 entries, 1 to 998\n",
            "Series name: Statistics\n",
            "Non-Null Count  Dtype  \n",
            "--------------  -----  \n",
            "773 non-null    float64\n",
            "dtypes: float64(1)\n",
            "memory usage: 12.1 KB\n",
            "None\n",
            "1      0.928049\n",
            "2     -1.537180\n",
            "3      1.209789\n",
            "5     -1.114570\n",
            "6     -0.832829\n",
            "         ...   \n",
            "994    0.540656\n",
            "995   -0.586306\n",
            "996    0.012392\n",
            "997    0.963266\n",
            "998   -0.234131\n",
            "Name: Statistics, Length: 773, dtype: float64\n",
            "1.74\n"
          ]
        }
      ]
    },
    {
      "cell_type": "markdown",
      "source": [
        "**표준점수 최대값 : 1.74**"
      ],
      "metadata": {
        "id": "W9w0wUyJgro-"
      }
    },
    {
      "cell_type": "markdown",
      "source": [
        "##02. 물고기 : 종속변수 > 무게(Weight)와 가장 높은 상관관계를 보이는 변수"
      ],
      "metadata": {
        "id": "C7HF-VJEXfKk"
      }
    },
    {
      "cell_type": "code",
      "source": [
        "df = pd.read_csv('/content/yemoonsaBigdata/datasets/Part5/ex7/07.01.02-fish_weight_data.csv')\n",
        "\n",
        "# print(df.info())\n",
        "\n",
        "# ID 변수 제거하기\n",
        "df1 = df.drop('id', axis=1)\n",
        "\n",
        "# 상관계수 구하기\n",
        "corr_matrix = df1.corr()\n",
        "# print(corr_matrix)\n",
        "\n",
        "# 종속변수(Weight) 기준으로 상관계수 구하기\n",
        "corr_weight = corr_matrix['Weight'].drop('Weight')\n",
        "print(corr_weight)"
      ],
      "metadata": {
        "colab": {
          "base_uri": "https://localhost:8080/"
        },
        "id": "1SNedZb1XeL1",
        "outputId": "80324d44-da92-4403-9e56-9b97a8aca762"
      },
      "execution_count": 30,
      "outputs": [
        {
          "output_type": "stream",
          "name": "stdout",
          "text": [
            "Length     0.947420\n",
            "Height     0.222426\n",
            "Width     -0.046809\n",
            "FinSize    0.107433\n",
            "Name: Weight, dtype: float64\n"
          ]
        }
      ]
    },
    {
      "cell_type": "markdown",
      "source": [
        "**무게(Weight)와 가장 높은 상관관계를 보이는 변수 : 길이(Length)**\n",
        "\n"
      ],
      "metadata": {
        "id": "M--BxTlqlewp"
      }
    },
    {
      "cell_type": "markdown",
      "source": [
        "## 03. 아파트 가격 : 이상치가 가장 많은 독립변수의 이상치 개수"
      ],
      "metadata": {
        "id": "VVHKj1zqlpeI"
      }
    },
    {
      "cell_type": "code",
      "source": [
        "df = pd.read_csv('/content/yemoonsaBigdata/datasets/Part5/ex7/07.01.03-apartment_prices_dataset.csv')\n",
        "\n",
        "# print(df.info())\n",
        "# print(df.describe())\n",
        "\n",
        "# 결측치 제거\n",
        "df1 = df.dropna()\n",
        "print(df1.info())\n",
        "\n",
        "# 이상치 구하기\n",
        "cols = df1.columns[:-1]\n",
        "o_cnt_per_var = {}\n",
        "\n",
        "for c in cols:\n",
        "  Q1, Q3 = df1[c].quantile([0.25, 0.75])\n",
        "  IQR = Q3 - Q1\n",
        "  o_cnt = ((df1[c] < (Q1-1.5*IQR)) | (df1[c] > (Q3+1.5*IQR))).sum()\n",
        "\n",
        "  o_cnt_per_var[c] = o_cnt\n",
        "\n",
        "print(o_cnt_per_var)"
      ],
      "metadata": {
        "colab": {
          "base_uri": "https://localhost:8080/"
        },
        "id": "PTKsuP5m3S6u",
        "outputId": "11caafad-8e83-4800-c29b-a6e14acab1e3"
      },
      "execution_count": 37,
      "outputs": [
        {
          "output_type": "stream",
          "name": "stdout",
          "text": [
            "<class 'pandas.core.frame.DataFrame'>\n",
            "RangeIndex: 735 entries, 0 to 734\n",
            "Data columns (total 11 columns):\n",
            " #   Column            Non-Null Count  Dtype  \n",
            "---  ------            --------------  -----  \n",
            " 0   Size              735 non-null    float64\n",
            " 1   Bedrooms          735 non-null    int64  \n",
            " 2   Bathrooms         735 non-null    int64  \n",
            " 3   Floor             735 non-null    int64  \n",
            " 4   Age               735 non-null    int64  \n",
            " 5   DistanceToCenter  735 non-null    float64\n",
            " 6   NearbySchools     735 non-null    float64\n",
            " 7   NearbyParks       735 non-null    float64\n",
            " 8   PublicTransport   735 non-null    float64\n",
            " 9   SafetyIndex       735 non-null    int64  \n",
            " 10  Price             735 non-null    float64\n",
            "dtypes: float64(6), int64(5)\n",
            "memory usage: 63.3 KB\n",
            "None\n",
            "{'Size': 1, 'Bedrooms': 3, 'Bathrooms': 2, 'Floor': 4, 'Age': 15, 'DistanceToCenter': 1, 'NearbySchools': 5, 'NearbyParks': 4, 'PublicTransport': 5, 'SafetyIndex': 3}\n"
          ]
        }
      ]
    },
    {
      "cell_type": "code",
      "source": [
        "# 이상치가 가장 많은 변수 구하기\n",
        "result = max(o_cnt_per_var, key=o_cnt_per_var.get) # get key with max value\n",
        "print(result)"
      ],
      "metadata": {
        "colab": {
          "base_uri": "https://localhost:8080/"
        },
        "id": "_J9om_pqAFmp",
        "outputId": "67676da2-8ca4-4442-b0d5-fceba8579352"
      },
      "execution_count": 40,
      "outputs": [
        {
          "output_type": "stream",
          "name": "stdout",
          "text": [
            "이상치가 가장 많은 변수 : Age\n"
          ]
        }
      ]
    },
    {
      "cell_type": "markdown",
      "source": [
        "**이상치가 가장 많은 변수 : Age**\n"
      ],
      "metadata": {
        "id": "AlbqZ-u1A_tY"
      }
    },
    {
      "cell_type": "markdown",
      "source": [
        "# 2. 작업형 제2유형"
      ],
      "metadata": {
        "id": "IJkwqfkAFqaE"
      }
    },
    {
      "cell_type": "markdown",
      "source": [
        "## 02. 신규 영업지점 설립 : 매출 예측 RMSE"
      ],
      "metadata": {
        "id": "O3W1yn93FvhE"
      }
    },
    {
      "cell_type": "code",
      "source": [
        "# (1) 사전 준비\n",
        "## 필요한 module import\n",
        "import pandas as pd\n",
        "from tabulate import tabulate\n",
        "\n",
        "## 데이터 불러오기\n",
        "train = pd.read_csv('/content/yemoonsaBigdata/datasets/Part5/ex7/07.02.01-sales_train_dataset.csv')\n",
        "X_test = pd.read_csv('/content/yemoonsaBigdata/datasets/Part5/ex7/07.02.02-sales_test_dataset_x.csv')\n",
        "y_test = pd.read_csv('/content/yemoonsaBigdata/datasets/Part5/ex7/07.02.03-sales_test_dataset_y.csv')\n",
        "\n",
        "## 데이터 살펴보기\n",
        "print(tabulate(train.head(), headers='keys', tablefmt='grid'))\n",
        "print(tabulate(X_test.head(), headers='keys', tablefmt='grid'))\n",
        "print(tabulate(y_test.head(), headers='keys', tablefmt='grid'))"
      ],
      "metadata": {
        "colab": {
          "base_uri": "https://localhost:8080/"
        },
        "id": "_rlqSfO1F-DD",
        "outputId": "fa40529a-313c-40f1-b528-c66335cf137f"
      },
      "execution_count": 45,
      "outputs": [
        {
          "output_type": "stream",
          "name": "stdout",
          "text": [
            "+----+--------------+--------+--------------+----------------------------+-----------------+----------------+-----------+\n",
            "|    | BranchName   | City   |   Population |   IncomeGeneratingPopRatio |   AverageIncome | IndustryType   |     Sales |\n",
            "+====+==============+========+==============+============================+=================+================+===========+\n",
            "|  0 | 지점106      | 대전   |      1961994 |                   0.201855 |         5104676 | 농업           | 256900147 |\n",
            "+----+--------------+--------+--------------+----------------------------+-----------------+----------------+-----------+\n",
            "|  1 | 지점69       | 수원   |      1999348 |                   0.609039 |         6175887 | 서비스업       | 185564838 |\n",
            "+----+--------------+--------+--------------+----------------------------+-----------------+----------------+-----------+\n",
            "|  2 | 지점480      | 광주   |      1736191 |                   0.684106 |         4935993 | 농업           | 265883549 |\n",
            "+----+--------------+--------+--------------+----------------------------+-----------------+----------------+-----------+\n",
            "|  3 | 지점400      | 서울   |      1411974 |                   0.488642 |         6387483 | 어업           | 130738595 |\n",
            "+----+--------------+--------+--------------+----------------------------+-----------------+----------------+-----------+\n",
            "|  4 | 지점435      | 수원   |      1599608 |                   0.231685 |         6113313 | 어업           | 354354259 |\n",
            "+----+--------------+--------+--------------+----------------------------+-----------------+----------------+-----------+\n",
            "+----+--------------+--------+--------------+----------------------------+-----------------+----------------+\n",
            "|    | BranchName   | City   |   Population |   IncomeGeneratingPopRatio |   AverageIncome | IndustryType   |\n",
            "+====+==============+========+==============+============================+=================+================+\n",
            "|  0 | 지점994      | 수원   |      2620192 |                   0.272974 |         3971748 | 제조업         |\n",
            "+----+--------------+--------+--------------+----------------------------+-----------------+----------------+\n",
            "|  1 | 지점860      | 부산   |      1633511 |                   0.208515 |         6905129 | 제조업         |\n",
            "+----+--------------+--------+--------------+----------------------------+-----------------+----------------+\n",
            "|  2 | 지점299      | 광주   |      1511031 |                   0.552322 |         4664242 | 농업           |\n",
            "+----+--------------+--------+--------------+----------------------------+-----------------+----------------+\n",
            "|  3 | 지점554      | 울산   |      2165618 |                   0.359201 |         4085372 | 서비스업       |\n",
            "+----+--------------+--------+--------------+----------------------------+-----------------+----------------+\n",
            "|  4 | 지점673      | 울산   |       668309 |                   0.661939 |         6903510 | 제조업         |\n",
            "+----+--------------+--------+--------------+----------------------------+-----------------+----------------+\n",
            "+----+--------------+-----------+\n",
            "|    | BranchName   |     Sales |\n",
            "+====+==============+===========+\n",
            "|  0 | 지점994      | 498818118 |\n",
            "+----+--------------+-----------+\n",
            "|  1 | 지점860      | 303166994 |\n",
            "+----+--------------+-----------+\n",
            "|  2 | 지점299      | 390553525 |\n",
            "+----+--------------+-----------+\n",
            "|  3 | 지점554      | 385693817 |\n",
            "+----+--------------+-----------+\n",
            "|  4 | 지점673      | 260868626 |\n",
            "+----+--------------+-----------+\n"
          ]
        }
      ]
    },
    {
      "cell_type": "code",
      "source": [
        "# (2) 데이터 전처리\n",
        "## 데이터 타입 확인\n",
        "print(train.info())\n",
        "print(X_test.info())\n",
        "print(y_test.info())\n",
        "\n",
        "## 결측치 확인\n",
        "print(train.isnull().sum())\n",
        "print(X_test.isnull().sum())\n",
        "print(y_test.isnull().sum())\n",
        "\n",
        "## 변수 타입별 구분\n",
        "COL_DEL = ['BranchName']  #불필요한 변수\n",
        "COL_NUM = ['Population', 'IncomeGeneratingPopRatio', 'AverageIncome']   #수치형변수\n",
        "COL_CAT = ['City', 'IndustryType']  #범주형변수\n",
        "COL_Y = ['Sales'] #종속변수"
      ],
      "metadata": {
        "colab": {
          "base_uri": "https://localhost:8080/"
        },
        "id": "vqCBfhABIYn9",
        "outputId": "9491f95c-b027-4f36-c750-ae2f1031dea4"
      },
      "execution_count": 46,
      "outputs": [
        {
          "output_type": "stream",
          "name": "stdout",
          "text": [
            "<class 'pandas.core.frame.DataFrame'>\n",
            "RangeIndex: 700 entries, 0 to 699\n",
            "Data columns (total 7 columns):\n",
            " #   Column                    Non-Null Count  Dtype  \n",
            "---  ------                    --------------  -----  \n",
            " 0   BranchName                700 non-null    object \n",
            " 1   City                      700 non-null    object \n",
            " 2   Population                700 non-null    int64  \n",
            " 3   IncomeGeneratingPopRatio  700 non-null    float64\n",
            " 4   AverageIncome             700 non-null    int64  \n",
            " 5   IndustryType              700 non-null    object \n",
            " 6   Sales                     700 non-null    int64  \n",
            "dtypes: float64(1), int64(3), object(3)\n",
            "memory usage: 38.4+ KB\n",
            "None\n",
            "<class 'pandas.core.frame.DataFrame'>\n",
            "RangeIndex: 300 entries, 0 to 299\n",
            "Data columns (total 6 columns):\n",
            " #   Column                    Non-Null Count  Dtype  \n",
            "---  ------                    --------------  -----  \n",
            " 0   BranchName                300 non-null    object \n",
            " 1   City                      300 non-null    object \n",
            " 2   Population                300 non-null    int64  \n",
            " 3   IncomeGeneratingPopRatio  300 non-null    float64\n",
            " 4   AverageIncome             300 non-null    int64  \n",
            " 5   IndustryType              300 non-null    object \n",
            "dtypes: float64(1), int64(2), object(3)\n",
            "memory usage: 14.2+ KB\n",
            "None\n",
            "<class 'pandas.core.frame.DataFrame'>\n",
            "RangeIndex: 300 entries, 0 to 299\n",
            "Data columns (total 2 columns):\n",
            " #   Column      Non-Null Count  Dtype \n",
            "---  ------      --------------  ----- \n",
            " 0   BranchName  300 non-null    object\n",
            " 1   Sales       300 non-null    int64 \n",
            "dtypes: int64(1), object(1)\n",
            "memory usage: 4.8+ KB\n",
            "None\n",
            "BranchName                  0\n",
            "City                        0\n",
            "Population                  0\n",
            "IncomeGeneratingPopRatio    0\n",
            "AverageIncome               0\n",
            "IndustryType                0\n",
            "Sales                       0\n",
            "dtype: int64\n",
            "BranchName                  0\n",
            "City                        0\n",
            "Population                  0\n",
            "IncomeGeneratingPopRatio    0\n",
            "AverageIncome               0\n",
            "IndustryType                0\n",
            "dtype: int64\n",
            "BranchName    0\n",
            "Sales         0\n",
            "dtype: int64\n"
          ]
        }
      ]
    },
    {
      "cell_type": "code",
      "source": [
        "# (3) 모형 구축\n",
        "## train 데이터 독립변수, 종속변수 세트 분리\n",
        "X_train = train[COL_CAT + COL_NUM]\n",
        "y_train = train[COL_Y]\n",
        "\n",
        "# print(tabulate(X_train.head(), headers='keys', tablefmt='grid'))\n",
        "# print(tabulate(y_train.head(), headers='keys', tablefmt='grid'))\n",
        "\n",
        "## 데이터 분할 => 훈련(7): 검증(3)\n",
        "from sklearn.model_selection import train_test_split\n",
        "X_tr, X_val, y_tr, y_val = train_test_split(X_train,\n",
        "                                            y_train.values.ravel(), #y_train을 1차원 Numpy 배열(array)로 평탄화하여 반환\n",
        "                                            test_size = 0.3)\n",
        "\n",
        "print(tabulate(X_tr.head(), headers='keys', tablefmt='grid'))\n",
        "# print(tabulate([[val] for val in y_tr[:5]], headers=[\"y_tr\"], tablefmt='grid'))\n",
        "# print(y_tr[:5])\n",
        "\n",
        "## 수치형 변수 표준화\n",
        "## code 2번 돌면 작살나는 구간 ##\n",
        "from sklearn.preprocessing import StandardScaler\n",
        "\n",
        "scaler = StandardScaler()\n",
        "scaler.fit(X_tr[COL_NUM])\n",
        "\n",
        "X_tr[COL_NUM] = scaler.transform(X_tr[COL_NUM])\n",
        "X_val[COL_NUM] = scaler.transform(X_val[COL_NUM])\n",
        "X_test[COL_NUM] = scaler.transform(X_test[COL_NUM])\n",
        "\n",
        "print(tabulate(X_tr.head(), headers='keys', tablefmt='grid'))\n",
        "\n",
        "## 범주형 변수 인코딩\n",
        "## code 2번 돌면 작살나는 구간 ##\n",
        "from sklearn.preprocessing import LabelEncoder\n",
        "\n",
        "X = pd.concat([X_train[COL_CAT], X_test[COL_CAT]])\n",
        "\n",
        "for col in COL_CAT:\n",
        "  le = LabelEncoder()\n",
        "  le.fit(X[col])\n",
        "  X_tr[col] = le.transform(X_tr[col])\n",
        "  X_val[col] = le.transform(X_val[col])\n",
        "  X_test[col] = le.transform(X_test[col])\n",
        "\n",
        "  print(col)\n",
        "  print(le.classes_)\n",
        "  print('\\n')"
      ],
      "metadata": {
        "colab": {
          "base_uri": "https://localhost:8080/"
        },
        "id": "xKarLTfTMC4n",
        "outputId": "88ad7d1a-9276-45d3-9c4d-15fcfc9eb0a2"
      },
      "execution_count": 47,
      "outputs": [
        {
          "output_type": "stream",
          "name": "stdout",
          "text": [
            "+-----+--------+----------------+--------------+----------------------------+-----------------+\n",
            "|     | City   | IndustryType   |   Population |   IncomeGeneratingPopRatio |   AverageIncome |\n",
            "+=====+========+================+==============+============================+=================+\n",
            "| 312 | 용인   | 제조업         |      1554172 |                   0.400235 |         4490972 |\n",
            "+-----+--------+----------------+--------------+----------------------------+-----------------+\n",
            "| 541 | 부산   | 제조업         |      1040054 |                   0.564189 |         6140897 |\n",
            "+-----+--------+----------------+--------------+----------------------------+-----------------+\n",
            "| 378 | 부산   | 농업           |      1713513 |                   0.500972 |         6975107 |\n",
            "+-----+--------+----------------+--------------+----------------------------+-----------------+\n",
            "| 342 | 인천   | 제조업         |      2706807 |                   0.50359  |         5649170 |\n",
            "+-----+--------+----------------+--------------+----------------------------+-----------------+\n",
            "| 598 | 대전   | 어업           |      1119950 |                   0.509886 |         6288568 |\n",
            "+-----+--------+----------------+--------------+----------------------------+-----------------+\n",
            "+-----+--------+----------------+--------------+----------------------------+-----------------+\n",
            "|     | City   | IndustryType   |   Population |   IncomeGeneratingPopRatio |   AverageIncome |\n",
            "+=====+========+================+==============+============================+=================+\n",
            "| 312 | 용인   | 제조업         |   -0.288066  |                  -0.349269 |       -0.458227 |\n",
            "+-----+--------+----------------+--------------+----------------------------+-----------------+\n",
            "| 541 | 부산   | 제조업         |   -1.00438   |                   0.777819 |        0.962022 |\n",
            "+-----+--------+----------------+--------------+----------------------------+-----------------+\n",
            "| 378 | 부산   | 농업           |   -0.0660573 |                   0.343237 |        1.68011  |\n",
            "+-----+--------+----------------+--------------+----------------------------+-----------------+\n",
            "| 342 | 인천   | 제조업         |    1.31789   |                   0.361237 |        0.538745 |\n",
            "+-----+--------+----------------+--------------+----------------------------+-----------------+\n",
            "| 598 | 대전   | 어업           |   -0.893064  |                   0.404516 |        1.08914  |\n",
            "+-----+--------+----------------+--------------+----------------------------+-----------------+\n",
            "City\n",
            "['고양' '광주' '대구' '대전' '부산' '서울' '수원' '용인' '울산' '인천']\n",
            "\n",
            "\n",
            "IndustryType\n",
            "['농업' '서비스업' '어업' '제조업']\n",
            "\n",
            "\n"
          ]
        }
      ]
    },
    {
      "cell_type": "code",
      "source": [
        "print(tabulate(X_tr.head(), headers='keys', tablefmt='grid'))"
      ],
      "metadata": {
        "colab": {
          "base_uri": "https://localhost:8080/"
        },
        "id": "f-Lw_5VTX_Bq",
        "outputId": "0c7c53d2-1a4f-4265-a6ac-c05097ef4747"
      },
      "execution_count": 48,
      "outputs": [
        {
          "output_type": "stream",
          "name": "stdout",
          "text": [
            "+-----+--------+----------------+--------------+----------------------------+-----------------+\n",
            "|     |   City |   IndustryType |   Population |   IncomeGeneratingPopRatio |   AverageIncome |\n",
            "+=====+========+================+==============+============================+=================+\n",
            "| 312 |      7 |              3 |   -0.288066  |                  -0.349269 |       -0.458227 |\n",
            "+-----+--------+----------------+--------------+----------------------------+-----------------+\n",
            "| 541 |      4 |              3 |   -1.00438   |                   0.777819 |        0.962022 |\n",
            "+-----+--------+----------------+--------------+----------------------------+-----------------+\n",
            "| 378 |      4 |              0 |   -0.0660573 |                   0.343237 |        1.68011  |\n",
            "+-----+--------+----------------+--------------+----------------------------+-----------------+\n",
            "| 342 |      9 |              3 |    1.31789   |                   0.361237 |        0.538745 |\n",
            "+-----+--------+----------------+--------------+----------------------------+-----------------+\n",
            "| 598 |      3 |              2 |   -0.893064  |                   0.404516 |        1.08914  |\n",
            "+-----+--------+----------------+--------------+----------------------------+-----------------+\n"
          ]
        }
      ]
    },
    {
      "cell_type": "code",
      "source": [
        "## 1) 랜덤포레스트\n",
        "from sklearn.ensemble import RandomForestRegressor\n",
        "modelRF = RandomForestRegressor(random_state = 123)\n",
        "modelRF.fit(X_tr, y_tr)\n",
        "\n",
        "## 2) XGBoost\n",
        "from xgboost import XGBRegressor\n",
        "modelXGB = XGBRegressor(objective='reg:squarederror', random_state = 123)\n",
        "modelXGB.fit(X_tr, y_tr)"
      ],
      "metadata": {
        "colab": {
          "base_uri": "https://localhost:8080/",
          "height": 248
        },
        "id": "DbXadWKkYQsC",
        "outputId": "62720043-1dcf-420f-fa41-22bf62ca8b1b"
      },
      "execution_count": 51,
      "outputs": [
        {
          "output_type": "execute_result",
          "data": {
            "text/plain": [
              "XGBRegressor(base_score=None, booster=None, callbacks=None,\n",
              "             colsample_bylevel=None, colsample_bynode=None,\n",
              "             colsample_bytree=None, device=None, early_stopping_rounds=None,\n",
              "             enable_categorical=False, eval_metric=None, feature_types=None,\n",
              "             gamma=None, grow_policy=None, importance_type=None,\n",
              "             interaction_constraints=None, learning_rate=None, max_bin=None,\n",
              "             max_cat_threshold=None, max_cat_to_onehot=None,\n",
              "             max_delta_step=None, max_depth=None, max_leaves=None,\n",
              "             min_child_weight=None, missing=nan, monotone_constraints=None,\n",
              "             multi_strategy=None, n_estimators=None, n_jobs=None,\n",
              "             num_parallel_tree=None, random_state=123, ...)"
            ],
            "text/html": [
              "<style>#sk-container-id-1 {color: black;}#sk-container-id-1 pre{padding: 0;}#sk-container-id-1 div.sk-toggleable {background-color: white;}#sk-container-id-1 label.sk-toggleable__label {cursor: pointer;display: block;width: 100%;margin-bottom: 0;padding: 0.3em;box-sizing: border-box;text-align: center;}#sk-container-id-1 label.sk-toggleable__label-arrow:before {content: \"▸\";float: left;margin-right: 0.25em;color: #696969;}#sk-container-id-1 label.sk-toggleable__label-arrow:hover:before {color: black;}#sk-container-id-1 div.sk-estimator:hover label.sk-toggleable__label-arrow:before {color: black;}#sk-container-id-1 div.sk-toggleable__content {max-height: 0;max-width: 0;overflow: hidden;text-align: left;background-color: #f0f8ff;}#sk-container-id-1 div.sk-toggleable__content pre {margin: 0.2em;color: black;border-radius: 0.25em;background-color: #f0f8ff;}#sk-container-id-1 input.sk-toggleable__control:checked~div.sk-toggleable__content {max-height: 200px;max-width: 100%;overflow: auto;}#sk-container-id-1 input.sk-toggleable__control:checked~label.sk-toggleable__label-arrow:before {content: \"▾\";}#sk-container-id-1 div.sk-estimator input.sk-toggleable__control:checked~label.sk-toggleable__label {background-color: #d4ebff;}#sk-container-id-1 div.sk-label input.sk-toggleable__control:checked~label.sk-toggleable__label {background-color: #d4ebff;}#sk-container-id-1 input.sk-hidden--visually {border: 0;clip: rect(1px 1px 1px 1px);clip: rect(1px, 1px, 1px, 1px);height: 1px;margin: -1px;overflow: hidden;padding: 0;position: absolute;width: 1px;}#sk-container-id-1 div.sk-estimator {font-family: monospace;background-color: #f0f8ff;border: 1px dotted black;border-radius: 0.25em;box-sizing: border-box;margin-bottom: 0.5em;}#sk-container-id-1 div.sk-estimator:hover {background-color: #d4ebff;}#sk-container-id-1 div.sk-parallel-item::after {content: \"\";width: 100%;border-bottom: 1px solid gray;flex-grow: 1;}#sk-container-id-1 div.sk-label:hover label.sk-toggleable__label {background-color: #d4ebff;}#sk-container-id-1 div.sk-serial::before {content: \"\";position: absolute;border-left: 1px solid gray;box-sizing: border-box;top: 0;bottom: 0;left: 50%;z-index: 0;}#sk-container-id-1 div.sk-serial {display: flex;flex-direction: column;align-items: center;background-color: white;padding-right: 0.2em;padding-left: 0.2em;position: relative;}#sk-container-id-1 div.sk-item {position: relative;z-index: 1;}#sk-container-id-1 div.sk-parallel {display: flex;align-items: stretch;justify-content: center;background-color: white;position: relative;}#sk-container-id-1 div.sk-item::before, #sk-container-id-1 div.sk-parallel-item::before {content: \"\";position: absolute;border-left: 1px solid gray;box-sizing: border-box;top: 0;bottom: 0;left: 50%;z-index: -1;}#sk-container-id-1 div.sk-parallel-item {display: flex;flex-direction: column;z-index: 1;position: relative;background-color: white;}#sk-container-id-1 div.sk-parallel-item:first-child::after {align-self: flex-end;width: 50%;}#sk-container-id-1 div.sk-parallel-item:last-child::after {align-self: flex-start;width: 50%;}#sk-container-id-1 div.sk-parallel-item:only-child::after {width: 0;}#sk-container-id-1 div.sk-dashed-wrapped {border: 1px dashed gray;margin: 0 0.4em 0.5em 0.4em;box-sizing: border-box;padding-bottom: 0.4em;background-color: white;}#sk-container-id-1 div.sk-label label {font-family: monospace;font-weight: bold;display: inline-block;line-height: 1.2em;}#sk-container-id-1 div.sk-label-container {text-align: center;}#sk-container-id-1 div.sk-container {/* jupyter's `normalize.less` sets `[hidden] { display: none; }` but bootstrap.min.css set `[hidden] { display: none !important; }` so we also need the `!important` here to be able to override the default hidden behavior on the sphinx rendered scikit-learn.org. See: https://github.com/scikit-learn/scikit-learn/issues/21755 */display: inline-block !important;position: relative;}#sk-container-id-1 div.sk-text-repr-fallback {display: none;}</style><div id=\"sk-container-id-1\" class=\"sk-top-container\"><div class=\"sk-text-repr-fallback\"><pre>XGBRegressor(base_score=None, booster=None, callbacks=None,\n",
              "             colsample_bylevel=None, colsample_bynode=None,\n",
              "             colsample_bytree=None, device=None, early_stopping_rounds=None,\n",
              "             enable_categorical=False, eval_metric=None, feature_types=None,\n",
              "             gamma=None, grow_policy=None, importance_type=None,\n",
              "             interaction_constraints=None, learning_rate=None, max_bin=None,\n",
              "             max_cat_threshold=None, max_cat_to_onehot=None,\n",
              "             max_delta_step=None, max_depth=None, max_leaves=None,\n",
              "             min_child_weight=None, missing=nan, monotone_constraints=None,\n",
              "             multi_strategy=None, n_estimators=None, n_jobs=None,\n",
              "             num_parallel_tree=None, random_state=123, ...)</pre><b>In a Jupyter environment, please rerun this cell to show the HTML representation or trust the notebook. <br />On GitHub, the HTML representation is unable to render, please try loading this page with nbviewer.org.</b></div><div class=\"sk-container\" hidden><div class=\"sk-item\"><div class=\"sk-estimator sk-toggleable\"><input class=\"sk-toggleable__control sk-hidden--visually\" id=\"sk-estimator-id-1\" type=\"checkbox\" checked><label for=\"sk-estimator-id-1\" class=\"sk-toggleable__label sk-toggleable__label-arrow\">XGBRegressor</label><div class=\"sk-toggleable__content\"><pre>XGBRegressor(base_score=None, booster=None, callbacks=None,\n",
              "             colsample_bylevel=None, colsample_bynode=None,\n",
              "             colsample_bytree=None, device=None, early_stopping_rounds=None,\n",
              "             enable_categorical=False, eval_metric=None, feature_types=None,\n",
              "             gamma=None, grow_policy=None, importance_type=None,\n",
              "             interaction_constraints=None, learning_rate=None, max_bin=None,\n",
              "             max_cat_threshold=None, max_cat_to_onehot=None,\n",
              "             max_delta_step=None, max_depth=None, max_leaves=None,\n",
              "             min_child_weight=None, missing=nan, monotone_constraints=None,\n",
              "             multi_strategy=None, n_estimators=None, n_jobs=None,\n",
              "             num_parallel_tree=None, random_state=123, ...)</pre></div></div></div></div></div>"
            ]
          },
          "metadata": {},
          "execution_count": 51
        }
      ]
    },
    {
      "cell_type": "code",
      "source": [
        "# (4) 모델 평가\n",
        "y_val_predRF = modelRF.predict(X_val)\n",
        "y_val_predXGB = modelXGB.predict(X_val)"
      ],
      "metadata": {
        "id": "xbeHWGp_ZHMC"
      },
      "execution_count": 52,
      "outputs": []
    },
    {
      "cell_type": "code",
      "source": [
        "## 답안 채점 기준인 RMSE 계산(MSE를 사용해도 됨)\n",
        "from sklearn.metrics import mean_squared_error\n",
        "import numpy as np\n",
        "\n",
        "def cal_rmse(actual, pred):\n",
        "  return np.sqrt(mean_squared_error(actual, pred))\n",
        "\n",
        "scoreRF = cal_rmse(y_val, y_val_predRF)\n",
        "scoreXGB = cal_rmse(y_val, y_val_predXGB)\n",
        "\n",
        "print('Random Forest: \\t', scoreRF)\n",
        "print('XGBoost: \\t', scoreXGB)"
      ],
      "metadata": {
        "colab": {
          "base_uri": "https://localhost:8080/"
        },
        "id": "bGHSHj0PZbR7",
        "outputId": "47c8fc43-136d-42ed-92dd-aad28ee80d17"
      },
      "execution_count": 55,
      "outputs": [
        {
          "output_type": "stream",
          "name": "stdout",
          "text": [
            "Random Forest: \t 123094328.01620951\n",
            "XGBoost: \t 139191781.57135928\n"
          ]
        }
      ]
    },
    {
      "cell_type": "code",
      "source": [
        "## 하이퍼파라미터 튜닝\n",
        "modelRF2 =  RandomForestRegressor(\n",
        "                          n_estimators = 50,\n",
        "                          max_depth = 5,\n",
        "                          random_state = 123)\n",
        "modelRF2.fit(X_tr, y_tr)\n",
        "y_val_predRF2 = modelRF2.predict(X_val)\n",
        "scoreRF2 = cal_rmse(y_val, y_val_predRF2)\n",
        "print('Random Forest 2: \\t', scoreRF2)\n",
        "\n",
        "modelRF3 =  RandomForestRegressor(\n",
        "                          n_estimators = 50,\n",
        "                          max_depth = 10,   # 5 -> 10\n",
        "                          random_state = 123)\n",
        "modelRF3.fit(X_tr, y_tr)\n",
        "y_val_predRF3 = modelRF3.predict(X_val)\n",
        "scoreRF3 = cal_rmse(y_val, y_val_predRF3)\n",
        "print('Random Forest 3: \\t', scoreRF3)\n",
        "\n",
        "modelRF4 =  RandomForestRegressor(\n",
        "                          n_estimators = 100, # 50 -> 100\n",
        "                          max_depth = 10,\n",
        "                          random_state = 123)\n",
        "modelRF4.fit(X_tr, y_tr)\n",
        "y_val_predRF4 = modelRF4.predict(X_val)\n",
        "scoreRF4 = cal_rmse(y_val, y_val_predRF4)\n",
        "print('Random Forest 4: \\t', scoreRF4)"
      ],
      "metadata": {
        "colab": {
          "base_uri": "https://localhost:8080/"
        },
        "id": "2Y98CUhfa3tj",
        "outputId": "c916ec3b-0c17-45ce-d3a8-b2ef62236c2b"
      },
      "execution_count": 60,
      "outputs": [
        {
          "output_type": "stream",
          "name": "stdout",
          "text": [
            "Random Forest 2: \t 118299482.38343054\n",
            "Random Forest 3: \t 121608482.04235359\n",
            "Random Forest 4: \t 120446145.48458475\n"
          ]
        }
      ]
    },
    {
      "cell_type": "code",
      "source": [
        "# (5) RMSE값이 가장 낮은 모형 최종 선택 후 제출\n",
        "pred = modelRF2.predict(X_test[COL_CAT+COL_NUM])\n",
        "result = pd.DataFrame({'BranchNAME': X_test.BranchName,\n",
        "                       'Sales': pred})\n",
        "print(tabulate(result.head(), headers='keys', tablefmt='grid'))"
      ],
      "metadata": {
        "colab": {
          "base_uri": "https://localhost:8080/"
        },
        "id": "3waqT1kcdooU",
        "outputId": "2293fe64-13d7-48ad-fff2-8a0f2fc24f19"
      },
      "execution_count": 61,
      "outputs": [
        {
          "output_type": "stream",
          "name": "stdout",
          "text": [
            "+----+--------------+-------------+\n",
            "|    | BranchNAME   |       Sales |\n",
            "+====+==============+=============+\n",
            "|  0 | 지점994      | 2.92676e+08 |\n",
            "+----+--------------+-------------+\n",
            "|  1 | 지점860      | 3.61006e+08 |\n",
            "+----+--------------+-------------+\n",
            "|  2 | 지점299      | 3.06466e+08 |\n",
            "+----+--------------+-------------+\n",
            "|  3 | 지점554      | 3.14238e+08 |\n",
            "+----+--------------+-------------+\n",
            "|  4 | 지점673      | 3.04766e+08 |\n",
            "+----+--------------+-------------+\n"
          ]
        }
      ]
    },
    {
      "cell_type": "code",
      "source": [
        "# to_csv 함수로 제출\n",
        "result.to_csv('빅분기Part5_Exam7_작업형제2유형_결과.csv', index=False, encoding='utf-8-sig')"
      ],
      "metadata": {
        "id": "liUlSF4JeNib"
      },
      "execution_count": 65,
      "outputs": []
    },
    {
      "cell_type": "markdown",
      "source": [
        "# 3. 작업형 제3유형"
      ],
      "metadata": {
        "id": "1qUiJPiEfeZS"
      }
    },
    {
      "cell_type": "markdown",
      "source": [
        "## 01. 로지스틱 회귀모형 : 오즈비, 로짓우도, 오차율"
      ],
      "metadata": {
        "id": "dJK1yb0Cfnlk"
      }
    },
    {
      "cell_type": "code",
      "source": [
        "# library import\n",
        "import pandas as pd\n",
        "import numpy as np\n",
        "from tabulate import tabulate\n",
        "import statsmodels.api as sm\n",
        "\n",
        "df = pd.read_csv('/content/yemoonsaBigdata/datasets/Part5/ex7/07.03.01-gender_prediction_dataset.csv')\n",
        "\n",
        "print(tabulate(df.head(), headers='keys', tablefmt='grid' ))"
      ],
      "metadata": {
        "colab": {
          "base_uri": "https://localhost:8080/"
        },
        "id": "HuYg2c1AfiPb",
        "outputId": "9a2b3582-6bb3-4792-e990-ee32aee6dda6"
      },
      "execution_count": 2,
      "outputs": [
        {
          "output_type": "stream",
          "name": "stdout",
          "text": [
            "+----+----------+----------+------------+----------+\n",
            "|    |   Height |   Weight |   ShoeSize | Gender   |\n",
            "+====+==========+==========+============+==========+\n",
            "|  0 |    177.6 |     59   |        274 | Male     |\n",
            "+----+----------+----------+------------+----------+\n",
            "|  1 |    168   |     49.4 |        238 | Female   |\n",
            "+----+----------+----------+------------+----------+\n",
            "|  2 |    157.4 |     69.8 |        248 | Female   |\n",
            "+----+----------+----------+------------+----------+\n",
            "|  3 |    177.9 |     62.3 |        278 | Male     |\n",
            "+----+----------+----------+------------+----------+\n",
            "|  4 |    156   |     55.3 |        232 | Female   |\n",
            "+----+----------+----------+------------+----------+\n"
          ]
        }
      ]
    },
    {
      "cell_type": "code",
      "source": [
        "# Gender를 이진변수로 변환하기\n",
        "print(df['Gender'].unique())\n",
        "\n",
        "df1 = df.copy()\n",
        "df1['Gender'] = df1['Gender'].map({'Male':1, 'Female':0})\n",
        "print(df1['Gender'].unique())"
      ],
      "metadata": {
        "colab": {
          "base_uri": "https://localhost:8080/"
        },
        "id": "PDROwGON3JHc",
        "outputId": "0b85dc4d-1a2d-4539-fb94-348686958ccf"
      },
      "execution_count": 4,
      "outputs": [
        {
          "output_type": "stream",
          "name": "stdout",
          "text": [
            "['Male' 'Female']\n",
            "[1 0]\n"
          ]
        }
      ]
    },
    {
      "cell_type": "code",
      "source": [
        "# 변수 설정하기\n",
        "X = df1[['Height', 'Weight', 'ShoeSize']]\n",
        "y = df1['Gender']\n",
        "\n",
        "# 데이터 분리하기\n",
        "from sklearn.model_selection import train_test_split\n",
        "\n",
        "# stratify 옵션 : y 클래스의 비율을 유지하기 위해 사용\n",
        "X_train, X_test, y_train, y_test = train_test_split(X, y.values.ravel(), test_size = 0.3, stratify=y.values.ravel())\n",
        "\n",
        "\n",
        "print(len(X_train), len(X_test))"
      ],
      "metadata": {
        "colab": {
          "base_uri": "https://localhost:8080/"
        },
        "id": "4Hdmi4SO3w0a",
        "outputId": "a97ac8e6-ab4a-4768-a03e-3038a8bba206"
      },
      "execution_count": 7,
      "outputs": [
        {
          "output_type": "stream",
          "name": "stdout",
          "text": [
            "210 90\n"
          ]
        }
      ]
    },
    {
      "cell_type": "code",
      "source": [
        "# 로지스틱 회귀 모형 훈련 생성 및 훈련\n",
        "X_train = sm.add_constant(X_train)  # 절편 추가\n",
        "lm = sm.Logit(y_train, X_train.values).fit()  # X_train을 ndarray로 입력\n",
        "\n",
        "# 모형 요약\n",
        "print(lm.summary())"
      ],
      "metadata": {
        "colab": {
          "base_uri": "https://localhost:8080/"
        },
        "id": "uTINbnpt38AO",
        "outputId": "c4ef52d3-76a8-4f7a-c9d7-bc84e616f3b1"
      },
      "execution_count": 9,
      "outputs": [
        {
          "output_type": "stream",
          "name": "stdout",
          "text": [
            "Optimization terminated successfully.\n",
            "         Current function value: 0.048987\n",
            "         Iterations 11\n",
            "                           Logit Regression Results                           \n",
            "==============================================================================\n",
            "Dep. Variable:                      y   No. Observations:                  210\n",
            "Model:                          Logit   Df Residuals:                      206\n",
            "Method:                           MLE   Df Model:                            3\n",
            "Date:                Sat, 24 Aug 2024   Pseudo R-squ.:                  0.9293\n",
            "Time:                        01:00:18   Log-Likelihood:                -10.287\n",
            "converged:                       True   LL-Null:                       -145.55\n",
            "Covariance Type:            nonrobust   LLR p-value:                 2.372e-58\n",
            "==============================================================================\n",
            "                 coef    std err          z      P>|z|      [0.025      0.975]\n",
            "------------------------------------------------------------------------------\n",
            "const       -152.0114     39.484     -3.850      0.000    -229.398     -74.625\n",
            "x1             0.4450      0.126      3.523      0.000       0.197       0.693\n",
            "x2             0.3566      0.127      2.807      0.005       0.108       0.606\n",
            "x3             0.2199      0.066      3.318      0.001       0.090       0.350\n",
            "==============================================================================\n",
            "\n",
            "Possibly complete quasi-separation: A fraction 0.48 of observations can be\n",
            "perfectly predicted. This might indicate that there is complete\n",
            "quasi-separation. In this case some parameters will not be identified.\n"
          ]
        }
      ]
    },
    {
      "cell_type": "code",
      "source": [
        "# odds ratio (오즈비) 구하기\n",
        "# 오즈는 성공할 확률과 실패할 확률의 비이다\n",
        "# np.exp는 지수를 얻기 위한 것으로 회귀계수(coef)를 변환하면 오즈비가 된다\n",
        "odds_ratios = np.exp(lm.params)\n",
        "print(odds_ratios)\n",
        "result = odds_ratios[2]\n",
        "print(result)"
      ],
      "metadata": {
        "colab": {
          "base_uri": "https://localhost:8080/"
        },
        "id": "NMDMUX6w5j37",
        "outputId": "02e94dc3-0b5c-4702-fe5c-ad96af79d14a"
      },
      "execution_count": 13,
      "outputs": [
        {
          "output_type": "stream",
          "name": "stdout",
          "text": [
            "[9.60081769e-67 1.56043186e+00 1.42843621e+00 1.24591193e+00]\n",
            "1.4284362094473393\n"
          ]
        }
      ]
    },
    {
      "cell_type": "code",
      "source": [
        "# 로그 우도 구하기\n",
        "log_likelihood = lm.llf\n",
        "print(log_likelihood)"
      ],
      "metadata": {
        "colab": {
          "base_uri": "https://localhost:8080/"
        },
        "id": "tWHAaVLZ804d",
        "outputId": "4adcdaf5-9671-4695-9c2b-a4d40d0ced02"
      },
      "execution_count": 15,
      "outputs": [
        {
          "output_type": "stream",
          "name": "stdout",
          "text": [
            "-10.287199951476525\n"
          ]
        }
      ]
    },
    {
      "cell_type": "code",
      "source": [
        "# 평가용 데이터로 예측하기\n",
        "X_test = sm.add_constant(X_test) # 절편 추가\n",
        "y_pred = (lm.predict(X_test) >= 0.5).astype(int)\n",
        "\n",
        "# error를 구해서 출력하기\n",
        "error_rate = round(np.mean(np.abs(y_pred.values - y_test)), 4)\n",
        "print(error_rate)"
      ],
      "metadata": {
        "colab": {
          "base_uri": "https://localhost:8080/"
        },
        "id": "9OmgdiV-9CKM",
        "outputId": "788a262d-b85e-4cd6-ea36-e8ad6f50877e"
      },
      "execution_count": 19,
      "outputs": [
        {
          "output_type": "stream",
          "name": "stdout",
          "text": [
            "0.0111\n"
          ]
        }
      ]
    },
    {
      "cell_type": "markdown",
      "source": [
        "## 02. 다중회귀분석 : 결정계수, 회귀계수, p-value"
      ],
      "metadata": {
        "id": "1IeVLMZM-Bk8"
      }
    },
    {
      "cell_type": "code",
      "source": [
        "# library import\n",
        "import pandas as pd\n",
        "import statsmodels.api as sm\n",
        "from tabulate import tabulate\n",
        "\n",
        "df = pd.read_csv('/content/yemoonsaBigdata/datasets/Part5/ex7/07.03.02-used_car_price_dataset.csv')\n",
        "\n",
        "print(tabulate(df.head(), headers='keys', tablefmt='grid'))"
      ],
      "metadata": {
        "colab": {
          "base_uri": "https://localhost:8080/"
        },
        "id": "dkKBY9_S-BCS",
        "outputId": "936acf92-5119-4a96-c8cd-3720f52e08a9"
      },
      "execution_count": 20,
      "outputs": [
        {
          "output_type": "stream",
          "name": "stdout",
          "text": [
            "+----+--------+---------+----------------+-----------+------------+-------+-------+--------------+\n",
            "|    |   year |   price | transmission   |   mileage | fuelType   |   tax |   mpg |   engineSize |\n",
            "+====+========+=========+================+===========+============+=======+=======+==============+\n",
            "|  0 |   2017 |   12500 | Manual         |     15735 | Petrol     |   150 |  55.4 |          1.4 |\n",
            "+----+--------+---------+----------------+-----------+------------+-------+-------+--------------+\n",
            "|  1 |   2016 |   16500 | Automatic      |     36203 | Diesel     |    20 |  64.2 |          2   |\n",
            "+----+--------+---------+----------------+-----------+------------+-------+-------+--------------+\n",
            "|  2 |   2016 |   11000 | Manual         |     29946 | Petrol     |    30 |  55.4 |          1.4 |\n",
            "+----+--------+---------+----------------+-----------+------------+-------+-------+--------------+\n",
            "|  3 |   2017 |   16800 | Automatic      |     25952 | Diesel     |   145 |  67.3 |          2   |\n",
            "+----+--------+---------+----------------+-----------+------------+-------+-------+--------------+\n",
            "|  4 |   2019 |   17300 | Manual         |      1998 | Petrol     |   145 |  49.6 |          1   |\n",
            "+----+--------+---------+----------------+-----------+------------+-------+-------+--------------+\n"
          ]
        }
      ]
    },
    {
      "cell_type": "code",
      "source": [
        "# 라벨인코딩\n",
        "print(df['transmission'].unique())\n",
        "df['transmission'] = df['transmission'].map({'Manual': 0, 'Automatic' : 1, 'Semi-Auto' : 2 })\n",
        "print(df['fuelType'].unique())\n",
        "df['fuelType'] = df['fuelType'].map({'Petrol' : 0, 'Diesel' : 1, 'Hybrid' : 2})\n",
        "\n",
        "print(tabulate(df.head(), headers='keys', tablefmt='grid'))"
      ],
      "metadata": {
        "colab": {
          "base_uri": "https://localhost:8080/"
        },
        "id": "mzi_d7xj_qMm",
        "outputId": "a9617da6-7823-4006-daa6-dfa6efb506e7"
      },
      "execution_count": 23,
      "outputs": [
        {
          "output_type": "stream",
          "name": "stdout",
          "text": [
            "['Manual' 'Automatic' 'Semi-Auto']\n",
            "['Petrol' 'Diesel' 'Hybrid']\n",
            "+----+--------+---------+----------------+-----------+------------+-------+-------+--------------+\n",
            "|    |   year |   price |   transmission |   mileage |   fuelType |   tax |   mpg |   engineSize |\n",
            "+====+========+=========+================+===========+============+=======+=======+==============+\n",
            "|  0 |   2017 |   12500 |              0 |     15735 |          0 |   150 |  55.4 |          1.4 |\n",
            "+----+--------+---------+----------------+-----------+------------+-------+-------+--------------+\n",
            "|  1 |   2016 |   16500 |              1 |     36203 |          1 |    20 |  64.2 |          2   |\n",
            "+----+--------+---------+----------------+-----------+------------+-------+-------+--------------+\n",
            "|  2 |   2016 |   11000 |              0 |     29946 |          0 |    30 |  55.4 |          1.4 |\n",
            "+----+--------+---------+----------------+-----------+------------+-------+-------+--------------+\n",
            "|  3 |   2017 |   16800 |              1 |     25952 |          1 |   145 |  67.3 |          2   |\n",
            "+----+--------+---------+----------------+-----------+------------+-------+-------+--------------+\n",
            "|  4 |   2019 |   17300 |              0 |      1998 |          0 |   145 |  49.6 |          1   |\n",
            "+----+--------+---------+----------------+-----------+------------+-------+-------+--------------+\n"
          ]
        }
      ]
    },
    {
      "cell_type": "code",
      "source": [
        "# 독립변수, 종속변수 설정\n",
        "X_cols = ['year', 'transmission', 'mileage', 'fuelType', 'tax', 'mpg', 'engineSize']\n",
        "y_col = ['price']\n",
        "\n",
        "# 독립변수, 종속변수 데이터 분리\n",
        "X = df[X_cols]\n",
        "y = df[y_col]"
      ],
      "metadata": {
        "id": "ICGcXNmdAe2V"
      },
      "execution_count": 24,
      "outputs": []
    },
    {
      "cell_type": "code",
      "source": [
        "# 다중회귀분석 수행\n",
        "X = sm.add_constant(X)  # 절편(상수항) 추가\n",
        "model = sm.OLS(y, X).fit()  # 분석 수행 - 모델 생성\n",
        "\n",
        "# 결과 요약\n",
        "print(model.summary())"
      ],
      "metadata": {
        "colab": {
          "base_uri": "https://localhost:8080/"
        },
        "id": "Twh-5QQ5BQ2-",
        "outputId": "eded4a94-19d6-42b1-e931-de2deca56f49"
      },
      "execution_count": 26,
      "outputs": [
        {
          "output_type": "stream",
          "name": "stdout",
          "text": [
            "                            OLS Regression Results                            \n",
            "==============================================================================\n",
            "Dep. Variable:                  price   R-squared:                       0.796\n",
            "Model:                            OLS   Adj. R-squared:                  0.796\n",
            "Method:                 Least Squares   F-statistic:                     2784.\n",
            "Date:                Sat, 24 Aug 2024   Prob (F-statistic):               0.00\n",
            "Time:                        01:35:51   Log-Likelihood:                -49990.\n",
            "No. Observations:                5000   AIC:                         1.000e+05\n",
            "Df Residuals:                    4992   BIC:                         1.000e+05\n",
            "Df Model:                           7                                         \n",
            "Covariance Type:            nonrobust                                         \n",
            "================================================================================\n",
            "                   coef    std err          t      P>|t|      [0.025      0.975]\n",
            "--------------------------------------------------------------------------------\n",
            "const        -4.797e+06   1.46e+05    -32.746      0.000   -5.08e+06   -4.51e+06\n",
            "year          2383.4500     72.485     32.882      0.000    2241.347    2525.553\n",
            "transmission   366.5030     92.278      3.972      0.000     185.597     547.409\n",
            "mileage         -0.1198      0.006    -18.444      0.000      -0.133      -0.107\n",
            "fuelType     -1200.1607    204.461     -5.870      0.000   -1600.994    -799.328\n",
            "tax            -21.2135      1.589    -13.351      0.000     -24.328     -18.099\n",
            "mpg           -144.1003     10.545    -13.666      0.000    -164.772    -123.428\n",
            "engineSize    1.305e+04    186.625     69.934      0.000    1.27e+04    1.34e+04\n",
            "==============================================================================\n",
            "Omnibus:                     3213.760   Durbin-Watson:                   1.873\n",
            "Prob(Omnibus):                  0.000   Jarque-Bera (JB):           115309.003\n",
            "Skew:                           2.534   Prob(JB):                         0.00\n",
            "Kurtosis:                      25.974   Cond. No.                     5.79e+07\n",
            "==============================================================================\n",
            "\n",
            "Notes:\n",
            "[1] Standard Errors assume that the covariance matrix of the errors is correctly specified.\n",
            "[2] The condition number is large, 5.79e+07. This might indicate that there are\n",
            "strong multicollinearity or other numerical problems.\n"
          ]
        }
      ]
    },
    {
      "cell_type": "code",
      "source": [
        "# 결정계수 구하기\n",
        "r_squared = model.rsquared\n",
        "print(r_squared)"
      ],
      "metadata": {
        "colab": {
          "base_uri": "https://localhost:8080/"
        },
        "id": "Qr2oPjLYBqqO",
        "outputId": "62336bef-ad64-41aa-fb11-c668a07f70d3"
      },
      "execution_count": 27,
      "outputs": [
        {
          "output_type": "stream",
          "name": "stdout",
          "text": [
            "0.796102863798257\n"
          ]
        }
      ]
    },
    {
      "cell_type": "code",
      "source": [
        "# 회귀계수가 가장 큰 변수와 값 구하기\n",
        "coefs = model.params\n",
        "max_coef = coefs.idxmax(), coefs.max()  #튜플 타입\n",
        "print(max_coef)"
      ],
      "metadata": {
        "colab": {
          "base_uri": "https://localhost:8080/"
        },
        "id": "7HMvwzWXBzfF",
        "outputId": "271cfbec-227e-472b-bcf9-872a644e6948"
      },
      "execution_count": 29,
      "outputs": [
        {
          "output_type": "stream",
          "name": "stdout",
          "text": [
            "('engineSize', 13051.486542147013)\n"
          ]
        }
      ]
    },
    {
      "cell_type": "code",
      "source": [
        "# p_value가 가장 낮은 변수와 값 구하기\n",
        "pvalues = model.pvalues\n",
        "\n",
        "min_pvalue = pvalues.idxmin(), pvalues.min()\n",
        "print(min_pvalue)"
      ],
      "metadata": {
        "colab": {
          "base_uri": "https://localhost:8080/"
        },
        "id": "2fZ6uNtDCGuV",
        "outputId": "696fa1f2-d3e5-4fd5-c4e4-44f05a360cf9"
      },
      "execution_count": 30,
      "outputs": [
        {
          "output_type": "stream",
          "name": "stdout",
          "text": [
            "('engineSize', 0.0)\n"
          ]
        }
      ]
    }
  ]
}