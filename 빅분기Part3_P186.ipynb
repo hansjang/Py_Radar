{
  "nbformat": 4,
  "nbformat_minor": 0,
  "metadata": {
    "colab": {
      "provenance": [],
      "authorship_tag": "ABX9TyPM/Tc4x/0yK+06WAWAZqVv",
      "include_colab_link": true
    },
    "kernelspec": {
      "name": "python3",
      "display_name": "Python 3"
    },
    "language_info": {
      "name": "python"
    }
  },
  "cells": [
    {
      "cell_type": "markdown",
      "metadata": {
        "id": "view-in-github",
        "colab_type": "text"
      },
      "source": [
        "<a href=\"https://colab.research.google.com/github/hansjang/Py_Radar/blob/main/%EB%B9%85%EB%B6%84%EA%B8%B0Part3_P186.ipynb\" target=\"_parent\"><img src=\"https://colab.research.google.com/assets/colab-badge.svg\" alt=\"Open In Colab\"/></a>"
      ]
    },
    {
      "cell_type": "markdown",
      "source": [
        "(P.186) 1. 실습 A to Z : Moter Trend Car Road Tests"
      ],
      "metadata": {
        "id": "tucrbD_CWheh"
      }
    },
    {
      "cell_type": "markdown",
      "source": [
        "**(1) 문제 : 32가지 자동차의 연료 소비를 포함한 데이터로 차량모델이 미국산인지 타지역인지를 분류하는 분석**"
      ],
      "metadata": {
        "id": "QYqUA-36dYFC"
      }
    },
    {
      "cell_type": "code",
      "execution_count": null,
      "metadata": {
        "id": "b2c8Lg39WGwX"
      },
      "outputs": [],
      "source": [
        "!git clone https://github.com/AnalyticsKnight/yemoonsaBigdata"
      ]
    },
    {
      "cell_type": "markdown",
      "source": [
        "**(2) 사전 준비**\n",
        "\n"
      ],
      "metadata": {
        "id": "MRkNO0vXc8wq"
      }
    },
    {
      "cell_type": "code",
      "source": [
        "import pandas as pd\n",
        "import numpy as np\n",
        "X_test = pd.read_csv(\"/content/yemoonsaBigdata/datasets/Part2/mpg_X_test.csv\")\n",
        "X_train = pd.read_csv(\"/content/yemoonsaBigdata/datasets/Part2/mpg_X_train.csv\")\n",
        "y_train = pd.read_csv(\"/content/yemoonsaBigdata/datasets/Part2/mpg_y_train.csv\")"
      ],
      "metadata": {
        "id": "G4M5l5UpW5Sj"
      },
      "execution_count": 2,
      "outputs": []
    },
    {
      "cell_type": "markdown",
      "source": [
        "**(3) 데이터 전처리**"
      ],
      "metadata": {
        "id": "qlfzt4SIdfRC"
      }
    },
    {
      "cell_type": "code",
      "source": [
        "print(X_train.info())\n",
        "print(X_test.info())\n",
        "print(y_train.info())"
      ],
      "metadata": {
        "colab": {
          "base_uri": "https://localhost:8080/"
        },
        "id": "ZcWN-tbYYDkT",
        "outputId": "3517d1eb-d0dc-41dc-aece-9923d05a4920"
      },
      "execution_count": 5,
      "outputs": [
        {
          "output_type": "stream",
          "name": "stdout",
          "text": [
            "<class 'pandas.core.frame.DataFrame'>\n",
            "RangeIndex: 278 entries, 0 to 277\n",
            "Data columns (total 8 columns):\n",
            " #   Column        Non-Null Count  Dtype  \n",
            "---  ------        --------------  -----  \n",
            " 0   name          278 non-null    object \n",
            " 1   mpg           278 non-null    float64\n",
            " 2   cylinders     278 non-null    int64  \n",
            " 3   displacement  278 non-null    float64\n",
            " 4   horsepower    274 non-null    float64\n",
            " 5   weight        278 non-null    int64  \n",
            " 6   acceleration  278 non-null    float64\n",
            " 7   model_year    278 non-null    int64  \n",
            "dtypes: float64(4), int64(3), object(1)\n",
            "memory usage: 17.5+ KB\n",
            "None\n",
            "<class 'pandas.core.frame.DataFrame'>\n",
            "RangeIndex: 120 entries, 0 to 119\n",
            "Data columns (total 8 columns):\n",
            " #   Column        Non-Null Count  Dtype  \n",
            "---  ------        --------------  -----  \n",
            " 0   name          120 non-null    object \n",
            " 1   mpg           120 non-null    float64\n",
            " 2   cylinders     120 non-null    int64  \n",
            " 3   displacement  120 non-null    float64\n",
            " 4   horsepower    118 non-null    float64\n",
            " 5   weight        120 non-null    int64  \n",
            " 6   acceleration  120 non-null    float64\n",
            " 7   model_year    120 non-null    int64  \n",
            "dtypes: float64(4), int64(3), object(1)\n",
            "memory usage: 7.6+ KB\n",
            "None\n",
            "<class 'pandas.core.frame.DataFrame'>\n",
            "RangeIndex: 278 entries, 0 to 277\n",
            "Data columns (total 1 columns):\n",
            " #   Column  Non-Null Count  Dtype\n",
            "---  ------  --------------  -----\n",
            " 0   isUSA   278 non-null    int64\n",
            "dtypes: int64(1)\n",
            "memory usage: 2.3 KB\n",
            "None\n"
          ]
        }
      ]
    },
    {
      "cell_type": "markdown",
      "source": [
        "**[결측치 처리]**\n",
        "X_train 및 X_test에는 8개의 컬럼이 있으며, horsepower 변수에 X_train의 경우 4개, X_test의 경우 2개의 결측치가 있음을 확인하였다. name 컬럼을 제외한 나머지 컬럼들은 모두 float64, 혹은 int64로서 수치형이므로 별도의 데이터 타입 변경 작업은 필요없을 것으로 보인다. 따라서 horsepower에 대한 결측치부터 처리한다. 결측치는 평균값 대치로 처리했다."
      ],
      "metadata": {
        "id": "OGIITbotYciA"
      }
    },
    {
      "cell_type": "code",
      "source": [
        "from sklearn.impute import SimpleImputer\n",
        "\n",
        "imputer = SimpleImputer(missing_values=np.nan, strategy='mean')\n",
        "X_train[['horsepower']] = imputer.fit_transform(X_train[['horsepower']])\n",
        "X_test[['horsepower']] = imputer.fit_transform(X_test[['horsepower']])"
      ],
      "metadata": {
        "id": "yd5134NOZMWy"
      },
      "execution_count": 6,
      "outputs": []
    },
    {
      "cell_type": "code",
      "source": [
        "print(X_train.info())\n",
        "print(X_test.info())"
      ],
      "metadata": {
        "id": "_dW4xIE4cSwv"
      },
      "execution_count": null,
      "outputs": []
    },
    {
      "cell_type": "code",
      "source": [
        "print(round(X_train.describe(),2))"
      ],
      "metadata": {
        "colab": {
          "base_uri": "https://localhost:8080/"
        },
        "id": "_gxnGZQlcfBb",
        "outputId": "42a1b967-2e90-4a8b-898a-d0280780918e"
      },
      "execution_count": 16,
      "outputs": [
        {
          "output_type": "stream",
          "name": "stdout",
          "text": [
            "          mpg  cylinders  displacement  horsepower   weight  acceleration  \\\n",
            "count  278.00     278.00        278.00      278.00   278.00        278.00   \n",
            "mean    23.73       5.37        189.99      103.38  2948.46         15.58   \n",
            "std      7.65       1.68        105.47       38.70   862.95          2.75   \n",
            "min     10.00       3.00         68.00       46.00  1613.00          8.00   \n",
            "25%     18.00       4.00         98.00       75.00  2206.25         14.00   \n",
            "50%     23.00       4.00        140.50       90.50  2737.50         15.50   \n",
            "75%     29.00       6.00        258.00      118.75  3560.00         17.00   \n",
            "max     46.60       8.00        455.00      230.00  5140.00         24.80   \n",
            "\n",
            "       model_year  \n",
            "count      278.00  \n",
            "mean        76.06  \n",
            "std          3.61  \n",
            "min         70.00  \n",
            "25%         73.00  \n",
            "50%         76.00  \n",
            "75%         79.00  \n",
            "max         82.00  \n"
          ]
        }
      ]
    },
    {
      "cell_type": "markdown",
      "source": [
        "**[변수 형태별 리스트 저장]**\n",
        "변수 형태별로 분류하여 리스트로 저장한다. model_year의 경우 명목형 변수로 생각할 수 있지만, 여기서는 나중에 생산된 모델의 성능이 더 우수할 것이라는 전제를 바탕으로 수치형 변수로 사용하고자 한다. 문자형 변수인 name은 분석에 영향을 미치지 않으므로 제거한다.  "
      ],
      "metadata": {
        "id": "r2JxOOiod03x"
      }
    },
    {
      "cell_type": "code",
      "source": [
        "COL_DEL = ['name']\n",
        "COL_NUM = ['mpg', 'cylinders', 'displacement', 'horsepower', 'weight', 'acceleration', 'model_year']\n",
        "COL_CAT = []\n",
        "COL_Y = ['isUSA']\n",
        "\n",
        "X_train = X_train.iloc[:, 1:]\n",
        "X_test = X_test.iloc[:, 1:]"
      ],
      "metadata": {
        "id": "BnTdCzLBeCYR"
      },
      "execution_count": 9,
      "outputs": []
    },
    {
      "cell_type": "code",
      "source": [
        "print(X_train.info())\n",
        "print(X_test.info())"
      ],
      "metadata": {
        "id": "5PvtI1_dfdmx"
      },
      "execution_count": null,
      "outputs": []
    },
    {
      "cell_type": "markdown",
      "source": [
        "**(4) 데이터 모형 구축**\n",
        "\n"
      ],
      "metadata": {
        "id": "K2yLQ2Nhfn2u"
      }
    },
    {
      "cell_type": "code",
      "source": [
        "from sklearn.model_selection import train_test_split\n",
        "X_tr, X_val, y_tr, y_val = train_test_split(X_train, y_train, test_size = 0.3)"
      ],
      "metadata": {
        "id": "s9WkAlIyfm_E"
      },
      "execution_count": 11,
      "outputs": []
    },
    {
      "cell_type": "markdown",
      "source": [
        "**[스케일링 처리]**\n",
        "수치형 변수들의 범위 차이에 따른 영향력이 왜곡되지 않도록 동일한 조건에서 분석하기 위해 스케일링을 진행한다."
      ],
      "metadata": {
        "id": "Q9f_6O99iAld"
      }
    },
    {
      "cell_type": "code",
      "source": [
        "from sklearn.preprocessing import StandardScaler\n",
        "\n",
        "scaler = StandardScaler()\n",
        "scaler.fit(X_tr[COL_NUM])\n",
        "X_tr[COL_NUM] = scaler.transform(X_tr[COL_NUM])\n",
        "X_val[COL_NUM] = scaler.transform(X_val[COL_NUM])\n",
        "X_test[COL_NUM] = scaler.transform(X_test[COL_NUM])"
      ],
      "metadata": {
        "id": "QCCNo17Fh41P"
      },
      "execution_count": 12,
      "outputs": []
    },
    {
      "cell_type": "code",
      "source": [
        "print(round(X_tr.describe(), 2))\n",
        "print(round(X_val.describe(), 2))\n",
        "print(round(X_test.describe(), 2))"
      ],
      "metadata": {
        "colab": {
          "base_uri": "https://localhost:8080/"
        },
        "id": "CrDLK47Ui0Pn",
        "outputId": "b48110af-2d15-4d5a-fefd-52d7fe8efd3f"
      },
      "execution_count": 15,
      "outputs": [
        {
          "output_type": "stream",
          "name": "stdout",
          "text": [
            "          mpg  cylinders  displacement  horsepower  weight  acceleration  \\\n",
            "count  194.00     194.00        194.00      194.00  194.00        194.00   \n",
            "mean    -0.00       0.00         -0.00        0.00   -0.00          0.00   \n",
            "std      1.00       1.00          1.00        1.00    1.00          1.00   \n",
            "min     -1.86      -1.39         -1.13       -1.48   -1.53         -2.81   \n",
            "25%     -0.80      -0.78         -0.84       -0.70   -0.85         -0.62   \n",
            "50%     -0.00      -0.78         -0.43       -0.31   -0.25         -0.07   \n",
            "75%      0.71       0.45          0.65        0.23    0.61          0.54   \n",
            "max      2.98       1.67          2.66        3.30    2.63          3.32   \n",
            "\n",
            "       model_year  \n",
            "count      194.00  \n",
            "mean         0.00  \n",
            "std          1.00  \n",
            "min         -1.65  \n",
            "25%         -0.84  \n",
            "50%         -0.03  \n",
            "75%          0.78  \n",
            "max          1.59  \n",
            "         mpg  cylinders  displacement  horsepower  weight  acceleration  \\\n",
            "count  84.00      84.00         84.00       84.00   84.00         84.00   \n",
            "mean   -0.13       0.20          0.21        0.17    0.15         -0.15   \n",
            "std     1.03       1.08          1.09        1.10    1.06          1.00   \n",
            "min    -1.72      -1.39         -1.05       -1.43   -1.49         -2.63   \n",
            "25%    -1.00      -0.78         -0.81       -0.71   -0.81         -0.80   \n",
            "50%    -0.30       0.45         -0.00       -0.17   -0.04         -0.13   \n",
            "75%     0.66       1.67          1.18        0.99    1.10          0.40   \n",
            "max     2.52       1.67          2.65        3.43    2.11          2.84   \n",
            "\n",
            "       model_year  \n",
            "count       84.00  \n",
            "mean        -0.05  \n",
            "std          0.91  \n",
            "min         -1.65  \n",
            "25%         -0.84  \n",
            "50%         -0.03  \n",
            "75%          0.51  \n",
            "max          1.59  \n",
            "          mpg  cylinders  displacement  horsepower  weight  acceleration  \\\n",
            "count  120.00     120.00        120.00      120.00  120.00        120.00   \n",
            "mean    -0.14       0.23          0.18        0.15    0.13         -0.06   \n",
            "std      1.08       1.07          0.99        0.99    0.96          1.02   \n",
            "min     -1.99      -1.39         -1.11       -1.43   -1.36         -2.63   \n",
            "25%     -1.06      -0.78         -0.73       -0.49   -0.69         -0.80   \n",
            "50%     -0.30       0.45         -0.06       -0.11    0.02         -0.07   \n",
            "75%      0.46       1.67          1.16        1.01    0.86          0.63   \n",
            "max      2.68       1.67          2.66        3.30    2.36          3.25   \n",
            "\n",
            "       model_year  \n",
            "count      120.00  \n",
            "mean        -0.06  \n",
            "std          1.06  \n",
            "min         -1.65  \n",
            "25%         -0.91  \n",
            "50%         -0.03  \n",
            "75%          0.78  \n",
            "max          1.59  \n"
          ]
        }
      ]
    },
    {
      "cell_type": "markdown",
      "source": [
        "**[분류모형 학습]**\n",
        "sklearn 패키지를 이용하여 KNN, 의사결정나무 모델을 만든다."
      ],
      "metadata": {
        "id": "pODNoamzkLab"
      }
    },
    {
      "cell_type": "code",
      "source": [
        "from sklearn.neighbors import KNeighborsClassifier\n",
        "modelKNN = KNeighborsClassifier(n_neighbors=5, metric='euclidean')\n",
        "modelKNN.fit(X_tr, y_tr.values.ravel())\n",
        "# ravel() : 1차원 배열의 타깃 벡터로 변환\n",
        "\n",
        "from sklearn.tree import DecisionTreeClassifier\n",
        "modelDT = DecisionTreeClassifier(max_depth = 10)\n",
        "modelDT.fit(X_tr, y_tr)"
      ],
      "metadata": {
        "colab": {
          "base_uri": "https://localhost:8080/",
          "height": 75
        },
        "id": "E12FBGMhj7mI",
        "outputId": "366d900f-f02a-4801-efed-87735d69214e"
      },
      "execution_count": 19,
      "outputs": [
        {
          "output_type": "execute_result",
          "data": {
            "text/plain": [
              "DecisionTreeClassifier(max_depth=10)"
            ],
            "text/html": [
              "<style>#sk-container-id-1 {color: black;}#sk-container-id-1 pre{padding: 0;}#sk-container-id-1 div.sk-toggleable {background-color: white;}#sk-container-id-1 label.sk-toggleable__label {cursor: pointer;display: block;width: 100%;margin-bottom: 0;padding: 0.3em;box-sizing: border-box;text-align: center;}#sk-container-id-1 label.sk-toggleable__label-arrow:before {content: \"▸\";float: left;margin-right: 0.25em;color: #696969;}#sk-container-id-1 label.sk-toggleable__label-arrow:hover:before {color: black;}#sk-container-id-1 div.sk-estimator:hover label.sk-toggleable__label-arrow:before {color: black;}#sk-container-id-1 div.sk-toggleable__content {max-height: 0;max-width: 0;overflow: hidden;text-align: left;background-color: #f0f8ff;}#sk-container-id-1 div.sk-toggleable__content pre {margin: 0.2em;color: black;border-radius: 0.25em;background-color: #f0f8ff;}#sk-container-id-1 input.sk-toggleable__control:checked~div.sk-toggleable__content {max-height: 200px;max-width: 100%;overflow: auto;}#sk-container-id-1 input.sk-toggleable__control:checked~label.sk-toggleable__label-arrow:before {content: \"▾\";}#sk-container-id-1 div.sk-estimator input.sk-toggleable__control:checked~label.sk-toggleable__label {background-color: #d4ebff;}#sk-container-id-1 div.sk-label input.sk-toggleable__control:checked~label.sk-toggleable__label {background-color: #d4ebff;}#sk-container-id-1 input.sk-hidden--visually {border: 0;clip: rect(1px 1px 1px 1px);clip: rect(1px, 1px, 1px, 1px);height: 1px;margin: -1px;overflow: hidden;padding: 0;position: absolute;width: 1px;}#sk-container-id-1 div.sk-estimator {font-family: monospace;background-color: #f0f8ff;border: 1px dotted black;border-radius: 0.25em;box-sizing: border-box;margin-bottom: 0.5em;}#sk-container-id-1 div.sk-estimator:hover {background-color: #d4ebff;}#sk-container-id-1 div.sk-parallel-item::after {content: \"\";width: 100%;border-bottom: 1px solid gray;flex-grow: 1;}#sk-container-id-1 div.sk-label:hover label.sk-toggleable__label {background-color: #d4ebff;}#sk-container-id-1 div.sk-serial::before {content: \"\";position: absolute;border-left: 1px solid gray;box-sizing: border-box;top: 0;bottom: 0;left: 50%;z-index: 0;}#sk-container-id-1 div.sk-serial {display: flex;flex-direction: column;align-items: center;background-color: white;padding-right: 0.2em;padding-left: 0.2em;position: relative;}#sk-container-id-1 div.sk-item {position: relative;z-index: 1;}#sk-container-id-1 div.sk-parallel {display: flex;align-items: stretch;justify-content: center;background-color: white;position: relative;}#sk-container-id-1 div.sk-item::before, #sk-container-id-1 div.sk-parallel-item::before {content: \"\";position: absolute;border-left: 1px solid gray;box-sizing: border-box;top: 0;bottom: 0;left: 50%;z-index: -1;}#sk-container-id-1 div.sk-parallel-item {display: flex;flex-direction: column;z-index: 1;position: relative;background-color: white;}#sk-container-id-1 div.sk-parallel-item:first-child::after {align-self: flex-end;width: 50%;}#sk-container-id-1 div.sk-parallel-item:last-child::after {align-self: flex-start;width: 50%;}#sk-container-id-1 div.sk-parallel-item:only-child::after {width: 0;}#sk-container-id-1 div.sk-dashed-wrapped {border: 1px dashed gray;margin: 0 0.4em 0.5em 0.4em;box-sizing: border-box;padding-bottom: 0.4em;background-color: white;}#sk-container-id-1 div.sk-label label {font-family: monospace;font-weight: bold;display: inline-block;line-height: 1.2em;}#sk-container-id-1 div.sk-label-container {text-align: center;}#sk-container-id-1 div.sk-container {/* jupyter's `normalize.less` sets `[hidden] { display: none; }` but bootstrap.min.css set `[hidden] { display: none !important; }` so we also need the `!important` here to be able to override the default hidden behavior on the sphinx rendered scikit-learn.org. See: https://github.com/scikit-learn/scikit-learn/issues/21755 */display: inline-block !important;position: relative;}#sk-container-id-1 div.sk-text-repr-fallback {display: none;}</style><div id=\"sk-container-id-1\" class=\"sk-top-container\"><div class=\"sk-text-repr-fallback\"><pre>DecisionTreeClassifier(max_depth=10)</pre><b>In a Jupyter environment, please rerun this cell to show the HTML representation or trust the notebook. <br />On GitHub, the HTML representation is unable to render, please try loading this page with nbviewer.org.</b></div><div class=\"sk-container\" hidden><div class=\"sk-item\"><div class=\"sk-estimator sk-toggleable\"><input class=\"sk-toggleable__control sk-hidden--visually\" id=\"sk-estimator-id-1\" type=\"checkbox\" checked><label for=\"sk-estimator-id-1\" class=\"sk-toggleable__label sk-toggleable__label-arrow\">DecisionTreeClassifier</label><div class=\"sk-toggleable__content\"><pre>DecisionTreeClassifier(max_depth=10)</pre></div></div></div></div></div>"
            ]
          },
          "metadata": {},
          "execution_count": 19
        }
      ]
    },
    {
      "cell_type": "markdown",
      "source": [
        "**(5) 데이터 모형 평가**"
      ],
      "metadata": {
        "id": "TBVfFXYflnId"
      }
    },
    {
      "cell_type": "code",
      "source": [
        "y_val_pred = modelKNN.predict(X_val)\n",
        "# predict() : 예측값을 구한다\n",
        "\n",
        "y_val_pred_probaKNN = modelKNN.predict_proba(X_val)\n",
        "y_val_pred_probaDT = modelDT.predict_proba(X_val)\n",
        "# predict_proba() : 예측확률값을 구한다"
      ],
      "metadata": {
        "id": "GKfZ8q-ZlrN2"
      },
      "execution_count": 20,
      "outputs": []
    },
    {
      "cell_type": "code",
      "source": [
        "from sklearn.metrics import roc_auc_score\n",
        "\n",
        "scoreKNN = roc_auc_score(y_val, y_val_pred_probaKNN[:, 1])\n",
        "scoreDT = roc_auc_score(y_val, y_val_pred_probaDT[:, 1])\n",
        "\n",
        "print(scoreKNN, scoreDT)"
      ],
      "metadata": {
        "colab": {
          "base_uri": "https://localhost:8080/"
        },
        "id": "yCsmmcqDm9Rx",
        "outputId": "71e266a3-428a-42b8-96de-a7ed7b7ff309"
      },
      "execution_count": 23,
      "outputs": [
        {
          "output_type": "stream",
          "name": "stdout",
          "text": [
            "0.937962962962963 0.862962962962963\n"
          ]
        }
      ]
    },
    {
      "cell_type": "markdown",
      "source": [
        "AUROC 점수를 구한 결과, KNN모형이 DT모형보다 높은 점수를 기록했다. KNN 모형에서 여러 하이퍼파라미터를 학습해 최적의 모형을 도출하고자 한다."
      ],
      "metadata": {
        "id": "YQFBfgT3nud_"
      }
    },
    {
      "cell_type": "code",
      "source": [
        "best_model = None\n",
        "best_score = 0\n",
        "\n",
        "for i in range(2, 10) :\n",
        "  model = KNeighborsClassifier(n_neighbors=i, metric='euclidean')\n",
        "  model.fit(X_tr, y_tr.values.ravel())\n",
        "  y_val_pred_proba = model.predict_proba(X_val)\n",
        "  score = roc_auc_score(y_val, y_val_pred_proba[:, 1])\n",
        "  print(i, \"개의 이웃 확인 : \", score)\n",
        "  if best_score <= score :\n",
        "    best_model = model"
      ],
      "metadata": {
        "colab": {
          "base_uri": "https://localhost:8080/"
        },
        "id": "rYhP6Y5foSNv",
        "outputId": "745ace7a-fbed-4375-8045-a21355611452"
      },
      "execution_count": 28,
      "outputs": [
        {
          "output_type": "stream",
          "name": "stdout",
          "text": [
            "2 개의 이웃 확인 :  0.9182098765432098\n",
            "3 개의 이웃 확인 :  0.9148148148148147\n",
            "4 개의 이웃 확인 :  0.9293209876543209\n",
            "5 개의 이웃 확인 :  0.937962962962963\n",
            "6 개의 이웃 확인 :  0.9305555555555556\n",
            "7 개의 이웃 확인 :  0.9345679012345679\n",
            "8 개의 이웃 확인 :  0.9354938271604938\n",
            "9 개의 이웃 확인 :  0.9530864197530864\n"
          ]
        }
      ]
    },
    {
      "cell_type": "markdown",
      "source": [
        "KNN 모형에서 하이퍼파라미터인 n_neighbors 값을 2부터 9까지 차례로 넣어본 결과 n_neighbors = 9 인 모델이 best model로 저장된다."
      ],
      "metadata": {
        "id": "CBdMv0nPqW0c"
      }
    },
    {
      "cell_type": "code",
      "source": [
        "print(best_model)"
      ],
      "metadata": {
        "colab": {
          "base_uri": "https://localhost:8080/"
        },
        "id": "xTYmmE5Lqkw5",
        "outputId": "c72b6744-30d0-4c70-b480-ee643575df82"
      },
      "execution_count": 29,
      "outputs": [
        {
          "output_type": "stream",
          "name": "stdout",
          "text": [
            "KNeighborsClassifier(metric='euclidean', n_neighbors=9)\n"
          ]
        }
      ]
    },
    {
      "cell_type": "code",
      "source": [
        "print(best_model.predict_proba(X_test))"
      ],
      "metadata": {
        "id": "1wPz2kLMqxie"
      },
      "execution_count": null,
      "outputs": []
    },
    {
      "cell_type": "code",
      "source": [
        "pred = best_model.predict_proba(X_test)[:,1]\n",
        "print(pred)"
      ],
      "metadata": {
        "colab": {
          "base_uri": "https://localhost:8080/"
        },
        "id": "aex8ZfEDrB_P",
        "outputId": "65a176bc-ce26-4d44-acf4-422a8fa200bc"
      },
      "execution_count": 31,
      "outputs": [
        {
          "output_type": "stream",
          "name": "stdout",
          "text": [
            "[0.22222222 0.77777778 1.         1.         0.22222222 0.33333333\n",
            " 0.44444444 0.44444444 0.44444444 0.55555556 1.         0.55555556\n",
            " 1.         0.44444444 0.22222222 0.33333333 1.         1.\n",
            " 0.22222222 1.         1.         0.88888889 1.         1.\n",
            " 1.         0.55555556 0.33333333 1.         1.         0.44444444\n",
            " 0.         0.11111111 0.33333333 1.         1.         0.55555556\n",
            " 0.55555556 1.         0.33333333 0.55555556 1.         0.33333333\n",
            " 0.11111111 0.55555556 0.22222222 0.44444444 0.33333333 1.\n",
            " 0.33333333 1.         0.         0.22222222 1.         0.11111111\n",
            " 1.         1.         1.         0.77777778 1.         0.33333333\n",
            " 1.         0.77777778 1.         1.         0.88888889 1.\n",
            " 1.         0.33333333 0.66666667 0.11111111 0.88888889 1.\n",
            " 0.44444444 0.11111111 1.         0.44444444 1.         0.44444444\n",
            " 0.44444444 1.         1.         1.         0.         1.\n",
            " 1.         0.88888889 0.22222222 0.11111111 0.22222222 1.\n",
            " 1.         1.         1.         1.         1.         0.88888889\n",
            " 0.22222222 1.         1.         1.         1.         1.\n",
            " 1.         1.         1.         0.22222222 0.44444444 0.88888889\n",
            " 0.11111111 1.         0.22222222 1.         0.11111111 1.\n",
            " 1.         0.         1.         1.         1.         0.        ]\n"
          ]
        }
      ]
    },
    {
      "cell_type": "markdown",
      "source": [
        "**[최종]**\n",
        "결과물을 파일로 저장한다."
      ],
      "metadata": {
        "id": "_T-5Tz50rWK6"
      }
    },
    {
      "cell_type": "code",
      "source": [
        "pd.DataFrame({'isUSA' : pred}).to_csv('./240805_P186.csv')"
      ],
      "metadata": {
        "id": "dx6bOCVQrZbZ"
      },
      "execution_count": 32,
      "outputs": []
    }
  ]
}