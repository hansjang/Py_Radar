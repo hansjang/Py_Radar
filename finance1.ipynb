{
  "nbformat": 4,
  "nbformat_minor": 0,
  "metadata": {
    "colab": {
      "provenance": [],
      "authorship_tag": "ABX9TyMnWRG+/pHdMv0MJ6F5GwDR",
      "include_colab_link": true
    },
    "kernelspec": {
      "name": "python3",
      "display_name": "Python 3"
    },
    "language_info": {
      "name": "python"
    }
  },
  "cells": [
    {
      "cell_type": "markdown",
      "metadata": {
        "id": "view-in-github",
        "colab_type": "text"
      },
      "source": [
        "<a href=\"https://colab.research.google.com/github/hansjang/Py_Radar/blob/main/finance1.ipynb\" target=\"_parent\"><img src=\"https://colab.research.google.com/assets/colab-badge.svg\" alt=\"Open In Colab\"/></a>"
      ]
    },
    {
      "cell_type": "code",
      "execution_count": 20,
      "metadata": {
        "id": "DF2ynVoabnIJ"
      },
      "outputs": [],
      "source": [
        "# 네이버 뉴스 수집해서 엑셀로 저장하기\n",
        "# !pip install bs4 requests\n",
        "import requests\n",
        "from bs4 import BeautifulSoup\n",
        "\n",
        "# !pip install openpyxl\n",
        "from openpyxl import Workbook\n",
        "\n",
        "from datetime import datetime\n",
        "\n",
        "def get_news(keyword):\n",
        "    wb= Workbook()\n",
        "    sheet = wb.active\n",
        "\n",
        "    headers = {\n",
        "        'User-Agent': 'Mozilla/5.0 (Windows NT 10.0; Win64; x64; rv:89.0) Gecko/20100101 Firefox/89.0',\n",
        "        'Accept-Language': 'en-US,en;q=0.5',\n",
        "        'Referer': 'https://www.naver.com/'\n",
        "    }\n",
        "    url = f'https://search.naver.com/search.naver?sm=tab_hty.top&where=nexearch&query={keyword}'\n",
        "\n",
        "    try:\n",
        "        response = requests.get(url, headers=headers)\n",
        "        response.raise_for_status()\n",
        "    except requests.RequestException as e:\n",
        "        print(f\"Error fetching data: {e}\")\n",
        "        return\n",
        "\n",
        "    soup = BeautifulSoup(response.text, 'html.parser')\n",
        "\n",
        "    # Updated CSS selector to accurately select news articles\n",
        "    lis = soup.select('div.group_news > ul > li')\n",
        "\n",
        "    if not lis:\n",
        "        print(\"No news articles found.\")\n",
        "        return\n",
        "\n",
        "    for li in lis:\n",
        "        a = li.select_one('a.news_tit')\n",
        "        row = [a.text, a['href']]\n",
        "        sheet.append(row)\n",
        "\n",
        "    today = datetime.today().strftime(\"%Y-%m-%d\")\n",
        "\n",
        "    wb.save(f\"news/{today}_{keyword}.xlsx\")\n",
        "    wb.close()\n",
        "\n"
      ]
    },
    {
      "cell_type": "code",
      "source": [
        "# 다수 키워드 수집\n",
        "keywords = ['삼성전자', '현대자동차', 'lg전자', 'sk', '기아', '두산중공업', '삼성물산', '삼성바이오로직스', '삼성생명', '삼성전기']\n",
        "\n",
        "for keyword in keywords:\n",
        "  print(keyword)\n",
        "  get_news(keyword)"
      ],
      "metadata": {
        "collapsed": true,
        "id": "MIvahoiYcRwu"
      },
      "execution_count": null,
      "outputs": []
    },
    {
      "cell_type": "code",
      "source": [
        "# 파일명 바꾸기\n",
        "import os\n",
        "\n",
        "path = '/content/news'\n",
        "files = os.listdir(path)\n",
        "\n",
        "for name in files:\n",
        "  new_name = name.split('.')[0]+'(뉴스).xlsx'\n",
        "  os.rename(f'/content/news/{name}', f'/content/news/{new_name}')"
      ],
      "metadata": {
        "id": "abzyOPVdqQL0"
      },
      "execution_count": 24,
      "outputs": []
    },
    {
      "cell_type": "code",
      "source": [
        "# 엑셀파일에 저장된 주식 코드 불러와서 이미지 다운받기\n",
        "import urllib.request\n",
        "\n",
        "import openpyxl\n",
        "wb = openpyxl.load_workbook('관리종목2024.xlsx')\n",
        "sheet = wb['종목']\n",
        "\n",
        "new_rows = list(sheet.rows)[1:]\n",
        "\n",
        "for row in new_rows:\n",
        "  code = row[1].value\n",
        "  name = row[0].value\n",
        "  url = f'https://ssl.pstatic.net/imgfinance/chart/item/area/year3/{code}.png'\n",
        "  urllib.request.urlretrieve(url, f\"imgs/{name}.png\")"
      ],
      "metadata": {
        "id": "Iwi_i16M5zzg"
      },
      "execution_count": 29,
      "outputs": []
    },
    {
      "cell_type": "code",
      "source": [
        "# 압축해서 다운받기\n",
        "!zip -r /content/files.zip /content/imgs"
      ],
      "metadata": {
        "id": "zeY3YaFq7hxE"
      },
      "execution_count": null,
      "outputs": []
    }
  ]
}