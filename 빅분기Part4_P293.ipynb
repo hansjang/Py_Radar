{
  "nbformat": 4,
  "nbformat_minor": 0,
  "metadata": {
    "colab": {
      "provenance": [],
      "authorship_tag": "ABX9TyOovOmCi0hfQlk3s5bfalJg",
      "include_colab_link": true
    },
    "kernelspec": {
      "name": "python3",
      "display_name": "Python 3"
    },
    "language_info": {
      "name": "python"
    }
  },
  "cells": [
    {
      "cell_type": "markdown",
      "metadata": {
        "id": "view-in-github",
        "colab_type": "text"
      },
      "source": [
        "<a href=\"https://colab.research.google.com/github/hansjang/Py_Radar/blob/main/%EB%B9%85%EB%B6%84%EA%B8%B0Part4_P293.ipynb\" target=\"_parent\"><img src=\"https://colab.research.google.com/assets/colab-badge.svg\" alt=\"Open In Colab\"/></a>"
      ]
    },
    {
      "cell_type": "code",
      "execution_count": null,
      "metadata": {
        "collapsed": true,
        "id": "sOhz_jatp1pF"
      },
      "outputs": [],
      "source": [
        "!git clone https://github.com/AnalyticsKnight/yemoonsaBigdata"
      ]
    },
    {
      "cell_type": "markdown",
      "source": [
        "# (1) 단일표본 t-검정 : Airquality"
      ],
      "metadata": {
        "id": "HDHL5olA71u0"
      }
    },
    {
      "cell_type": "code",
      "source": [
        "import pandas as pd\n",
        "import scipy.stats as stats\n",
        "from math import sqrt\n",
        "\n",
        "a = pd.read_csv('/content/yemoonsaBigdata/datasets/supplement/airquality.csv')\n",
        "\n",
        "X = a['Wind'].mean()\n",
        "print('X_bar =', round(X, 2))\n",
        "\n",
        "t_score, p_value = stats.ttest_1samp(a['Wind'], 10)\n",
        "\n",
        "print('t_score =', round(t_score, 2))\n",
        "print('p_value =', round(p_value, 2))\n",
        "\n",
        "if p_value >= 0.05:\n",
        "  print('귀무가설 채택')\n",
        "else:\n",
        "  print('귀무가설 기각')"
      ],
      "metadata": {
        "colab": {
          "base_uri": "https://localhost:8080/"
        },
        "id": "Ha04dQQn5mCg",
        "outputId": "8369eafb-15d2-409e-ae0e-79bae3186b14"
      },
      "execution_count": 10,
      "outputs": [
        {
          "output_type": "stream",
          "name": "stdout",
          "text": [
            "X_bar = 9.96\n",
            "t_score = -0.15\n",
            "p_value = 0.88\n",
            "귀무가설 채택\n"
          ]
        }
      ]
    },
    {
      "cell_type": "markdown",
      "source": [
        "# (2) 독립표본 t-검정 : Chickweight"
      ],
      "metadata": {
        "id": "FDN6kxrJ7_TL"
      }
    },
    {
      "cell_type": "code",
      "source": [
        "import pandas as pd\n",
        "import scipy.stats as stats\n",
        "from math import sqrt\n",
        "\n",
        "a = pd.read_csv('/content/yemoonsaBigdata/datasets/supplement/chickweight.csv')\n",
        "\n",
        "# print(a.info())\n",
        "# print(a['Diet'].unique())\n",
        "\n",
        "a1 = a.loc[a.Diet == 1]\n",
        "a4 = a.loc[a.Diet == 4]\n",
        "\n",
        "a1_X = a1['weight'].mean()\n",
        "a4_X = a4['weight'].mean()\n",
        "\n",
        "print(round(a1_X, 2), round(a4_X, 2))\n",
        "\n",
        "t_score, p_value = stats.ttest_ind(a1['weight'], a4['weight'], equal_var=False)\n",
        "print('t_score =', round(t_score,2))\n",
        "print('p_value =', round(p_value,2))\n",
        "\n",
        "if p_value >= 0.05:\n",
        "  print('귀무가설 채택')\n",
        "else:\n",
        "  print('귀무가설 기각')"
      ],
      "metadata": {
        "colab": {
          "base_uri": "https://localhost:8080/"
        },
        "id": "CQNSXNUS7WYa",
        "outputId": "6e6bd258-3317-4c6f-bf9b-d632b790fbf5"
      },
      "execution_count": 12,
      "outputs": [
        {
          "output_type": "stream",
          "name": "stdout",
          "text": [
            "102.65 135.26\n",
            "t_score = -4.41\n",
            "p_value = 0.0\n",
            "귀무가설 기각\n"
          ]
        }
      ]
    },
    {
      "cell_type": "markdown",
      "source": [
        "# (3) 일원분산분석(One-way ANOVA) : StudentsPerformance 1"
      ],
      "metadata": {
        "id": "dF0-zbl5-6U8"
      }
    },
    {
      "cell_type": "code",
      "source": [
        "import pandas as pd\n",
        "import scipy.stats as stats\n",
        "from math import sqrt\n",
        "\n",
        "a = pd.read_csv('/content/yemoonsaBigdata/datasets/supplement/StudentsPerformance1.csv', encoding='cp949')\n",
        "\n",
        "# print(a.info())\n",
        "# print(a['인종'].unique())\n",
        "\n",
        "X_A = a.loc[a.인종 == 'A그룹', '수학 점수']\n",
        "X_B = a.loc[a.인종 == 'B그룹', '수학 점수']\n",
        "X_C = a.loc[a.인종 == 'C그룹', '수학 점수']\n",
        "X_D = a.loc[a.인종 == 'D그룹', '수학 점수']\n",
        "\n",
        "X_A_mean = X_A.mean()\n",
        "X_B_mean = X_B.mean()\n",
        "X_C_mean = X_C.mean()\n",
        "X_D_mean = X_D.mean()\n",
        "\n",
        "print(round(X_A_mean, 2), round(X_B_mean, 2),round(X_C_mean, 2),round(X_D_mean, 2))\n",
        "\n",
        "test_result = stats.f_oneway(X_A, X_B, X_C, X_D)\n",
        "print('f_statistic =', round(test_result.statistic, 2))\n",
        "\n",
        "p_value = test_result.pvalue\n",
        "print('p_value =', round(p_value,4))\n",
        "\n",
        "if p_value >= 0.05:\n",
        "  print('귀무가설 채택')\n",
        "else:\n",
        "  print('귀무가설 기각')"
      ],
      "metadata": {
        "colab": {
          "base_uri": "https://localhost:8080/"
        },
        "id": "wMaz92yQ_uC1",
        "outputId": "3850eac5-7eea-4734-a1fb-b14cc1aad579"
      },
      "execution_count": 21,
      "outputs": [
        {
          "output_type": "stream",
          "name": "stdout",
          "text": [
            "61.63 63.45 64.46 67.36\n",
            "f_statistic = 4.66\n",
            "p_value = 0.0031\n",
            "귀무가설 기각\n"
          ]
        }
      ]
    },
    {
      "cell_type": "markdown",
      "source": [
        "# (4) 카이제곱검정 : StudentPerformance 2"
      ],
      "metadata": {
        "id": "qDoEeySyJCv3"
      }
    },
    {
      "cell_type": "code",
      "source": [
        "import pandas as pd\n",
        "import scipy.stats as stats\n",
        "from math import sqrt\n",
        "from tabulate import tabulate\n",
        "\n",
        "a = pd.read_csv('/content/yemoonsaBigdata/datasets/supplement/StudentsPerformance2.csv', encoding = 'cp949')\n",
        "\n",
        "# print(a.info())\n",
        "# print(a['성별'].unique())\n",
        "# print(a['부모 학력 수준'].unique())\n",
        "# print(a['학업 성적'].unique())\n",
        "\n",
        "table = pd.crosstab(a['성별'], a['학업 성적'])\n",
        "print(tabulate(table, headers='keys', tablefmt='grid'))\n",
        "\n",
        "X1 = table.loc['남성', :]\n",
        "X2 = table.loc['여성', :]\n",
        "\n",
        "X1_G = X1['우수']\n",
        "X2_G = X2['우수']\n",
        "\n",
        "print('학업 성적 우수한 남학생과 여학생 수의 차이 =', int(abs(X1_G - X2_G)), '명')\n",
        "\n",
        "test_result = stats.chi2_contingency([X1, X2])\n",
        "print('chi2_statistic =', round(test_result.statistic, 2))\n",
        "\n",
        "p_value = test_result.pvalue\n",
        "print('p_value =', round(p_value, 4))\n",
        "\n",
        "if p_value >= 0.05:\n",
        "  print('귀무가설 채택')\n",
        "else:\n",
        "  print('귀무가설 기각')"
      ],
      "metadata": {
        "colab": {
          "base_uri": "https://localhost:8080/"
        },
        "id": "W-2hPD6UJCUA",
        "outputId": "a6e587d2-803d-4753-9bad-ae057692d5cc"
      },
      "execution_count": 36,
      "outputs": [
        {
          "output_type": "stream",
          "name": "stdout",
          "text": [
            "+--------+--------+--------+--------+\n",
            "| 성별   |   낮음 |   보통 |   우수 |\n",
            "+========+========+========+========+\n",
            "| 남성   |    115 |    283 |     84 |\n",
            "+--------+--------+--------+--------+\n",
            "| 여성   |     83 |    313 |    122 |\n",
            "+--------+--------+--------+--------+\n",
            "학업 성적 우수한 남학생과 여학생 수의 차이 = 38 명\n",
            "chi2_statistic = 12.41\n",
            "p_value = 0.002\n",
            "귀무가설 기각\n"
          ]
        }
      ]
    },
    {
      "cell_type": "markdown",
      "source": [
        "# (5) 다중회귀 분석모델 : Airquality"
      ],
      "metadata": {
        "id": "heeGUx7-NZ4B"
      }
    },
    {
      "cell_type": "code",
      "source": [
        "import pandas as pd\n",
        "import statsmodels.api as sm\n",
        "from tabulate import tabulate\n",
        "\n",
        "df = pd.read_csv('/content/yemoonsaBigdata/datasets/supplement/airquality.csv')\n",
        "\n",
        "# print(df.info())\n",
        "# print(tabulate(df, headers='keys', tablefmt='grid'))\n",
        "\n",
        "# 결측값 제거(drop)\n",
        "df = df.dropna(axis = 0)\n",
        "# print(df.info())\n",
        "\n",
        "# 회귀분석 y = Ozone, x = Solar.R, Wind, Temp, Month\n",
        "X = df[['Solar.R', 'Wind', 'Temp', 'Month']]\n",
        "y = df[['Ozone']]\n",
        "\n",
        "# 다중회귀모델 생성\n",
        "model = sm.OLS(y, X).fit()\n",
        "summary = model.summary()\n",
        "# print(summary)\n",
        "\n",
        "# 결정계수 구하기\n",
        "r2 = model.rsquared\n",
        "print('R2 결정계수 =', r2)\n",
        "\n",
        "# 회귀계수가 가장 큰 변수와 값 구하기\n",
        "param = model.params\n",
        "max_coef = param.idxmax(), round(param.max(),4)\n",
        "print('회귀계수가 가장 큰 변수와 값 =', max_coef)\n",
        "\n",
        "\n",
        "# p-value 가 가장 낮은 변수와 값 구하기\n",
        "pvalues = model.pvalues\n",
        "min_pval = pvalues.idxmin(), round(pvalues.min(),4)\n",
        "print('p-value가 가장 낮은 변수와 값 =', min_pval)"
      ],
      "metadata": {
        "colab": {
          "base_uri": "https://localhost:8080/"
        },
        "id": "96y2V-k_NZDR",
        "outputId": "c956e802-e639-456b-b5e8-0db1fe76803c"
      },
      "execution_count": 44,
      "outputs": [
        {
          "output_type": "stream",
          "name": "stdout",
          "text": [
            "R2 결정계수 = 0.8458815759413625\n",
            "회귀계수가 가장 큰 변수와 값 = ('Temp', 1.3196)\n",
            "p-value가 가장 낮은 변수와 값 = ('Wind', 0.0)\n"
          ]
        }
      ]
    }
  ]
}